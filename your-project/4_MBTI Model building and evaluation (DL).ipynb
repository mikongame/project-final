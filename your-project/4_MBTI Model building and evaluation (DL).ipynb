{
 "cells": [
  {
   "cell_type": "code",
   "execution_count": 1,
   "metadata": {
    "ExecuteTime": {
     "end_time": "2020-05-28T15:33:16.668386Z",
     "start_time": "2020-05-28T15:33:12.078639Z"
    }
   },
   "outputs": [
    {
     "name": "stderr",
     "output_type": "stream",
     "text": [
      "Using TensorFlow backend.\n"
     ]
    }
   ],
   "source": [
    "import re\n",
    "import pandas as pd\n",
    "import numpy as np\n",
    "import spacy\n",
    "import matplotlib.pyplot as plt\n",
    "\n",
    "import pickle as pkl\n",
    "\n",
    "from sklearn.model_selection import train_test_split\n",
    "\n",
    "import keras.metrics\n",
    "from keras import regularizers, initializers, optimizers, callbacks\n",
    "from keras.preprocessing.sequence import pad_sequences\n",
    "from keras.preprocessing.text import Tokenizer\n",
    "from keras.utils.np_utils import to_categorical\n",
    "from keras.layers import *\n",
    "from keras.models import Model"
   ]
  },
  {
   "cell_type": "code",
   "execution_count": 2,
   "metadata": {
    "ExecuteTime": {
     "end_time": "2020-05-28T15:33:18.296025Z",
     "start_time": "2020-05-28T15:33:16.669366Z"
    }
   },
   "outputs": [],
   "source": [
    "spacy_nlp = spacy.load('en_core_web_sm')"
   ]
  },
  {
   "cell_type": "code",
   "execution_count": 3,
   "metadata": {
    "ExecuteTime": {
     "end_time": "2020-05-28T15:33:18.301864Z",
     "start_time": "2020-05-28T15:33:18.297874Z"
    }
   },
   "outputs": [],
   "source": [
    "stopwords = spacy.lang.en.stop_words.STOP_WORDS"
   ]
  },
  {
   "cell_type": "code",
   "execution_count": 4,
   "metadata": {
    "ExecuteTime": {
     "end_time": "2020-05-28T15:33:18.666331Z",
     "start_time": "2020-05-28T15:33:18.304322Z"
    }
   },
   "outputs": [],
   "source": [
    "MAX_NB_WORDS = 100000    # max no. of words for tokenizer\n",
    "MAX_SEQUENCE_LENGTH = 200 # max length of each entry (sentence), including padding\n",
    "VALIDATION_SPLIT = 0.2   # data for validation (not used in training)\n",
    "EMBEDDING_DIM = 100      # embedding dimensions for word vectors (word2vec/GloVe)\n",
    "GLOVE_DIR = \"glove_data/glove.6B/glove.6B.\"+str(EMBEDDING_DIM)+\"d.txt\""
   ]
  },
  {
   "cell_type": "code",
   "execution_count": 5,
   "metadata": {
    "ExecuteTime": {
     "end_time": "2020-05-28T15:33:19.710373Z",
     "start_time": "2020-05-28T15:33:18.668326Z"
    }
   },
   "outputs": [],
   "source": [
    "mbti_df_clean = pd.read_pickle(\"data/output_pickles/mbti_clean_text.pkl\")\n",
    "result_umap_types  = pd.read_csv(\"data/output_csv/result_umap_types.csv\")"
   ]
  },
  {
   "cell_type": "code",
   "execution_count": 6,
   "metadata": {
    "ExecuteTime": {
     "end_time": "2020-05-28T15:33:19.727287Z",
     "start_time": "2020-05-28T15:33:19.712299Z"
    }
   },
   "outputs": [
    {
     "data": {
      "text/html": [
       "<div>\n",
       "<style scoped>\n",
       "    .dataframe tbody tr th:only-of-type {\n",
       "        vertical-align: middle;\n",
       "    }\n",
       "\n",
       "    .dataframe tbody tr th {\n",
       "        vertical-align: top;\n",
       "    }\n",
       "\n",
       "    .dataframe thead th {\n",
       "        text-align: right;\n",
       "    }\n",
       "</style>\n",
       "<table border=\"1\" class=\"dataframe\">\n",
       "  <thead>\n",
       "    <tr style=\"text-align: right;\">\n",
       "      <th></th>\n",
       "      <th>type</th>\n",
       "      <th>posts</th>\n",
       "      <th>type_clean</th>\n",
       "      <th>posts_clean</th>\n",
       "      <th>type_lemma</th>\n",
       "      <th>posts_lemma</th>\n",
       "    </tr>\n",
       "  </thead>\n",
       "  <tbody>\n",
       "    <tr>\n",
       "      <th>0</th>\n",
       "      <td>infj</td>\n",
       "      <td>'http://www.youtube.com/watch?v=qsXHcwe3krw|||...</td>\n",
       "      <td>infj</td>\n",
       "      <td>intj moments sportscenter plays pranks life ch...</td>\n",
       "      <td>infj</td>\n",
       "      <td>intj moment sportscent play prank life change ...</td>\n",
       "    </tr>\n",
       "    <tr>\n",
       "      <th>1</th>\n",
       "      <td>entp</td>\n",
       "      <td>'I'm finding the lack of me in these posts ver...</td>\n",
       "      <td>entp</td>\n",
       "      <td>finding lack posts alarming sex boring positio...</td>\n",
       "      <td>entp</td>\n",
       "      <td>find lack post alarming sex bore position exam...</td>\n",
       "    </tr>\n",
       "    <tr>\n",
       "      <th>2</th>\n",
       "      <td>intp</td>\n",
       "      <td>'Good one  _____   https://www.youtube.com/wat...</td>\n",
       "      <td>intp</td>\n",
       "      <td>good course know blessing curse absolutely pos...</td>\n",
       "      <td>intp</td>\n",
       "      <td>good course know blessing curse absolutely pos...</td>\n",
       "    </tr>\n",
       "    <tr>\n",
       "      <th>3</th>\n",
       "      <td>intj</td>\n",
       "      <td>'Dear INTP,   I enjoyed our conversation the o...</td>\n",
       "      <td>intj</td>\n",
       "      <td>dear intp enjoyed conversation day esoteric ga...</td>\n",
       "      <td>intj</td>\n",
       "      <td>dear intp enjoy conversation day esoteric gabb...</td>\n",
       "    </tr>\n",
       "    <tr>\n",
       "      <th>4</th>\n",
       "      <td>entj</td>\n",
       "      <td>'You're fired.|||That's another silly misconce...</td>\n",
       "      <td>entj</td>\n",
       "      <td>fired silly misconception approaching logicall...</td>\n",
       "      <td>entj</td>\n",
       "      <td>fire silly misconception approach logically go...</td>\n",
       "    </tr>\n",
       "  </tbody>\n",
       "</table>\n",
       "</div>"
      ],
      "text/plain": [
       "   type                                              posts type_clean  \\\n",
       "0  infj  'http://www.youtube.com/watch?v=qsXHcwe3krw|||...       infj   \n",
       "1  entp  'I'm finding the lack of me in these posts ver...       entp   \n",
       "2  intp  'Good one  _____   https://www.youtube.com/wat...       intp   \n",
       "3  intj  'Dear INTP,   I enjoyed our conversation the o...       intj   \n",
       "4  entj  'You're fired.|||That's another silly misconce...       entj   \n",
       "\n",
       "                                         posts_clean type_lemma  \\\n",
       "0  intj moments sportscenter plays pranks life ch...       infj   \n",
       "1  finding lack posts alarming sex boring positio...       entp   \n",
       "2  good course know blessing curse absolutely pos...       intp   \n",
       "3  dear intp enjoyed conversation day esoteric ga...       intj   \n",
       "4  fired silly misconception approaching logicall...       entj   \n",
       "\n",
       "                                         posts_lemma  \n",
       "0  intj moment sportscent play prank life change ...  \n",
       "1  find lack post alarming sex bore position exam...  \n",
       "2  good course know blessing curse absolutely pos...  \n",
       "3  dear intp enjoy conversation day esoteric gabb...  \n",
       "4  fire silly misconception approach logically go...  "
      ]
     },
     "execution_count": 6,
     "metadata": {},
     "output_type": "execute_result"
    }
   ],
   "source": [
    "mbti_df_clean.head()"
   ]
  },
  {
   "cell_type": "code",
   "execution_count": 7,
   "metadata": {
    "ExecuteTime": {
     "end_time": "2020-05-28T15:33:19.906443Z",
     "start_time": "2020-05-28T15:33:19.729276Z"
    }
   },
   "outputs": [
    {
     "data": {
      "text/html": [
       "<div>\n",
       "<style scoped>\n",
       "    .dataframe tbody tr th:only-of-type {\n",
       "        vertical-align: middle;\n",
       "    }\n",
       "\n",
       "    .dataframe tbody tr th {\n",
       "        vertical-align: top;\n",
       "    }\n",
       "\n",
       "    .dataframe thead th {\n",
       "        text-align: right;\n",
       "    }\n",
       "</style>\n",
       "<table border=\"1\" class=\"dataframe\">\n",
       "  <thead>\n",
       "    <tr style=\"text-align: right;\">\n",
       "      <th></th>\n",
       "      <th>Unnamed: 0</th>\n",
       "      <th>type</th>\n",
       "      <th>words_per_comment</th>\n",
       "      <th>variance_of_word_counts</th>\n",
       "      <th>enfj</th>\n",
       "      <th>enfp</th>\n",
       "      <th>entj</th>\n",
       "      <th>entp</th>\n",
       "      <th>esfj</th>\n",
       "      <th>esfp</th>\n",
       "      <th>...</th>\n",
       "      <th>infj</th>\n",
       "      <th>infp</th>\n",
       "      <th>intj</th>\n",
       "      <th>intp</th>\n",
       "      <th>isfj</th>\n",
       "      <th>isfp</th>\n",
       "      <th>istj</th>\n",
       "      <th>istp</th>\n",
       "      <th>0</th>\n",
       "      <th>1</th>\n",
       "    </tr>\n",
       "  </thead>\n",
       "  <tbody>\n",
       "    <tr>\n",
       "      <th>0</th>\n",
       "      <td>0</td>\n",
       "      <td>infj</td>\n",
       "      <td>11.12</td>\n",
       "      <td>135.2900</td>\n",
       "      <td>0</td>\n",
       "      <td>0</td>\n",
       "      <td>0</td>\n",
       "      <td>0</td>\n",
       "      <td>0</td>\n",
       "      <td>0</td>\n",
       "      <td>...</td>\n",
       "      <td>1</td>\n",
       "      <td>0</td>\n",
       "      <td>0</td>\n",
       "      <td>0</td>\n",
       "      <td>0</td>\n",
       "      <td>0</td>\n",
       "      <td>0</td>\n",
       "      <td>0</td>\n",
       "      <td>3.910143</td>\n",
       "      <td>7.477874</td>\n",
       "    </tr>\n",
       "    <tr>\n",
       "      <th>1</th>\n",
       "      <td>1</td>\n",
       "      <td>entp</td>\n",
       "      <td>23.40</td>\n",
       "      <td>187.4756</td>\n",
       "      <td>0</td>\n",
       "      <td>0</td>\n",
       "      <td>0</td>\n",
       "      <td>1</td>\n",
       "      <td>0</td>\n",
       "      <td>0</td>\n",
       "      <td>...</td>\n",
       "      <td>0</td>\n",
       "      <td>0</td>\n",
       "      <td>0</td>\n",
       "      <td>0</td>\n",
       "      <td>0</td>\n",
       "      <td>0</td>\n",
       "      <td>0</td>\n",
       "      <td>0</td>\n",
       "      <td>3.938040</td>\n",
       "      <td>5.939636</td>\n",
       "    </tr>\n",
       "    <tr>\n",
       "      <th>2</th>\n",
       "      <td>2</td>\n",
       "      <td>intp</td>\n",
       "      <td>16.72</td>\n",
       "      <td>180.6900</td>\n",
       "      <td>0</td>\n",
       "      <td>0</td>\n",
       "      <td>0</td>\n",
       "      <td>0</td>\n",
       "      <td>0</td>\n",
       "      <td>0</td>\n",
       "      <td>...</td>\n",
       "      <td>0</td>\n",
       "      <td>0</td>\n",
       "      <td>0</td>\n",
       "      <td>1</td>\n",
       "      <td>0</td>\n",
       "      <td>0</td>\n",
       "      <td>0</td>\n",
       "      <td>0</td>\n",
       "      <td>3.740153</td>\n",
       "      <td>5.486389</td>\n",
       "    </tr>\n",
       "    <tr>\n",
       "      <th>3</th>\n",
       "      <td>3</td>\n",
       "      <td>intj</td>\n",
       "      <td>21.28</td>\n",
       "      <td>181.8324</td>\n",
       "      <td>0</td>\n",
       "      <td>0</td>\n",
       "      <td>0</td>\n",
       "      <td>0</td>\n",
       "      <td>0</td>\n",
       "      <td>0</td>\n",
       "      <td>...</td>\n",
       "      <td>0</td>\n",
       "      <td>0</td>\n",
       "      <td>1</td>\n",
       "      <td>0</td>\n",
       "      <td>0</td>\n",
       "      <td>0</td>\n",
       "      <td>0</td>\n",
       "      <td>0</td>\n",
       "      <td>5.415134</td>\n",
       "      <td>7.452929</td>\n",
       "    </tr>\n",
       "    <tr>\n",
       "      <th>4</th>\n",
       "      <td>4</td>\n",
       "      <td>entj</td>\n",
       "      <td>19.34</td>\n",
       "      <td>196.4576</td>\n",
       "      <td>0</td>\n",
       "      <td>0</td>\n",
       "      <td>1</td>\n",
       "      <td>0</td>\n",
       "      <td>0</td>\n",
       "      <td>0</td>\n",
       "      <td>...</td>\n",
       "      <td>0</td>\n",
       "      <td>0</td>\n",
       "      <td>0</td>\n",
       "      <td>0</td>\n",
       "      <td>0</td>\n",
       "      <td>0</td>\n",
       "      <td>0</td>\n",
       "      <td>0</td>\n",
       "      <td>2.083198</td>\n",
       "      <td>7.512875</td>\n",
       "    </tr>\n",
       "  </tbody>\n",
       "</table>\n",
       "<p>5 rows × 22 columns</p>\n",
       "</div>"
      ],
      "text/plain": [
       "   Unnamed: 0  type  words_per_comment  variance_of_word_counts  enfj  enfp  \\\n",
       "0           0  infj              11.12                 135.2900     0     0   \n",
       "1           1  entp              23.40                 187.4756     0     0   \n",
       "2           2  intp              16.72                 180.6900     0     0   \n",
       "3           3  intj              21.28                 181.8324     0     0   \n",
       "4           4  entj              19.34                 196.4576     0     0   \n",
       "\n",
       "   entj  entp  esfj  esfp  ...  infj  infp  intj  intp  isfj  isfp  istj  \\\n",
       "0     0     0     0     0  ...     1     0     0     0     0     0     0   \n",
       "1     0     1     0     0  ...     0     0     0     0     0     0     0   \n",
       "2     0     0     0     0  ...     0     0     0     1     0     0     0   \n",
       "3     0     0     0     0  ...     0     0     1     0     0     0     0   \n",
       "4     1     0     0     0  ...     0     0     0     0     0     0     0   \n",
       "\n",
       "   istp         0         1  \n",
       "0     0  3.910143  7.477874  \n",
       "1     0  3.938040  5.939636  \n",
       "2     0  3.740153  5.486389  \n",
       "3     0  5.415134  7.452929  \n",
       "4     0  2.083198  7.512875  \n",
       "\n",
       "[5 rows x 22 columns]"
      ]
     },
     "execution_count": 7,
     "metadata": {},
     "output_type": "execute_result"
    }
   ],
   "source": [
    "result_umap_types.head()"
   ]
  },
  {
   "cell_type": "code",
   "execution_count": 8,
   "metadata": {
    "ExecuteTime": {
     "end_time": "2020-05-28T15:33:20.004265Z",
     "start_time": "2020-05-28T15:33:19.909527Z"
    }
   },
   "outputs": [],
   "source": [
    "labels = [\"enfj\", \"enfp\", \"entj\", \"entp\", \"esfj\", \"esfp\", \"estj\", \"estp\", \"infj\", \"infp\", \"intj\", \"intp\", \"isfj\", \n",
    "          \"isfp\", \"istj\", \"istp\"]\n",
    "y = result_umap_types[labels].values\n",
    "X = mbti_df_clean[\"posts_clean\"]"
   ]
  },
  {
   "cell_type": "code",
   "execution_count": 9,
   "metadata": {
    "ExecuteTime": {
     "end_time": "2020-05-28T15:33:20.104903Z",
     "start_time": "2020-05-28T15:33:20.007259Z"
    }
   },
   "outputs": [
    {
     "name": "stdout",
     "output_type": "stream",
     "text": [
      "(6940,) (6940, 16) (1735,) (1735, 16)\n"
     ]
    }
   ],
   "source": [
    "X_train, X_test, y_train, y_test = train_test_split(X, y, random_state=42, test_size=0.2)\n",
    "print ((X_train.shape),(y_train.shape),(X_test.shape),(y_test.shape))"
   ]
  },
  {
   "cell_type": "code",
   "execution_count": 10,
   "metadata": {
    "ExecuteTime": {
     "end_time": "2020-05-28T15:33:20.200728Z",
     "start_time": "2020-05-28T15:33:20.107230Z"
    }
   },
   "outputs": [],
   "source": [
    "X_train = list(X_train)"
   ]
  },
  {
   "cell_type": "code",
   "execution_count": 11,
   "metadata": {
    "ExecuteTime": {
     "end_time": "2020-05-28T15:33:20.297656Z",
     "start_time": "2020-05-28T15:33:20.202714Z"
    }
   },
   "outputs": [],
   "source": [
    "texts = [line for line in X_train] "
   ]
  },
  {
   "cell_type": "code",
   "execution_count": 12,
   "metadata": {
    "ExecuteTime": {
     "end_time": "2020-05-28T15:33:22.967301Z",
     "start_time": "2020-05-28T15:33:20.299653Z"
    }
   },
   "outputs": [],
   "source": [
    "tokenizer = Tokenizer(num_words=MAX_NB_WORDS)\n",
    "tokenizer.fit_on_texts(texts)"
   ]
  },
  {
   "cell_type": "code",
   "execution_count": 13,
   "metadata": {
    "ExecuteTime": {
     "end_time": "2020-05-28T15:33:24.458385Z",
     "start_time": "2020-05-28T15:33:22.969522Z"
    }
   },
   "outputs": [
    {
     "name": "stdout",
     "output_type": "stream",
     "text": [
      "Vocabulary size: 90265\n"
     ]
    }
   ],
   "source": [
    "sequences = tokenizer.texts_to_sequences(texts)\n",
    "word_index = tokenizer.word_index\n",
    "print('Vocabulary size:', len(word_index))"
   ]
  },
  {
   "cell_type": "code",
   "execution_count": 14,
   "metadata": {
    "ExecuteTime": {
     "end_time": "2020-05-28T15:33:24.599981Z",
     "start_time": "2020-05-28T15:33:24.460369Z"
    }
   },
   "outputs": [
    {
     "name": "stdout",
     "output_type": "stream",
     "text": [
      "Shape of data tensor: (6940, 200)\n",
      "Shape of label tensor: (6940, 16)\n"
     ]
    }
   ],
   "source": [
    "data = pad_sequences(sequences, padding = 'post', maxlen = MAX_SEQUENCE_LENGTH)\n",
    "\n",
    "print('Shape of data tensor:', data.shape)\n",
    "print('Shape of label tensor:', y_train.shape)"
   ]
  },
  {
   "cell_type": "code",
   "execution_count": 15,
   "metadata": {
    "ExecuteTime": {
     "end_time": "2020-05-28T15:33:24.961691Z",
     "start_time": "2020-05-28T15:33:24.601969Z"
    }
   },
   "outputs": [],
   "source": [
    "indices = np.arange(data.shape[0])\n",
    "np.random.shuffle(indices)\n",
    "data = data[indices]\n",
    "labels = y_train[indices]"
   ]
  },
  {
   "cell_type": "code",
   "execution_count": 16,
   "metadata": {
    "ExecuteTime": {
     "end_time": "2020-05-28T15:33:25.073359Z",
     "start_time": "2020-05-28T15:33:24.963686Z"
    }
   },
   "outputs": [
    {
     "name": "stdout",
     "output_type": "stream",
     "text": [
      "(5552, 200) (5552, 16) (1388, 200) (1388, 16)\n"
     ]
    }
   ],
   "source": [
    "num_validation_samples = int(VALIDATION_SPLIT*data.shape[0])\n",
    "x_train = data[: -num_validation_samples]\n",
    "y_train = labels[: -num_validation_samples]\n",
    "x_val = data[-num_validation_samples: ]\n",
    "y_val = labels[-num_validation_samples: ]\n",
    "\n",
    "print ((x_train.shape),(y_train.shape),(x_val.shape),(y_val.shape))"
   ]
  },
  {
   "cell_type": "code",
   "execution_count": 17,
   "metadata": {
    "ExecuteTime": {
     "end_time": "2020-05-28T15:33:25.165271Z",
     "start_time": "2020-05-28T15:33:25.075305Z"
    }
   },
   "outputs": [
    {
     "name": "stdout",
     "output_type": "stream",
     "text": [
      "Number of entries in each category:\n",
      "training:  [ 124  443  154  444   29   34   22   57  944 1177  732  805   90  160\n",
      "  126  211]\n",
      "validation:  [ 25 107  33 106   6   6  10  17 238 285 166 206  31  58  35  59]\n"
     ]
    }
   ],
   "source": [
    "print('Number of entries in each category:')\n",
    "print('training: ', y_train.sum(axis=0))\n",
    "print('validation: ', y_val.sum(axis=0))"
   ]
  },
  {
   "cell_type": "code",
   "execution_count": 18,
   "metadata": {
    "ExecuteTime": {
     "end_time": "2020-05-28T15:33:25.287726Z",
     "start_time": "2020-05-28T15:33:25.167233Z"
    }
   },
   "outputs": [
    {
     "name": "stdout",
     "output_type": "stream",
     "text": [
      "Tokenized sentences: \n",
      " [    5   498    24   131     1  1323   114  1598   537 10077  1209   336\n",
      "   841 10473   286   184   631   612  3902   102  1863   127 14364   589\n",
      "  1040  3611     7  4256    44     2   177  4385 36274  1136     7   252\n",
      "  1123  1470    67     3   230   770  8411   230  2901    35     3    48\n",
      "  6726    38    10   949  1542   831   376   148  1322     1  7469 26261\n",
      "  6189     7  6189    14     2   190   190  1167   279   105  1202    10\n",
      "   434   711   709   443  8996   530  1455    16  1235  5146    47    82\n",
      "    70  3440   971  2782  3972   183  4669  1582   272 18570  5405  5283\n",
      "   271  5944 10227  1018     9   696    19   458    19   479   468   718\n",
      "  2650   322 15702  2824  5146  9507    37   489   173 45645 29341  1076\n",
      "  4274   328    79    30   813  1235   220    21 83757  2952   741    80\n",
      "   267 83758   360   307   344 21689   336   320   698    10     5   133\n",
      "  1984  4181    47  1842    63 28835 14459    60    36  9006 83759  1579\n",
      "  3166     1  1664 15594     1     2  2379 83760  2319    69  7886   420\n",
      "  4150  6523  6523  2219  2168 19027   188  8263  6882   827  3793   713\n",
      "   813  4872  1223  6845     8    69     6   293    80  1087    11  1064\n",
      "  4097    93  1824     7    93  3606  3497  3671]\n",
      "One hot label: \n",
      " [0 0 0 1 0 0 0 0 0 0 0 0 0 0 0 0]\n"
     ]
    }
   ],
   "source": [
    "print('Tokenized sentences: \\n', data[10])\n",
    "print('One hot label: \\n', labels[10])"
   ]
  },
  {
   "cell_type": "code",
   "execution_count": 19,
   "metadata": {
    "ExecuteTime": {
     "end_time": "2020-05-28T15:33:41.409744Z",
     "start_time": "2020-05-28T15:33:25.289747Z"
    }
   },
   "outputs": [
    {
     "name": "stdout",
     "output_type": "stream",
     "text": [
      "Loading GloVe from: glove_data/glove.6B/glove.6B.100d.txt ...Done.\n",
      " Proceeding with Embedding Matrix... Completed!\n"
     ]
    }
   ],
   "source": [
    "embeddings_index = {}\n",
    "f = open(GLOVE_DIR, encoding=\"UTF-8\")\n",
    "print('Loading GloVe from:', GLOVE_DIR,'...', end='')\n",
    "for line in f:\n",
    "    values = line.split()\n",
    "    word = values[0]\n",
    "    embeddings_index[word] = np.asarray(values[1:], dtype='float32')\n",
    "f.close()\n",
    "print(\"Done.\\n Proceeding with Embedding Matrix...\", end=\"\")\n",
    "\n",
    "embedding_matrix = np.random.random((len(word_index) + 1, EMBEDDING_DIM))\n",
    "for word, i in word_index.items():\n",
    "    embedding_vector = embeddings_index.get(word)\n",
    "    if embedding_vector is not None:\n",
    "        embedding_matrix[i] = embedding_vector\n",
    "print(\" Completed!\")"
   ]
  },
  {
   "cell_type": "code",
   "execution_count": 20,
   "metadata": {
    "ExecuteTime": {
     "end_time": "2020-05-28T15:33:41.578772Z",
     "start_time": "2020-05-28T15:33:41.411699Z"
    }
   },
   "outputs": [],
   "source": [
    "sequence_input = Input(shape=(MAX_SEQUENCE_LENGTH,), dtype='int32')\n",
    "embedding_layer = Embedding(len(word_index) + 1,\n",
    "                           EMBEDDING_DIM,\n",
    "                           weights = [embedding_matrix],\n",
    "                           input_length = MAX_SEQUENCE_LENGTH,\n",
    "                           trainable=False,\n",
    "                           name = 'embeddings')\n",
    "embedded_sequences = embedding_layer(sequence_input)"
   ]
  },
  {
   "cell_type": "code",
   "execution_count": 21,
   "metadata": {
    "ExecuteTime": {
     "end_time": "2020-05-28T15:33:41.838790Z",
     "start_time": "2020-05-28T15:33:41.579769Z"
    }
   },
   "outputs": [],
   "source": [
    "x = LSTM(60, return_sequences=True,name='lstm_layer')(embedded_sequences)\n",
    "x = GlobalMaxPool1D()(x)\n",
    "x = Dropout(0.1)(x)\n",
    "x = Dense(50, activation=\"relu\")(x)\n",
    "x = Dropout(0.1)(x)\n",
    "preds = Dense(16, activation=\"softmax\")(x)"
   ]
  },
  {
   "cell_type": "code",
   "execution_count": 22,
   "metadata": {
    "ExecuteTime": {
     "end_time": "2020-05-28T15:33:42.004588Z",
     "start_time": "2020-05-28T15:33:41.839756Z"
    }
   },
   "outputs": [
    {
     "name": "stdout",
     "output_type": "stream",
     "text": [
      "Model: \"model_1\"\n",
      "_________________________________________________________________\n",
      "Layer (type)                 Output Shape              Param #   \n",
      "=================================================================\n",
      "input_1 (InputLayer)         (None, 200)               0         \n",
      "_________________________________________________________________\n",
      "embeddings (Embedding)       (None, 200, 100)          9026600   \n",
      "_________________________________________________________________\n",
      "lstm_layer (LSTM)            (None, 200, 60)           38640     \n",
      "_________________________________________________________________\n",
      "global_max_pooling1d_1 (Glob (None, 60)                0         \n",
      "_________________________________________________________________\n",
      "dropout_1 (Dropout)          (None, 60)                0         \n",
      "_________________________________________________________________\n",
      "dense_1 (Dense)              (None, 50)                3050      \n",
      "_________________________________________________________________\n",
      "dropout_2 (Dropout)          (None, 50)                0         \n",
      "_________________________________________________________________\n",
      "dense_2 (Dense)              (None, 16)                816       \n",
      "=================================================================\n",
      "Total params: 9,069,106\n",
      "Trainable params: 42,506\n",
      "Non-trainable params: 9,026,600\n",
      "_________________________________________________________________\n"
     ]
    }
   ],
   "source": [
    "model = Model(sequence_input, preds)\n",
    "model.compile(loss = 'categorical_crossentropy',\n",
    "             optimizer='adam',\n",
    "             metrics = ['accuracy', keras.metrics.Precision(), keras.metrics.Recall(), keras.metrics.AUC()])\n",
    "model.summary()"
   ]
  },
  {
   "cell_type": "code",
   "execution_count": 23,
   "metadata": {
    "ExecuteTime": {
     "end_time": "2020-05-28T15:33:43.041100Z",
     "start_time": "2020-05-28T15:33:42.009574Z"
    }
   },
   "outputs": [
    {
     "data": {
      "image/png": "[encoded data removed]",
      "text/plain": [
       "<IPython.core.display.Image object>"
      ]
     },
     "execution_count": 23,
     "metadata": {},
     "output_type": "execute_result"
    }
   ],
   "source": [
    "from keras.utils import plot_model\n",
    "plot_model(model)"
   ]
  },
  {
   "cell_type": "code",
   "execution_count": 24,
   "metadata": {
    "ExecuteTime": {
     "end_time": "2020-05-28T18:01:15.129007Z",
     "start_time": "2020-05-28T15:33:43.044065Z"
    }
   },
   "outputs": [
    {
     "name": "stdout",
     "output_type": "stream",
     "text": [
      "Training progress:\n",
      "Train on 5552 samples, validate on 1388 samples\n",
      "Epoch 1/20\n",
      "5552/5552 [==============================] - 83s 15ms/step - loss: 2.2543 - accuracy: 0.2444 - precision_1: 0.5217 - recall_1: 0.0043 - auc_1: 0.7952 - val_loss: 2.1709 - val_accuracy: 0.2918 - val_precision_1: 0.5000 - val_recall_1: 7.2046e-04 - val_auc_1: 0.8142\n",
      "Epoch 2/20\n",
      "5552/5552 [==============================] - 82s 15ms/step - loss: 2.0687 - accuracy: 0.3383 - precision_1: 0.6256 - recall_1: 0.0439 - auc_1: 0.8321 - val_loss: 1.9966 - val_accuracy: 0.3804 - val_precision_1: 0.6977 - val_recall_1: 0.1081 - val_auc_1: 0.8401\n",
      "Epoch 3/20\n",
      "5552/5552 [==============================] - 81s 15ms/step - loss: 1.8561 - accuracy: 0.4283 - precision_1: 0.6795 - recall_1: 0.1780 - auc_1: 0.8640 - val_loss: 1.8456 - val_accuracy: 0.4280 - val_precision_1: 0.6725 - val_recall_1: 0.2205 - val_auc_1: 0.8622recall_1: 0.1718 - auc_1 - ETA: 7s - loss: 1.8717 - accuracy: 0 - ETA: 3s - loss: 1.8638 - accuracy: 0.4261 - \n",
      "Epoch 4/20\n",
      "5552/5552 [==============================] - 81s 15ms/step - loss: 1.7152 - accuracy: 0.4742 - precision_1: 0.7119 - recall_1: 0.2617 - auc_1: 0.8839 - val_loss: 1.7795 - val_accuracy: 0.4604 - val_precision_1: 0.6801 - val_recall_1: 0.2558 - val_auc_1: 0.8716\n",
      "Epoch 5/20\n",
      "5552/5552 [==============================] - 81s 15ms/step - loss: 1.6287 - accuracy: 0.5052 - precision_1: 0.7098 - recall_1: 0.3013 - auc_1: 0.8960 - val_loss: 1.7626 - val_accuracy: 0.4604 - val_precision_1: 0.6939 - val_recall_1: 0.2385 - val_auc_1: 0.8763\n",
      "Epoch 6/20\n",
      "5552/5552 [==============================] - 81s 15ms/step - loss: 1.5366 - accuracy: 0.5355 - precision_1: 0.7433 - recall_1: 0.3379 - auc_1: 0.9075 - val_loss: 1.8058 - val_accuracy: 0.4532 - val_precision_1: 0.6035 - val_recall_1: 0.3235 - val_auc_1: 0.8737\n",
      "Epoch 7/20\n",
      "5552/5552 [==============================] - 82s 15ms/step - loss: 1.4425 - accuracy: 0.5598 - precision_1: 0.7459 - recall_1: 0.3898 - auc_1: 0.9195 - val_loss: 1.7510 - val_accuracy: 0.4733 - val_precision_1: 0.6766 - val_recall_1: 0.2954 - val_auc_1: 0.8762\n",
      "Epoch 8/20\n",
      "5552/5552 [==============================] - 81s 15ms/step - loss: 1.3504 - accuracy: 0.5847 - precision_1: 0.7710 - recall_1: 0.4233 - auc_1: 0.9301 - val_loss: 1.7651 - val_accuracy: 0.4676 - val_precision_1: 0.6453 - val_recall_1: 0.3264 - val_auc_1: 0.8771\n",
      "Epoch 9/20\n",
      "5552/5552 [==============================] - 82s 15ms/step - loss: 1.2690 - accuracy: 0.6023 - precision_1: 0.7758 - recall_1: 0.4631 - auc_1: 0.9388 - val_loss: 1.7748 - val_accuracy: 0.4762 - val_precision_1: 0.6345 - val_recall_1: 0.3314 - val_auc_1: 0.8766\n",
      "Epoch 10/20\n",
      "5552/5552 [==============================] - 83s 15ms/step - loss: 1.1962 - accuracy: 0.6344 - precision_1: 0.7815 - recall_1: 0.4896 - auc_1: 0.9453 - val_loss: 1.8290 - val_accuracy: 0.4597 - val_precision_1: 0.6142 - val_recall_1: 0.3293 - val_auc_1: 0.8692\n",
      "Epoch 11/20\n",
      "5552/5552 [==============================] - 84s 15ms/step - loss: 1.1339 - accuracy: 0.6463 - precision_1: 0.7940 - recall_1: 0.5164 - auc_1: 0.9506 - val_loss: 1.8817 - val_accuracy: 0.4575 - val_precision_1: 0.5906 - val_recall_1: 0.3638 - val_auc_1: 0.8689\n",
      "Epoch 12/20\n",
      "5552/5552 [==============================] - 7286s 1s/step - loss: 1.0501 - accuracy: 0.6735 - precision_1: 0.8068 - recall_1: 0.5528 - auc_1: 0.9581 - val_loss: 1.9440 - val_accuracy: 0.4640 - val_precision_1: 0.5622 - val_recall_1: 0.3646 - val_auc_1: 0.8654\n",
      "Epoch 13/20\n",
      "5552/5552 [==============================] - 83s 15ms/step - loss: 0.9980 - accuracy: 0.6918 - precision_1: 0.8219 - recall_1: 0.5744 - auc_1: 0.9619 - val_loss: 1.9814 - val_accuracy: 0.4690 - val_precision_1: 0.5506 - val_recall_1: 0.3725 - val_auc_1: 0.8619\n",
      "Epoch 14/20\n",
      "5552/5552 [==============================] - 84s 15ms/step - loss: 0.9448 - accuracy: 0.6985 - precision_1: 0.8255 - recall_1: 0.5964 - auc_1: 0.9662 - val_loss: 2.1019 - val_accuracy: 0.4604 - val_precision_1: 0.5544 - val_recall_1: 0.3710 - val_auc_1: 0.8486\n",
      "Epoch 15/20\n",
      "5552/5552 [==============================] - 83s 15ms/step - loss: 0.8759 - accuracy: 0.7251 - precision_1: 0.8393 - recall_1: 0.6342 - auc_1: 0.9707 - val_loss: 2.1151 - val_accuracy: 0.4460 - val_precision_1: 0.5280 - val_recall_1: 0.3732 - val_auc_1: 0.8503\n",
      "Epoch 16/20\n",
      "5552/5552 [==============================] - 83s 15ms/step - loss: 0.8350 - accuracy: 0.7383 - precision_1: 0.8507 - recall_1: 0.6443 - auc_1: 0.9729 - val_loss: 2.1317 - val_accuracy: 0.4539 - val_precision_1: 0.5681 - val_recall_1: 0.3696 - val_auc_1: 0.8485\n",
      "Epoch 17/20\n",
      "5552/5552 [==============================] - 83s 15ms/step - loss: 0.7815 - accuracy: 0.7536 - precision_1: 0.8510 - recall_1: 0.6644 - auc_1: 0.9774 - val_loss: 2.2015 - val_accuracy: 0.4424 - val_precision_1: 0.5320 - val_recall_1: 0.3530 - val_auc_1: 0.8428y: 0.7538 - precision_1: 0.8511 - recall_1: 0.6640 - au\n",
      "Epoch 18/20\n",
      "5552/5552 [==============================] - 82s 15ms/step - loss: 0.7355 - accuracy: 0.7691 - precision_1: 0.8553 - recall_1: 0.6879 - auc_1: 0.9790 - val_loss: 2.4910 - val_accuracy: 0.4431 - val_precision_1: 0.4986 - val_recall_1: 0.3883 - val_auc_1: 0.8361\n",
      "Epoch 19/20\n",
      "5552/5552 [==============================] - 83s 15ms/step - loss: 0.7024 - accuracy: 0.7774 - precision_1: 0.8656 - recall_1: 0.7039 - auc_1: 0.9803 - val_loss: 2.3365 - val_accuracy: 0.4474 - val_precision_1: 0.5211 - val_recall_1: 0.3818 - val_auc_1: 0.8410\n",
      "Epoch 20/20\n",
      "5552/5552 [==============================] - 83s 15ms/step - loss: 0.6445 - accuracy: 0.7934 - precision_1: 0.8729 - recall_1: 0.7224 - auc_1: 0.9843 - val_loss: 2.5135 - val_accuracy: 0.4352 - val_precision_1: 0.5054 - val_recall_1: 0.3718 - val_auc_1: 0.8261\n"
     ]
    }
   ],
   "source": [
    "print('Training progress:')\n",
    "history = model.fit(x_train, y_train, epochs = 20, batch_size=4, validation_data=(x_val, y_val))"
   ]
  },
  {
   "cell_type": "code",
   "execution_count": null,
   "metadata": {
    "ExecuteTime": {
     "end_time": "2020-05-28T19:25:05.792333Z",
     "start_time": "2020-05-28T19:05:22.272Z"
    }
   },
   "outputs": [],
   "source": [
    "print(history.history)"
   ]
  },
  {
   "cell_type": "code",
   "execution_count": null,
   "metadata": {
    "ExecuteTime": {
     "end_time": "2020-05-28T18:04:57.620653Z",
     "start_time": "2020-05-28T18:02:06.630Z"
    }
   },
   "outputs": [],
   "source": [
    "loss = history.history['loss']\n",
    "val_loss = history.history['val_loss']\n",
    "\n",
    "epochs = range(1, len(loss)+1)\n",
    "\n",
    "plt.plot(epochs, loss, label='Training loss')\n",
    "plt.plot(epochs, val_loss, label='Validation loss')\n",
    "plt.title('Training and validation loss')\n",
    "plt.xlabel('Epochs')\n",
    "plt.ylabel('Loss')\n",
    "plt.legend()\n",
    "plt.show();"
   ]
  },
  {
   "cell_type": "code",
   "execution_count": null,
   "metadata": {
    "ExecuteTime": {
     "start_time": "2020-05-28T15:33:12.143Z"
    }
   },
   "outputs": [],
   "source": [
    "accuracy = history.history['accuracy']\n",
    "val_accuracy = history.history['val_accuracy']\n",
    "\n",
    "plt.plot(epochs, accuracy, label='Training accuracy')\n",
    "plt.plot(epochs, val_accuracy, label='Validation accuracy')\n",
    "plt.title('Training and validation accuracy')\n",
    "plt.ylabel('Accuracy')\n",
    "plt.xlabel('Epochs')\n",
    "plt.legend()\n",
    "plt.show();"
   ]
  },
  {
   "cell_type": "code",
   "execution_count": null,
   "metadata": {},
   "outputs": [],
   "source": [
    "precision = history.history['precision_1']\n",
    "val_precision = history.history['val_precision_1']\n",
    "\n",
    "plt.plot(epochs, precision, label='Training precision')\n",
    "plt.plot(epochs, val_accuracy, label='Validation precision')\n",
    "plt.title('Training and validation precision')\n",
    "plt.ylabel('Precision')\n",
    "plt.xlabel('Epochs')\n",
    "plt.legend()\n",
    "plt.show();"
   ]
  },
  {
   "cell_type": "code",
   "execution_count": null,
   "metadata": {},
   "outputs": [],
   "source": [
    "recall = history.history['recall_1']\n",
    "val_recall = history.history['val_recall_1']\n",
    "\n",
    "plt.plot(epochs, recall, label='Training recall')\n",
    "plt.plot(epochs, val_recall, label='Validation recall')\n",
    "plt.title('Training and validation recall')\n",
    "plt.ylabel('Recall')\n",
    "plt.xlabel('Epochs')\n",
    "plt.legend()\n",
    "plt.show();"
   ]
  },
  {
   "cell_type": "code",
   "execution_count": null,
   "metadata": {},
   "outputs": [],
   "source": [
    "auc = history.history['auc_1']\n",
    "val_auc = history.history['val_auc_1']\n",
    "\n",
    "plt.plot(epochs, auc, label='Training auc')\n",
    "plt.plot(epochs, val_auc, label='Validation auc')\n",
    "plt.title('Training and validation auc')\n",
    "plt.ylabel('AUC')\n",
    "plt.xlabel('Epochs')\n",
    "plt.legend()\n",
    "plt.show();"
   ]
  },
  {
   "cell_type": "code",
   "execution_count": null,
   "metadata": {},
   "outputs": [],
   "source": []
  },
  {
   "cell_type": "markdown",
   "metadata": {},
   "source": [
    "another trial with f1 score"
   ]
  },
  {
   "cell_type": "code",
   "execution_count": 29,
   "metadata": {
    "ExecuteTime": {
     "end_time": "2020-05-28T18:10:52.649049Z",
     "start_time": "2020-05-28T18:10:52.627107Z"
    }
   },
   "outputs": [
    {
     "ename": "TypeError",
     "evalue": "unsupported operand type(s) for *: 'Precision' and 'Recall'",
     "output_type": "error",
     "traceback": [
      "\u001b[1;31m---------------------------------------------------------------------------\u001b[0m",
      "\u001b[1;31mTypeError\u001b[0m                                 Traceback (most recent call last)",
      "\u001b[1;32m<ipython-input-29-ac6c4aad4f27>\u001b[0m in \u001b[0;36m<module>\u001b[1;34m\u001b[0m\n\u001b[0;32m      5\u001b[0m \u001b[1;33m\u001b[0m\u001b[0m\n\u001b[0;32m      6\u001b[0m \u001b[1;33m\u001b[0m\u001b[0m\n\u001b[1;32m----> 7\u001b[1;33m \u001b[0mf1_m\u001b[0m \u001b[1;33m=\u001b[0m \u001b[1;36m2\u001b[0m\u001b[1;33m*\u001b[0m\u001b[1;33m(\u001b[0m\u001b[1;33m(\u001b[0m\u001b[0mprecision\u001b[0m\u001b[1;33m*\u001b[0m\u001b[0mrecall\u001b[0m\u001b[1;33m)\u001b[0m\u001b[1;33m/\u001b[0m\u001b[1;33m(\u001b[0m\u001b[0mprecision\u001b[0m\u001b[1;33m+\u001b[0m\u001b[0mrecall\u001b[0m\u001b[1;33m+\u001b[0m\u001b[0mepsilon\u001b[0m\u001b[1;33m)\u001b[0m\u001b[1;33m)\u001b[0m\u001b[1;33m\u001b[0m\u001b[1;33m\u001b[0m\u001b[0m\n\u001b[0m\u001b[0;32m      8\u001b[0m \u001b[1;33m\u001b[0m\u001b[0m\n\u001b[0;32m      9\u001b[0m \u001b[0mmodel\u001b[0m \u001b[1;33m=\u001b[0m \u001b[0mModel\u001b[0m\u001b[1;33m(\u001b[0m\u001b[0msequence_input\u001b[0m\u001b[1;33m,\u001b[0m \u001b[0mpreds\u001b[0m\u001b[1;33m)\u001b[0m\u001b[1;33m\u001b[0m\u001b[1;33m\u001b[0m\u001b[0m\n",
      "\u001b[1;31mTypeError\u001b[0m: unsupported operand type(s) for *: 'Precision' and 'Recall'"
     ]
    }
   ],
   "source": [
    "f1_m = 2*((precision*recall)/(precision+recall+epsilon))"
   ]
  }
 ],
 "metadata": {
  "kernelspec": {
   "display_name": "Python 3",
   "language": "python",
   "name": "python3"
  },
  "language_info": {
   "codemirror_mode": {
    "name": "ipython",
    "version": 3
   },
   "file_extension": ".py",
   "mimetype": "text/x-python",
   "name": "python",
   "nbconvert_exporter": "python",
   "pygments_lexer": "ipython3",
   "version": "3.7.7"
  },
  "varInspector": {
   "cols": {
    "lenName": 16,
    "lenType": 16,
    "lenVar": 40
   },
   "kernels_config": {
    "python": {
     "delete_cmd_postfix": "",
     "delete_cmd_prefix": "del ",
     "library": "var_list.py",
     "varRefreshCmd": "print(var_dic_list())"
    },
    "r": {
     "delete_cmd_postfix": ") ",
     "delete_cmd_prefix": "rm(",
     "library": "var_list.r",
     "varRefreshCmd": "cat(var_dic_list()) "
    }
   },
   "types_to_exclude": [
    "module",
    "function",
    "builtin_function_or_method",
    "instance",
    "_Feature"
   ],
   "window_display": false
  }
 },
 "nbformat": 4,
 "nbformat_minor": 2
}
