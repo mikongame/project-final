{
 "cells": [
  {
   "cell_type": "code",
   "execution_count": 1,
   "metadata": {
    "ExecuteTime": {
     "end_time": "2020-05-28T09:00:52.198244Z",
     "start_time": "2020-05-28T09:00:47.340719Z"
    }
   },
   "outputs": [
    {
     "name": "stderr",
     "output_type": "stream",
     "text": [
      "Using TensorFlow backend.\n"
     ]
    }
   ],
   "source": [
    "import re\n",
    "import pandas as pd\n",
    "import numpy as np\n",
    "import spacy\n",
    "import matplotlib.pyplot as plt\n",
    "\n",
    "import pickle as pkl\n",
    "\n",
    "from sklearn.model_selection import train_test_split\n",
    "\n",
    "import keras.metrics\n",
    "from keras import regularizers, initializers, optimizers, callbacks\n",
    "from keras.preprocessing.sequence import pad_sequences\n",
    "from keras.preprocessing.text import Tokenizer\n",
    "from keras.utils.np_utils import to_categorical\n",
    "from keras.layers import *\n",
    "from keras.models import Model"
   ]
  },
  {
   "cell_type": "code",
   "execution_count": 2,
   "metadata": {
    "ExecuteTime": {
     "end_time": "2020-05-28T09:00:52.993163Z",
     "start_time": "2020-05-28T09:00:52.200239Z"
    }
   },
   "outputs": [],
   "source": [
    "spacy_nlp = spacy.load('en_core_web_sm')"
   ]
  },
  {
   "cell_type": "code",
   "execution_count": 3,
   "metadata": {
    "ExecuteTime": {
     "end_time": "2020-05-28T09:00:52.998158Z",
     "start_time": "2020-05-28T09:00:52.995159Z"
    }
   },
   "outputs": [],
   "source": [
    "stopwords = spacy.lang.en.stop_words.STOP_WORDS"
   ]
  },
  {
   "cell_type": "code",
   "execution_count": 4,
   "metadata": {
    "ExecuteTime": {
     "end_time": "2020-05-28T09:00:53.090902Z",
     "start_time": "2020-05-28T09:00:53.000146Z"
    }
   },
   "outputs": [],
   "source": [
    "MAX_NB_WORDS = 100000    # max no. of words for tokenizer\n",
    "MAX_SEQUENCE_LENGTH = 200 # max length of each entry (sentence), including padding\n",
    "VALIDATION_SPLIT = 0.2   # data for validation (not used in training)\n",
    "EMBEDDING_DIM = 100      # embedding dimensions for word vectors (word2vec/GloVe)\n",
    "GLOVE_DIR = \"glove_data/glove.6B/glove.6B.\"+str(EMBEDDING_DIM)+\"d.txt\""
   ]
  },
  {
   "cell_type": "code",
   "execution_count": 5,
   "metadata": {
    "ExecuteTime": {
     "end_time": "2020-05-28T09:00:53.330767Z",
     "start_time": "2020-05-28T09:00:53.091899Z"
    }
   },
   "outputs": [],
   "source": [
    "mbti_df_clean = pd.read_pickle(\"data/output_pickles/mbti_clean_text.pkl\")\n",
    "result_umap_types  = pd.read_csv(\"data/output_csv/result_umap_types.csv\")"
   ]
  },
  {
   "cell_type": "code",
   "execution_count": 6,
   "metadata": {
    "ExecuteTime": {
     "end_time": "2020-05-28T09:00:53.348720Z",
     "start_time": "2020-05-28T09:00:53.331765Z"
    }
   },
   "outputs": [
    {
     "data": {
      "text/html": [
       "<div>\n",
       "<style scoped>\n",
       "    .dataframe tbody tr th:only-of-type {\n",
       "        vertical-align: middle;\n",
       "    }\n",
       "\n",
       "    .dataframe tbody tr th {\n",
       "        vertical-align: top;\n",
       "    }\n",
       "\n",
       "    .dataframe thead th {\n",
       "        text-align: right;\n",
       "    }\n",
       "</style>\n",
       "<table border=\"1\" class=\"dataframe\">\n",
       "  <thead>\n",
       "    <tr style=\"text-align: right;\">\n",
       "      <th></th>\n",
       "      <th>type</th>\n",
       "      <th>posts</th>\n",
       "      <th>type_clean</th>\n",
       "      <th>posts_clean</th>\n",
       "      <th>type_lemma</th>\n",
       "      <th>posts_lemma</th>\n",
       "    </tr>\n",
       "  </thead>\n",
       "  <tbody>\n",
       "    <tr>\n",
       "      <th>0</th>\n",
       "      <td>infj</td>\n",
       "      <td>'http://www.youtube.com/watch?v=qsXHcwe3krw|||...</td>\n",
       "      <td>infj</td>\n",
       "      <td>intj moments sportscenter plays pranks life ch...</td>\n",
       "      <td>infj</td>\n",
       "      <td>intj moment sportscent play prank life change ...</td>\n",
       "    </tr>\n",
       "    <tr>\n",
       "      <th>1</th>\n",
       "      <td>entp</td>\n",
       "      <td>'I'm finding the lack of me in these posts ver...</td>\n",
       "      <td>entp</td>\n",
       "      <td>finding lack posts alarming sex boring positio...</td>\n",
       "      <td>entp</td>\n",
       "      <td>find lack post alarming sex bore position exam...</td>\n",
       "    </tr>\n",
       "    <tr>\n",
       "      <th>2</th>\n",
       "      <td>intp</td>\n",
       "      <td>'Good one  _____   https://www.youtube.com/wat...</td>\n",
       "      <td>intp</td>\n",
       "      <td>good course know blessing curse absolutely pos...</td>\n",
       "      <td>intp</td>\n",
       "      <td>good course know blessing curse absolutely pos...</td>\n",
       "    </tr>\n",
       "    <tr>\n",
       "      <th>3</th>\n",
       "      <td>intj</td>\n",
       "      <td>'Dear INTP,   I enjoyed our conversation the o...</td>\n",
       "      <td>intj</td>\n",
       "      <td>dear intp enjoyed conversation day esoteric ga...</td>\n",
       "      <td>intj</td>\n",
       "      <td>dear intp enjoy conversation day esoteric gabb...</td>\n",
       "    </tr>\n",
       "    <tr>\n",
       "      <th>4</th>\n",
       "      <td>entj</td>\n",
       "      <td>'You're fired.|||That's another silly misconce...</td>\n",
       "      <td>entj</td>\n",
       "      <td>fired silly misconception approaching logicall...</td>\n",
       "      <td>entj</td>\n",
       "      <td>fire silly misconception approach logically go...</td>\n",
       "    </tr>\n",
       "  </tbody>\n",
       "</table>\n",
       "</div>"
      ],
      "text/plain": [
       "   type                                              posts type_clean  \\\n",
       "0  infj  'http://www.youtube.com/watch?v=qsXHcwe3krw|||...       infj   \n",
       "1  entp  'I'm finding the lack of me in these posts ver...       entp   \n",
       "2  intp  'Good one  _____   https://www.youtube.com/wat...       intp   \n",
       "3  intj  'Dear INTP,   I enjoyed our conversation the o...       intj   \n",
       "4  entj  'You're fired.|||That's another silly misconce...       entj   \n",
       "\n",
       "                                         posts_clean type_lemma  \\\n",
       "0  intj moments sportscenter plays pranks life ch...       infj   \n",
       "1  finding lack posts alarming sex boring positio...       entp   \n",
       "2  good course know blessing curse absolutely pos...       intp   \n",
       "3  dear intp enjoyed conversation day esoteric ga...       intj   \n",
       "4  fired silly misconception approaching logicall...       entj   \n",
       "\n",
       "                                         posts_lemma  \n",
       "0  intj moment sportscent play prank life change ...  \n",
       "1  find lack post alarming sex bore position exam...  \n",
       "2  good course know blessing curse absolutely pos...  \n",
       "3  dear intp enjoy conversation day esoteric gabb...  \n",
       "4  fire silly misconception approach logically go...  "
      ]
     },
     "execution_count": 6,
     "metadata": {},
     "output_type": "execute_result"
    }
   ],
   "source": [
    "mbti_df_clean.head()"
   ]
  },
  {
   "cell_type": "code",
   "execution_count": 7,
   "metadata": {
    "ExecuteTime": {
     "end_time": "2020-05-28T09:00:53.435489Z",
     "start_time": "2020-05-28T09:00:53.350715Z"
    }
   },
   "outputs": [
    {
     "data": {
      "text/html": [
       "<div>\n",
       "<style scoped>\n",
       "    .dataframe tbody tr th:only-of-type {\n",
       "        vertical-align: middle;\n",
       "    }\n",
       "\n",
       "    .dataframe tbody tr th {\n",
       "        vertical-align: top;\n",
       "    }\n",
       "\n",
       "    .dataframe thead th {\n",
       "        text-align: right;\n",
       "    }\n",
       "</style>\n",
       "<table border=\"1\" class=\"dataframe\">\n",
       "  <thead>\n",
       "    <tr style=\"text-align: right;\">\n",
       "      <th></th>\n",
       "      <th>Unnamed: 0</th>\n",
       "      <th>type</th>\n",
       "      <th>words_per_comment</th>\n",
       "      <th>variance_of_word_counts</th>\n",
       "      <th>enfj</th>\n",
       "      <th>enfp</th>\n",
       "      <th>entj</th>\n",
       "      <th>entp</th>\n",
       "      <th>esfj</th>\n",
       "      <th>esfp</th>\n",
       "      <th>...</th>\n",
       "      <th>infj</th>\n",
       "      <th>infp</th>\n",
       "      <th>intj</th>\n",
       "      <th>intp</th>\n",
       "      <th>isfj</th>\n",
       "      <th>isfp</th>\n",
       "      <th>istj</th>\n",
       "      <th>istp</th>\n",
       "      <th>0</th>\n",
       "      <th>1</th>\n",
       "    </tr>\n",
       "  </thead>\n",
       "  <tbody>\n",
       "    <tr>\n",
       "      <th>0</th>\n",
       "      <td>0</td>\n",
       "      <td>infj</td>\n",
       "      <td>11.12</td>\n",
       "      <td>135.2900</td>\n",
       "      <td>0</td>\n",
       "      <td>0</td>\n",
       "      <td>0</td>\n",
       "      <td>0</td>\n",
       "      <td>0</td>\n",
       "      <td>0</td>\n",
       "      <td>...</td>\n",
       "      <td>1</td>\n",
       "      <td>0</td>\n",
       "      <td>0</td>\n",
       "      <td>0</td>\n",
       "      <td>0</td>\n",
       "      <td>0</td>\n",
       "      <td>0</td>\n",
       "      <td>0</td>\n",
       "      <td>3.910143</td>\n",
       "      <td>7.477874</td>\n",
       "    </tr>\n",
       "    <tr>\n",
       "      <th>1</th>\n",
       "      <td>1</td>\n",
       "      <td>entp</td>\n",
       "      <td>23.40</td>\n",
       "      <td>187.4756</td>\n",
       "      <td>0</td>\n",
       "      <td>0</td>\n",
       "      <td>0</td>\n",
       "      <td>1</td>\n",
       "      <td>0</td>\n",
       "      <td>0</td>\n",
       "      <td>...</td>\n",
       "      <td>0</td>\n",
       "      <td>0</td>\n",
       "      <td>0</td>\n",
       "      <td>0</td>\n",
       "      <td>0</td>\n",
       "      <td>0</td>\n",
       "      <td>0</td>\n",
       "      <td>0</td>\n",
       "      <td>3.938040</td>\n",
       "      <td>5.939636</td>\n",
       "    </tr>\n",
       "    <tr>\n",
       "      <th>2</th>\n",
       "      <td>2</td>\n",
       "      <td>intp</td>\n",
       "      <td>16.72</td>\n",
       "      <td>180.6900</td>\n",
       "      <td>0</td>\n",
       "      <td>0</td>\n",
       "      <td>0</td>\n",
       "      <td>0</td>\n",
       "      <td>0</td>\n",
       "      <td>0</td>\n",
       "      <td>...</td>\n",
       "      <td>0</td>\n",
       "      <td>0</td>\n",
       "      <td>0</td>\n",
       "      <td>1</td>\n",
       "      <td>0</td>\n",
       "      <td>0</td>\n",
       "      <td>0</td>\n",
       "      <td>0</td>\n",
       "      <td>3.740153</td>\n",
       "      <td>5.486389</td>\n",
       "    </tr>\n",
       "    <tr>\n",
       "      <th>3</th>\n",
       "      <td>3</td>\n",
       "      <td>intj</td>\n",
       "      <td>21.28</td>\n",
       "      <td>181.8324</td>\n",
       "      <td>0</td>\n",
       "      <td>0</td>\n",
       "      <td>0</td>\n",
       "      <td>0</td>\n",
       "      <td>0</td>\n",
       "      <td>0</td>\n",
       "      <td>...</td>\n",
       "      <td>0</td>\n",
       "      <td>0</td>\n",
       "      <td>1</td>\n",
       "      <td>0</td>\n",
       "      <td>0</td>\n",
       "      <td>0</td>\n",
       "      <td>0</td>\n",
       "      <td>0</td>\n",
       "      <td>5.415134</td>\n",
       "      <td>7.452929</td>\n",
       "    </tr>\n",
       "    <tr>\n",
       "      <th>4</th>\n",
       "      <td>4</td>\n",
       "      <td>entj</td>\n",
       "      <td>19.34</td>\n",
       "      <td>196.4576</td>\n",
       "      <td>0</td>\n",
       "      <td>0</td>\n",
       "      <td>1</td>\n",
       "      <td>0</td>\n",
       "      <td>0</td>\n",
       "      <td>0</td>\n",
       "      <td>...</td>\n",
       "      <td>0</td>\n",
       "      <td>0</td>\n",
       "      <td>0</td>\n",
       "      <td>0</td>\n",
       "      <td>0</td>\n",
       "      <td>0</td>\n",
       "      <td>0</td>\n",
       "      <td>0</td>\n",
       "      <td>2.083198</td>\n",
       "      <td>7.512875</td>\n",
       "    </tr>\n",
       "  </tbody>\n",
       "</table>\n",
       "<p>5 rows × 22 columns</p>\n",
       "</div>"
      ],
      "text/plain": [
       "   Unnamed: 0  type  words_per_comment  variance_of_word_counts  enfj  enfp  \\\n",
       "0           0  infj              11.12                 135.2900     0     0   \n",
       "1           1  entp              23.40                 187.4756     0     0   \n",
       "2           2  intp              16.72                 180.6900     0     0   \n",
       "3           3  intj              21.28                 181.8324     0     0   \n",
       "4           4  entj              19.34                 196.4576     0     0   \n",
       "\n",
       "   entj  entp  esfj  esfp  ...  infj  infp  intj  intp  isfj  isfp  istj  \\\n",
       "0     0     0     0     0  ...     1     0     0     0     0     0     0   \n",
       "1     0     1     0     0  ...     0     0     0     0     0     0     0   \n",
       "2     0     0     0     0  ...     0     0     0     1     0     0     0   \n",
       "3     0     0     0     0  ...     0     0     1     0     0     0     0   \n",
       "4     1     0     0     0  ...     0     0     0     0     0     0     0   \n",
       "\n",
       "   istp         0         1  \n",
       "0     0  3.910143  7.477874  \n",
       "1     0  3.938040  5.939636  \n",
       "2     0  3.740153  5.486389  \n",
       "3     0  5.415134  7.452929  \n",
       "4     0  2.083198  7.512875  \n",
       "\n",
       "[5 rows x 22 columns]"
      ]
     },
     "execution_count": 7,
     "metadata": {},
     "output_type": "execute_result"
    }
   ],
   "source": [
    "result_umap_types.head()"
   ]
  },
  {
   "cell_type": "code",
   "execution_count": 8,
   "metadata": {
    "ExecuteTime": {
     "end_time": "2020-05-28T09:00:53.519265Z",
     "start_time": "2020-05-28T09:00:53.438482Z"
    }
   },
   "outputs": [],
   "source": [
    "labels = [\"enfj\", \"enfp\", \"entj\", \"entp\", \"esfj\", \"esfp\", \"estj\", \"estp\", \"infj\", \"infp\", \"intj\", \"intp\", \"isfj\", \n",
    "          \"isfp\", \"istj\", \"istp\"]\n",
    "y = result_umap_types[labels].values\n",
    "X = mbti_df_clean[\"posts_clean\"]"
   ]
  },
  {
   "cell_type": "code",
   "execution_count": 9,
   "metadata": {
    "ExecuteTime": {
     "end_time": "2020-05-28T09:00:53.617036Z",
     "start_time": "2020-05-28T09:00:53.523254Z"
    }
   },
   "outputs": [
    {
     "name": "stdout",
     "output_type": "stream",
     "text": [
      "(6940,) (6940, 16) (1735,) (1735, 16)\n"
     ]
    }
   ],
   "source": [
    "X_train, X_test, y_train, y_test = train_test_split(X, y, random_state=42, test_size=0.2)\n",
    "print ((X_train.shape),(y_train.shape),(X_test.shape),(y_test.shape))"
   ]
  },
  {
   "cell_type": "code",
   "execution_count": 10,
   "metadata": {
    "ExecuteTime": {
     "end_time": "2020-05-28T09:00:53.766603Z",
     "start_time": "2020-05-28T09:00:53.618997Z"
    }
   },
   "outputs": [],
   "source": [
    "X_train = list(X_train)"
   ]
  },
  {
   "cell_type": "code",
   "execution_count": 11,
   "metadata": {
    "ExecuteTime": {
     "end_time": "2020-05-28T09:00:53.882292Z",
     "start_time": "2020-05-28T09:00:53.768598Z"
    }
   },
   "outputs": [],
   "source": [
    "texts = [line for line in X_train] "
   ]
  },
  {
   "cell_type": "code",
   "execution_count": 12,
   "metadata": {
    "ExecuteTime": {
     "end_time": "2020-05-28T09:00:56.693213Z",
     "start_time": "2020-05-28T09:00:53.883290Z"
    }
   },
   "outputs": [],
   "source": [
    "tokenizer = Tokenizer(num_words=MAX_NB_WORDS)\n",
    "tokenizer.fit_on_texts(texts)"
   ]
  },
  {
   "cell_type": "code",
   "execution_count": 13,
   "metadata": {
    "ExecuteTime": {
     "end_time": "2020-05-28T09:00:58.419633Z",
     "start_time": "2020-05-28T09:00:56.695208Z"
    }
   },
   "outputs": [
    {
     "name": "stdout",
     "output_type": "stream",
     "text": [
      "Vocabulary size: 90265\n"
     ]
    }
   ],
   "source": [
    "sequences = tokenizer.texts_to_sequences(texts)\n",
    "word_index = tokenizer.word_index\n",
    "print('Vocabulary size:', len(word_index))"
   ]
  },
  {
   "cell_type": "code",
   "execution_count": 14,
   "metadata": {
    "ExecuteTime": {
     "end_time": "2020-05-28T09:00:58.552279Z",
     "start_time": "2020-05-28T09:00:58.421628Z"
    }
   },
   "outputs": [
    {
     "name": "stdout",
     "output_type": "stream",
     "text": [
      "Shape of data tensor: (6940, 200)\n",
      "Shape of label tensor: (6940, 16)\n"
     ]
    }
   ],
   "source": [
    "data = pad_sequences(sequences, padding = 'post', maxlen = MAX_SEQUENCE_LENGTH)\n",
    "\n",
    "print('Shape of data tensor:', data.shape)\n",
    "print('Shape of label tensor:', y_train.shape)"
   ]
  },
  {
   "cell_type": "code",
   "execution_count": 15,
   "metadata": {
    "ExecuteTime": {
     "end_time": "2020-05-28T09:00:59.346728Z",
     "start_time": "2020-05-28T09:00:58.554272Z"
    }
   },
   "outputs": [],
   "source": [
    "indices = np.arange(data.shape[0])\n",
    "np.random.shuffle(indices)\n",
    "data = data[indices]\n",
    "labels = y_train[indices]"
   ]
  },
  {
   "cell_type": "code",
   "execution_count": 16,
   "metadata": {
    "ExecuteTime": {
     "end_time": "2020-05-28T09:00:59.571129Z",
     "start_time": "2020-05-28T09:00:59.348724Z"
    }
   },
   "outputs": [
    {
     "name": "stdout",
     "output_type": "stream",
     "text": [
      "(5552, 200) (5552, 16) (1388, 200) (1388, 16)\n"
     ]
    }
   ],
   "source": [
    "num_validation_samples = int(VALIDATION_SPLIT*data.shape[0])\n",
    "x_train = data[: -num_validation_samples]\n",
    "y_train = labels[: -num_validation_samples]\n",
    "x_val = data[-num_validation_samples: ]\n",
    "y_val = labels[-num_validation_samples: ]\n",
    "\n",
    "print ((x_train.shape),(y_train.shape),(x_val.shape),(y_val.shape))"
   ]
  },
  {
   "cell_type": "code",
   "execution_count": 17,
   "metadata": {
    "ExecuteTime": {
     "end_time": "2020-05-28T09:00:59.684825Z",
     "start_time": "2020-05-28T09:00:59.573124Z"
    }
   },
   "outputs": [
    {
     "name": "stdout",
     "output_type": "stream",
     "text": [
      "Number of entries in each category:\n",
      "training:  [ 125  450  152  438   31   33   28   59  922 1171  725  800   98  177\n",
      "  129  214]\n",
      "validation:  [ 24 100  35 112   4   7   4  15 260 291 173 211  23  41  32  56]\n"
     ]
    }
   ],
   "source": [
    "print('Number of entries in each category:')\n",
    "print('training: ', y_train.sum(axis=0))\n",
    "print('validation: ', y_val.sum(axis=0))"
   ]
  },
  {
   "cell_type": "code",
   "execution_count": 18,
   "metadata": {
    "ExecuteTime": {
     "end_time": "2020-05-28T09:00:59.766626Z",
     "start_time": "2020-05-28T09:00:59.686820Z"
    }
   },
   "outputs": [
    {
     "name": "stdout",
     "output_type": "stream",
     "text": [
      "Tokenized sentences: \n",
      " [ 1063   135  2289  1284   315   490  1810   199  8035   661  9264  3640\n",
      "   232  1266 22385    17   898  3405    24    66 39762   375  1583   154\n",
      " 55407    61 39763 55408     6     1  2872    79   162 12842  4886  3339\n",
      "  4886  4886  8426     1   996   583   232 25677    18  2321    43   232\n",
      "   384 14337 14277   198 12662 16953  6957    43 39434 10721   147 39764\n",
      " 55409   151 55410  9093   198 32961   196   232  1127  3707    17  8023\n",
      " 14606   147    65  8426  3308 25676     2 16853  7582  4105    75    21\n",
      "   312   152   630    21   452   113     4   957  1297  1088    83  4242\n",
      "     2    86  2417 39765  3437  6187   199   655   511 55411  4906  7522\n",
      " 25675    79   570  1470  4906    23 32962 28671     2    24    21 28671\n",
      "     1   151   110     8     2 16419    24 25675 39766    32 13259    24\n",
      "   410    83 55412    80    65   169   198   124   188   203  2815   162\n",
      "     4   882    13   147    26     2   194   985  2644    56   331    16\n",
      "   101 39433    64     5   347 32963   198    52    43   203 28671     2\n",
      "   151  3942  1267     9  3877   920  1067     7 17904  3064    58    91\n",
      "    98 13390   255     2    79   570   264   402   433   337  1241   257\n",
      "   402   101   363   106   106   142   927     4]\n",
      "One hot label: \n",
      " [0 1 0 0 0 0 0 0 0 0 0 0 0 0 0 0]\n"
     ]
    }
   ],
   "source": [
    "print('Tokenized sentences: \\n', data[10])\n",
    "print('One hot label: \\n', labels[10])"
   ]
  },
  {
   "cell_type": "code",
   "execution_count": 19,
   "metadata": {
    "ExecuteTime": {
     "end_time": "2020-05-28T09:01:15.140584Z",
     "start_time": "2020-05-28T09:00:59.768601Z"
    }
   },
   "outputs": [
    {
     "name": "stdout",
     "output_type": "stream",
     "text": [
      "Loading GloVe from: glove_data/glove.6B/glove.6B.100d.txt ...Done.\n",
      " Proceeding with Embedding Matrix... Completed!\n"
     ]
    }
   ],
   "source": [
    "embeddings_index = {}\n",
    "f = open(GLOVE_DIR, encoding=\"UTF-8\")\n",
    "print('Loading GloVe from:', GLOVE_DIR,'...', end='')\n",
    "for line in f:\n",
    "    values = line.split()\n",
    "    word = values[0]\n",
    "    embeddings_index[word] = np.asarray(values[1:], dtype='float32')\n",
    "f.close()\n",
    "print(\"Done.\\n Proceeding with Embedding Matrix...\", end=\"\")\n",
    "\n",
    "embedding_matrix = np.random.random((len(word_index) + 1, EMBEDDING_DIM))\n",
    "for word, i in word_index.items():\n",
    "    embedding_vector = embeddings_index.get(word)\n",
    "    if embedding_vector is not None:\n",
    "        embedding_matrix[i] = embedding_vector\n",
    "print(\" Completed!\")"
   ]
  },
  {
   "cell_type": "code",
   "execution_count": 20,
   "metadata": {
    "ExecuteTime": {
     "end_time": "2020-05-28T09:01:15.328083Z",
     "start_time": "2020-05-28T09:01:15.142579Z"
    }
   },
   "outputs": [],
   "source": [
    "sequence_input = Input(shape=(MAX_SEQUENCE_LENGTH,), dtype='int32')\n",
    "embedding_layer = Embedding(len(word_index) + 1,\n",
    "                           EMBEDDING_DIM,\n",
    "                           weights = [embedding_matrix],\n",
    "                           input_length = MAX_SEQUENCE_LENGTH,\n",
    "                           trainable=False,\n",
    "                           name = 'embeddings')\n",
    "embedded_sequences = embedding_layer(sequence_input)"
   ]
  },
  {
   "cell_type": "code",
   "execution_count": 21,
   "metadata": {
    "ExecuteTime": {
     "end_time": "2020-05-28T09:01:15.800381Z",
     "start_time": "2020-05-28T09:01:15.329080Z"
    }
   },
   "outputs": [],
   "source": [
    "x = LSTM(60, return_sequences=True,name='lstm_layer')(embedded_sequences)\n",
    "x = GlobalMaxPool1D()(x)\n",
    "x = Dropout(0.1)(x)\n",
    "x = Dense(50, activation=\"relu\")(x)\n",
    "x = Dropout(0.1)(x)\n",
    "preds = Dense(16, activation=\"softmax\")(x)"
   ]
  },
  {
   "cell_type": "code",
   "execution_count": 22,
   "metadata": {
    "ExecuteTime": {
     "end_time": "2020-05-28T09:01:15.956963Z",
     "start_time": "2020-05-28T09:01:15.801379Z"
    }
   },
   "outputs": [
    {
     "name": "stdout",
     "output_type": "stream",
     "text": [
      "Model: \"model_1\"\n",
      "_________________________________________________________________\n",
      "Layer (type)                 Output Shape              Param #   \n",
      "=================================================================\n",
      "input_1 (InputLayer)         (None, 200)               0         \n",
      "_________________________________________________________________\n",
      "embeddings (Embedding)       (None, 200, 100)          9026600   \n",
      "_________________________________________________________________\n",
      "lstm_layer (LSTM)            (None, 200, 60)           38640     \n",
      "_________________________________________________________________\n",
      "global_max_pooling1d_1 (Glob (None, 60)                0         \n",
      "_________________________________________________________________\n",
      "dropout_1 (Dropout)          (None, 60)                0         \n",
      "_________________________________________________________________\n",
      "dense_1 (Dense)              (None, 50)                3050      \n",
      "_________________________________________________________________\n",
      "dropout_2 (Dropout)          (None, 50)                0         \n",
      "_________________________________________________________________\n",
      "dense_2 (Dense)              (None, 16)                816       \n",
      "=================================================================\n",
      "Total params: 9,069,106\n",
      "Trainable params: 42,506\n",
      "Non-trainable params: 9,026,600\n",
      "_________________________________________________________________\n"
     ]
    }
   ],
   "source": [
    "model = Model(sequence_input, preds)\n",
    "model.compile(loss = 'categorical_crossentropy',\n",
    "             optimizer='adam',\n",
    "             metrics = ['accuracy', keras.metrics.AUC(), keras.metrics.Precision()])\n",
    "model.summary()"
   ]
  },
  {
   "cell_type": "code",
   "execution_count": 23,
   "metadata": {
    "ExecuteTime": {
     "end_time": "2020-05-28T09:01:16.137256Z",
     "start_time": "2020-05-28T09:01:15.960953Z"
    }
   },
   "outputs": [
    {
     "data": {
      "image/png": "[encoded data removed]",
      "text/plain": [
       "<IPython.core.display.Image object>"
      ]
     },
     "execution_count": 23,
     "metadata": {},
     "output_type": "execute_result"
    }
   ],
   "source": [
    "from keras.utils import plot_model\n",
    "plot_model(model)"
   ]
  },
  {
   "cell_type": "code",
   "execution_count": 24,
   "metadata": {
    "ExecuteTime": {
     "end_time": "2020-05-28T09:03:08.475957Z",
     "start_time": "2020-05-28T09:01:16.141243Z"
    }
   },
   "outputs": [
    {
     "name": "stdout",
     "output_type": "stream",
     "text": [
      "Training progress:\n",
      "Train on 5552 samples, validate on 1388 samples\n",
      "Epoch 1/10\n",
      "5552/5552 [==============================] - 11s 2ms/step - loss: 2.3799 - accuracy: 0.1963 - auc_1: 0.7634 - precision_1: 0.0000e+00 - val_loss: 2.2254 - val_accuracy: 0.2370 - val_auc_1: 0.8063 - val_precision_1: 0.0000e+00\n",
      "Epoch 2/10\n",
      "5552/5552 [==============================] - 11s 2ms/step - loss: 2.2486 - accuracy: 0.2568 - auc_1: 0.7964 - precision_1: 0.0000e+00 - val_loss: 2.1322 - val_accuracy: 0.3192 - val_auc_1: 0.8272 - val_precision_1: 0.0000e+00\n",
      "Epoch 3/10\n",
      "5552/5552 [==============================] - 11s 2ms/step - loss: 2.1435 - accuracy: 0.3193 - auc_1: 0.8174 - precision_1: 0.6379 - val_loss: 2.0626 - val_accuracy: 0.3235 - val_auc_1: 0.8355 - val_precision_1: 0.6765\n",
      "Epoch 4/10\n",
      "5552/5552 [==============================] - 11s 2ms/step - loss: 2.0417 - accuracy: 0.3604 - auc_1: 0.8356 - precision_1: 0.6691 - val_loss: 1.9690 - val_accuracy: 0.3883 - val_auc_1: 0.8509 - val_precision_1: 0.6591\n",
      "Epoch 5/10\n",
      "5552/5552 [==============================] - 11s 2ms/step - loss: 1.9493 - accuracy: 0.3883 - auc_1: 0.8503 - precision_1: 0.6822 - val_loss: 1.8975 - val_accuracy: 0.4229 - val_auc_1: 0.8618 - val_precision_1: 0.6832\n",
      "Epoch 6/10\n",
      "5552/5552 [==============================] - 11s 2ms/step - loss: 1.8591 - accuracy: 0.4265 - auc_1: 0.8642 - precision_1: 0.6959 - val_loss: 1.8196 - val_accuracy: 0.4589 - val_auc_1: 0.8713 - val_precision_1: 0.6759\n",
      "Epoch 7/10\n",
      "5552/5552 [==============================] - 11s 2ms/step - loss: 1.8027 - accuracy: 0.4452 - auc_1: 0.8724 - precision_1: 0.7023 - val_loss: 1.7786 - val_accuracy: 0.4769 - val_auc_1: 0.8768 - val_precision_1: 0.6952\n",
      "Epoch 8/10\n",
      "5552/5552 [==============================] - 11s 2ms/step - loss: 1.7233 - accuracy: 0.4759 - auc_1: 0.8832 - precision_1: 0.7056 - val_loss: 1.7327 - val_accuracy: 0.4820 - val_auc_1: 0.8820 - val_precision_1: 0.6986\n",
      "Epoch 9/10\n",
      "5552/5552 [==============================] - 11s 2ms/step - loss: 1.6675 - accuracy: 0.4924 - auc_1: 0.8912 - precision_1: 0.7239 - val_loss: 1.7000 - val_accuracy: 0.4921 - val_auc_1: 0.8858 - val_precision_1: 0.7021\n",
      "Epoch 10/10\n",
      "5552/5552 [==============================] - 11s 2ms/step - loss: 1.6111 - accuracy: 0.5153 - auc_1: 0.8986 - precision_1: 0.7383 - val_loss: 1.6884 - val_accuracy: 0.4899 - val_auc_1: 0.8881 - val_precision_1: 0.6895\n"
     ]
    }
   ],
   "source": [
    "print('Training progress:')\n",
    "history = model.fit(x_train, y_train, epochs = 10, batch_size=64, validation_data=(x_val, y_val))"
   ]
  },
  {
   "cell_type": "code",
   "execution_count": 25,
   "metadata": {
    "ExecuteTime": {
     "end_time": "2020-05-28T09:03:08.647005Z",
     "start_time": "2020-05-28T09:03:08.477950Z"
    }
   },
   "outputs": [
    {
     "data": {
      "image/png": "[encoded data removed]",
      "text/plain": [
       "<Figure size 432x288 with 1 Axes>"
      ]
     },
     "metadata": {
      "needs_background": "light"
     },
     "output_type": "display_data"
    }
   ],
   "source": [
    "loss = history.history['loss']\n",
    "val_loss = history.history['val_loss']\n",
    "\n",
    "epochs = range(1, len(loss)+1)\n",
    "\n",
    "plt.plot(epochs, loss, label='Training loss')\n",
    "plt.plot(epochs, val_loss, label='Validation loss')\n",
    "plt.title('Training and validation loss')\n",
    "plt.xlabel('Epochs')\n",
    "plt.ylabel('Loss')\n",
    "plt.legend()\n",
    "plt.show();"
   ]
  },
  {
   "cell_type": "code",
   "execution_count": 26,
   "metadata": {
    "ExecuteTime": {
     "end_time": "2020-05-28T09:03:08.796282Z",
     "start_time": "2020-05-28T09:03:08.648003Z"
    }
   },
   "outputs": [
    {
     "data": {
      "image/png": "[encoded data removed]",
      "text/plain": [
       "<Figure size 432x288 with 1 Axes>"
      ]
     },
     "metadata": {
      "needs_background": "light"
     },
     "output_type": "display_data"
    }
   ],
   "source": [
    "accuracy = history.history['accuracy']\n",
    "val_accuracy = history.history['val_accuracy']\n",
    "\n",
    "plt.plot(epochs, accuracy, label='Training accuracy')\n",
    "plt.plot(epochs, val_accuracy, label='Validation accuracy')\n",
    "plt.title('Training and validation accuracy')\n",
    "plt.ylabel('Accuracy')\n",
    "plt.xlabel('Epochs')\n",
    "plt.legend()\n",
    "plt.show();"
   ]
  },
  {
   "cell_type": "code",
   "execution_count": null,
   "metadata": {},
   "outputs": [],
   "source": []
  }
 ],
 "metadata": {
  "kernelspec": {
   "display_name": "Python 3",
   "language": "python",
   "name": "python3"
  },
  "language_info": {
   "codemirror_mode": {
    "name": "ipython",
    "version": 3
   },
   "file_extension": ".py",
   "mimetype": "text/x-python",
   "name": "python",
   "nbconvert_exporter": "python",
   "pygments_lexer": "ipython3",
   "version": "3.7.7"
  },
  "varInspector": {
   "cols": {
    "lenName": 16,
    "lenType": 16,
    "lenVar": 40
   },
   "kernels_config": {
    "python": {
     "delete_cmd_postfix": "",
     "delete_cmd_prefix": "del ",
     "library": "var_list.py",
     "varRefreshCmd": "print(var_dic_list())"
    },
    "r": {
     "delete_cmd_postfix": ") ",
     "delete_cmd_prefix": "rm(",
     "library": "var_list.r",
     "varRefreshCmd": "cat(var_dic_list()) "
    }
   },
   "types_to_exclude": [
    "module",
    "function",
    "builtin_function_or_method",
    "instance",
    "_Feature"
   ],
   "window_display": false
  }
 },
 "nbformat": 4,
 "nbformat_minor": 2
}
