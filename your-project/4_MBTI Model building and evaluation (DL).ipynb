{
 "cells": [
  {
   "cell_type": "markdown",
   "metadata": {},
   "source": [
    "<img src=\"https://bit.ly/2VnXWr2\" width=\"100\" align=\"left\">"
   ]
  },
  {
   "cell_type": "markdown",
   "metadata": {},
   "source": [
    "# Final project: NLP to predict Myers-Briggs Personality Type"
   ]
  },
  {
   "cell_type": "markdown",
   "metadata": {},
   "source": [
    "## Imports"
   ]
  },
  {
   "cell_type": "code",
   "execution_count": 1,
   "metadata": {
    "ExecuteTime": {
     "end_time": "2020-05-29T18:54:34.082808Z",
     "start_time": "2020-05-29T18:54:29.495610Z"
    }
   },
   "outputs": [
    {
     "name": "stderr",
     "output_type": "stream",
     "text": [
      "Using TensorFlow backend.\n"
     ]
    }
   ],
   "source": [
    "import re\n",
    "import pandas as pd\n",
    "import numpy as np\n",
    "import spacy\n",
    "import matplotlib.pyplot as plt\n",
    "import seaborn as sns\n",
    "\n",
    "import pickle as pkl\n",
    "\n",
    "from sklearn.model_selection import train_test_split\n",
    "\n",
    "import keras.metrics\n",
    "from keras import regularizers, initializers, optimizers, callbacks\n",
    "from keras.preprocessing.sequence import pad_sequences\n",
    "from keras.preprocessing.text import Tokenizer\n",
    "from keras.utils.np_utils import to_categorical\n",
    "from keras.layers import *\n",
    "from keras.models import Model"
   ]
  },
  {
   "cell_type": "markdown",
   "metadata": {
    "ExecuteTime": {
     "end_time": "2020-05-29T18:09:27.528161Z",
     "start_time": "2020-05-29T18:09:27.525169Z"
    }
   },
   "source": [
    "## 4. Model building and evaluation: Deep Learning"
   ]
  },
  {
   "cell_type": "code",
   "execution_count": 2,
   "metadata": {
    "ExecuteTime": {
     "end_time": "2020-05-29T18:54:35.221860Z",
     "start_time": "2020-05-29T18:54:34.443844Z"
    }
   },
   "outputs": [],
   "source": [
    "spacy_nlp = spacy.load('en_core_web_sm')"
   ]
  },
  {
   "cell_type": "code",
   "execution_count": 3,
   "metadata": {
    "ExecuteTime": {
     "end_time": "2020-05-29T18:54:35.807207Z",
     "start_time": "2020-05-29T18:54:35.803218Z"
    }
   },
   "outputs": [],
   "source": [
    "stopwords = spacy.lang.en.stop_words.STOP_WORDS"
   ]
  },
  {
   "cell_type": "code",
   "execution_count": 4,
   "metadata": {
    "ExecuteTime": {
     "end_time": "2020-05-29T18:54:36.667585Z",
     "start_time": "2020-05-29T18:54:36.663596Z"
    }
   },
   "outputs": [],
   "source": [
    "MAX_NB_WORDS = 100000    # max no. of words for tokenizer\n",
    "MAX_SEQUENCE_LENGTH = 200 # max length of each entry (sentence), including padding\n",
    "VALIDATION_SPLIT = 0.2   # data for validation (not used in training)\n",
    "EMBEDDING_DIM = 100      # embedding dimensions for word vectors (word2vec/GloVe)\n",
    "GLOVE_DIR = \"glove_data/glove.6B/glove.6B.\"+str(EMBEDDING_DIM)+\"d.txt\""
   ]
  },
  {
   "cell_type": "markdown",
   "metadata": {},
   "source": [
    "### Using Types"
   ]
  },
  {
   "cell_type": "code",
   "execution_count": 5,
   "metadata": {
    "ExecuteTime": {
     "end_time": "2020-05-29T18:42:08.859631Z",
     "start_time": "2020-05-29T18:42:08.615277Z"
    }
   },
   "outputs": [],
   "source": [
    "mbti_df_clean = pd.read_pickle(\"data/output_pickles/mbti_clean_text.pkl\")\n",
    "result_umap_types  = pd.read_csv(\"data/output_csv/result_umap_types.csv\")"
   ]
  },
  {
   "cell_type": "code",
   "execution_count": 6,
   "metadata": {
    "ExecuteTime": {
     "end_time": "2020-05-29T18:42:08.877498Z",
     "start_time": "2020-05-29T18:42:08.860544Z"
    }
   },
   "outputs": [
    {
     "data": {
      "text/html": [
       "<div>\n",
       "<style scoped>\n",
       "    .dataframe tbody tr th:only-of-type {\n",
       "        vertical-align: middle;\n",
       "    }\n",
       "\n",
       "    .dataframe tbody tr th {\n",
       "        vertical-align: top;\n",
       "    }\n",
       "\n",
       "    .dataframe thead th {\n",
       "        text-align: right;\n",
       "    }\n",
       "</style>\n",
       "<table border=\"1\" class=\"dataframe\">\n",
       "  <thead>\n",
       "    <tr style=\"text-align: right;\">\n",
       "      <th></th>\n",
       "      <th>type</th>\n",
       "      <th>posts</th>\n",
       "      <th>type_clean</th>\n",
       "      <th>posts_clean</th>\n",
       "      <th>type_lemma</th>\n",
       "      <th>posts_lemma</th>\n",
       "    </tr>\n",
       "  </thead>\n",
       "  <tbody>\n",
       "    <tr>\n",
       "      <th>0</th>\n",
       "      <td>infj</td>\n",
       "      <td>'http://www.youtube.com/watch?v=qsXHcwe3krw|||...</td>\n",
       "      <td>infj</td>\n",
       "      <td>intj moments sportscenter plays pranks life ch...</td>\n",
       "      <td>infj</td>\n",
       "      <td>intj moment sportscent play prank life change ...</td>\n",
       "    </tr>\n",
       "    <tr>\n",
       "      <th>1</th>\n",
       "      <td>entp</td>\n",
       "      <td>'I'm finding the lack of me in these posts ver...</td>\n",
       "      <td>entp</td>\n",
       "      <td>finding lack posts alarming sex boring positio...</td>\n",
       "      <td>entp</td>\n",
       "      <td>find lack post alarming sex bore position exam...</td>\n",
       "    </tr>\n",
       "    <tr>\n",
       "      <th>2</th>\n",
       "      <td>intp</td>\n",
       "      <td>'Good one  _____   https://www.youtube.com/wat...</td>\n",
       "      <td>intp</td>\n",
       "      <td>good course know blessing curse absolutely pos...</td>\n",
       "      <td>intp</td>\n",
       "      <td>good course know blessing curse absolutely pos...</td>\n",
       "    </tr>\n",
       "    <tr>\n",
       "      <th>3</th>\n",
       "      <td>intj</td>\n",
       "      <td>'Dear INTP,   I enjoyed our conversation the o...</td>\n",
       "      <td>intj</td>\n",
       "      <td>dear intp enjoyed conversation day esoteric ga...</td>\n",
       "      <td>intj</td>\n",
       "      <td>dear intp enjoy conversation day esoteric gabb...</td>\n",
       "    </tr>\n",
       "    <tr>\n",
       "      <th>4</th>\n",
       "      <td>entj</td>\n",
       "      <td>'You're fired.|||That's another silly misconce...</td>\n",
       "      <td>entj</td>\n",
       "      <td>fired silly misconception approaching logicall...</td>\n",
       "      <td>entj</td>\n",
       "      <td>fire silly misconception approach logically go...</td>\n",
       "    </tr>\n",
       "  </tbody>\n",
       "</table>\n",
       "</div>"
      ],
      "text/plain": [
       "   type                                              posts type_clean  \\\n",
       "0  infj  'http://www.youtube.com/watch?v=qsXHcwe3krw|||...       infj   \n",
       "1  entp  'I'm finding the lack of me in these posts ver...       entp   \n",
       "2  intp  'Good one  _____   https://www.youtube.com/wat...       intp   \n",
       "3  intj  'Dear INTP,   I enjoyed our conversation the o...       intj   \n",
       "4  entj  'You're fired.|||That's another silly misconce...       entj   \n",
       "\n",
       "                                         posts_clean type_lemma  \\\n",
       "0  intj moments sportscenter plays pranks life ch...       infj   \n",
       "1  finding lack posts alarming sex boring positio...       entp   \n",
       "2  good course know blessing curse absolutely pos...       intp   \n",
       "3  dear intp enjoyed conversation day esoteric ga...       intj   \n",
       "4  fired silly misconception approaching logicall...       entj   \n",
       "\n",
       "                                         posts_lemma  \n",
       "0  intj moment sportscent play prank life change ...  \n",
       "1  find lack post alarming sex bore position exam...  \n",
       "2  good course know blessing curse absolutely pos...  \n",
       "3  dear intp enjoy conversation day esoteric gabb...  \n",
       "4  fire silly misconception approach logically go...  "
      ]
     },
     "execution_count": 6,
     "metadata": {},
     "output_type": "execute_result"
    }
   ],
   "source": [
    "mbti_df_clean.head()"
   ]
  },
  {
   "cell_type": "code",
   "execution_count": 7,
   "metadata": {
    "ExecuteTime": {
     "end_time": "2020-05-29T18:42:09.011221Z",
     "start_time": "2020-05-29T18:42:08.879493Z"
    }
   },
   "outputs": [
    {
     "data": {
      "text/html": [
       "<div>\n",
       "<style scoped>\n",
       "    .dataframe tbody tr th:only-of-type {\n",
       "        vertical-align: middle;\n",
       "    }\n",
       "\n",
       "    .dataframe tbody tr th {\n",
       "        vertical-align: top;\n",
       "    }\n",
       "\n",
       "    .dataframe thead th {\n",
       "        text-align: right;\n",
       "    }\n",
       "</style>\n",
       "<table border=\"1\" class=\"dataframe\">\n",
       "  <thead>\n",
       "    <tr style=\"text-align: right;\">\n",
       "      <th></th>\n",
       "      <th>Unnamed: 0</th>\n",
       "      <th>type</th>\n",
       "      <th>words_per_comment</th>\n",
       "      <th>variance_of_word_counts</th>\n",
       "      <th>enfj</th>\n",
       "      <th>enfp</th>\n",
       "      <th>entj</th>\n",
       "      <th>entp</th>\n",
       "      <th>esfj</th>\n",
       "      <th>esfp</th>\n",
       "      <th>...</th>\n",
       "      <th>infj</th>\n",
       "      <th>infp</th>\n",
       "      <th>intj</th>\n",
       "      <th>intp</th>\n",
       "      <th>isfj</th>\n",
       "      <th>isfp</th>\n",
       "      <th>istj</th>\n",
       "      <th>istp</th>\n",
       "      <th>0</th>\n",
       "      <th>1</th>\n",
       "    </tr>\n",
       "  </thead>\n",
       "  <tbody>\n",
       "    <tr>\n",
       "      <th>0</th>\n",
       "      <td>0</td>\n",
       "      <td>infj</td>\n",
       "      <td>11.12</td>\n",
       "      <td>135.2900</td>\n",
       "      <td>0</td>\n",
       "      <td>0</td>\n",
       "      <td>0</td>\n",
       "      <td>0</td>\n",
       "      <td>0</td>\n",
       "      <td>0</td>\n",
       "      <td>...</td>\n",
       "      <td>1</td>\n",
       "      <td>0</td>\n",
       "      <td>0</td>\n",
       "      <td>0</td>\n",
       "      <td>0</td>\n",
       "      <td>0</td>\n",
       "      <td>0</td>\n",
       "      <td>0</td>\n",
       "      <td>3.910143</td>\n",
       "      <td>7.477874</td>\n",
       "    </tr>\n",
       "    <tr>\n",
       "      <th>1</th>\n",
       "      <td>1</td>\n",
       "      <td>entp</td>\n",
       "      <td>23.40</td>\n",
       "      <td>187.4756</td>\n",
       "      <td>0</td>\n",
       "      <td>0</td>\n",
       "      <td>0</td>\n",
       "      <td>1</td>\n",
       "      <td>0</td>\n",
       "      <td>0</td>\n",
       "      <td>...</td>\n",
       "      <td>0</td>\n",
       "      <td>0</td>\n",
       "      <td>0</td>\n",
       "      <td>0</td>\n",
       "      <td>0</td>\n",
       "      <td>0</td>\n",
       "      <td>0</td>\n",
       "      <td>0</td>\n",
       "      <td>3.938040</td>\n",
       "      <td>5.939636</td>\n",
       "    </tr>\n",
       "    <tr>\n",
       "      <th>2</th>\n",
       "      <td>2</td>\n",
       "      <td>intp</td>\n",
       "      <td>16.72</td>\n",
       "      <td>180.6900</td>\n",
       "      <td>0</td>\n",
       "      <td>0</td>\n",
       "      <td>0</td>\n",
       "      <td>0</td>\n",
       "      <td>0</td>\n",
       "      <td>0</td>\n",
       "      <td>...</td>\n",
       "      <td>0</td>\n",
       "      <td>0</td>\n",
       "      <td>0</td>\n",
       "      <td>1</td>\n",
       "      <td>0</td>\n",
       "      <td>0</td>\n",
       "      <td>0</td>\n",
       "      <td>0</td>\n",
       "      <td>3.740153</td>\n",
       "      <td>5.486389</td>\n",
       "    </tr>\n",
       "    <tr>\n",
       "      <th>3</th>\n",
       "      <td>3</td>\n",
       "      <td>intj</td>\n",
       "      <td>21.28</td>\n",
       "      <td>181.8324</td>\n",
       "      <td>0</td>\n",
       "      <td>0</td>\n",
       "      <td>0</td>\n",
       "      <td>0</td>\n",
       "      <td>0</td>\n",
       "      <td>0</td>\n",
       "      <td>...</td>\n",
       "      <td>0</td>\n",
       "      <td>0</td>\n",
       "      <td>1</td>\n",
       "      <td>0</td>\n",
       "      <td>0</td>\n",
       "      <td>0</td>\n",
       "      <td>0</td>\n",
       "      <td>0</td>\n",
       "      <td>5.415134</td>\n",
       "      <td>7.452929</td>\n",
       "    </tr>\n",
       "    <tr>\n",
       "      <th>4</th>\n",
       "      <td>4</td>\n",
       "      <td>entj</td>\n",
       "      <td>19.34</td>\n",
       "      <td>196.4576</td>\n",
       "      <td>0</td>\n",
       "      <td>0</td>\n",
       "      <td>1</td>\n",
       "      <td>0</td>\n",
       "      <td>0</td>\n",
       "      <td>0</td>\n",
       "      <td>...</td>\n",
       "      <td>0</td>\n",
       "      <td>0</td>\n",
       "      <td>0</td>\n",
       "      <td>0</td>\n",
       "      <td>0</td>\n",
       "      <td>0</td>\n",
       "      <td>0</td>\n",
       "      <td>0</td>\n",
       "      <td>2.083198</td>\n",
       "      <td>7.512875</td>\n",
       "    </tr>\n",
       "  </tbody>\n",
       "</table>\n",
       "<p>5 rows × 22 columns</p>\n",
       "</div>"
      ],
      "text/plain": [
       "   Unnamed: 0  type  words_per_comment  variance_of_word_counts  enfj  enfp  \\\n",
       "0           0  infj              11.12                 135.2900     0     0   \n",
       "1           1  entp              23.40                 187.4756     0     0   \n",
       "2           2  intp              16.72                 180.6900     0     0   \n",
       "3           3  intj              21.28                 181.8324     0     0   \n",
       "4           4  entj              19.34                 196.4576     0     0   \n",
       "\n",
       "   entj  entp  esfj  esfp  ...  infj  infp  intj  intp  isfj  isfp  istj  \\\n",
       "0     0     0     0     0  ...     1     0     0     0     0     0     0   \n",
       "1     0     1     0     0  ...     0     0     0     0     0     0     0   \n",
       "2     0     0     0     0  ...     0     0     0     1     0     0     0   \n",
       "3     0     0     0     0  ...     0     0     1     0     0     0     0   \n",
       "4     1     0     0     0  ...     0     0     0     0     0     0     0   \n",
       "\n",
       "   istp         0         1  \n",
       "0     0  3.910143  7.477874  \n",
       "1     0  3.938040  5.939636  \n",
       "2     0  3.740153  5.486389  \n",
       "3     0  5.415134  7.452929  \n",
       "4     0  2.083198  7.512875  \n",
       "\n",
       "[5 rows x 22 columns]"
      ]
     },
     "execution_count": 7,
     "metadata": {},
     "output_type": "execute_result"
    }
   ],
   "source": [
    "result_umap_types.head()"
   ]
  },
  {
   "cell_type": "code",
   "execution_count": 8,
   "metadata": {
    "ExecuteTime": {
     "end_time": "2020-05-29T18:42:09.134969Z",
     "start_time": "2020-05-29T18:42:09.014186Z"
    }
   },
   "outputs": [],
   "source": [
    "labels = [\"enfj\", \"enfp\", \"entj\", \"entp\", \"esfj\", \"esfp\", \"estj\", \"estp\", \"infj\", \"infp\", \"intj\", \"intp\", \"isfj\", \n",
    "          \"isfp\", \"istj\", \"istp\"]\n",
    "y = result_umap_types[labels].values\n",
    "X = mbti_df_clean[\"posts_clean\"]"
   ]
  },
  {
   "cell_type": "code",
   "execution_count": 9,
   "metadata": {
    "ExecuteTime": {
     "end_time": "2020-05-29T18:42:09.248757Z",
     "start_time": "2020-05-29T18:42:09.136964Z"
    }
   },
   "outputs": [
    {
     "name": "stdout",
     "output_type": "stream",
     "text": [
      "(6940,) (6940, 16) (1735,) (1735, 16)\n"
     ]
    }
   ],
   "source": [
    "X_train, X_test, y_train, y_test = train_test_split(X, y, random_state=42, test_size=0.2)\n",
    "print ((X_train.shape),(y_train.shape),(X_test.shape),(y_test.shape))"
   ]
  },
  {
   "cell_type": "code",
   "execution_count": 10,
   "metadata": {
    "ExecuteTime": {
     "end_time": "2020-05-29T18:42:09.351779Z",
     "start_time": "2020-05-29T18:42:09.249755Z"
    }
   },
   "outputs": [],
   "source": [
    "X_train = list(X_train)"
   ]
  },
  {
   "cell_type": "code",
   "execution_count": 11,
   "metadata": {
    "ExecuteTime": {
     "end_time": "2020-05-29T18:42:09.446523Z",
     "start_time": "2020-05-29T18:42:09.352775Z"
    }
   },
   "outputs": [],
   "source": [
    "texts = [line for line in X_train] "
   ]
  },
  {
   "cell_type": "code",
   "execution_count": 12,
   "metadata": {
    "ExecuteTime": {
     "end_time": "2020-05-29T18:42:11.986381Z",
     "start_time": "2020-05-29T18:42:09.447490Z"
    }
   },
   "outputs": [],
   "source": [
    "tokenizer = Tokenizer(num_words=MAX_NB_WORDS)\n",
    "tokenizer.fit_on_texts(texts)"
   ]
  },
  {
   "cell_type": "code",
   "execution_count": 13,
   "metadata": {
    "ExecuteTime": {
     "end_time": "2020-05-29T18:42:13.644855Z",
     "start_time": "2020-05-29T18:42:11.988283Z"
    }
   },
   "outputs": [
    {
     "name": "stdout",
     "output_type": "stream",
     "text": [
      "Vocabulary size: 90265\n"
     ]
    }
   ],
   "source": [
    "sequences = tokenizer.texts_to_sequences(texts)\n",
    "word_index = tokenizer.word_index\n",
    "print('Vocabulary size:', len(word_index))"
   ]
  },
  {
   "cell_type": "code",
   "execution_count": 14,
   "metadata": {
    "ExecuteTime": {
     "end_time": "2020-05-29T18:42:13.775537Z",
     "start_time": "2020-05-29T18:42:13.646851Z"
    }
   },
   "outputs": [
    {
     "name": "stdout",
     "output_type": "stream",
     "text": [
      "Shape of data tensor: (6940, 200)\n",
      "Shape of label tensor: (6940, 16)\n"
     ]
    }
   ],
   "source": [
    "data = pad_sequences(sequences, padding = 'post', maxlen = MAX_SEQUENCE_LENGTH)\n",
    "\n",
    "print('Shape of data tensor:', data.shape)\n",
    "print('Shape of label tensor:', y_train.shape)"
   ]
  },
  {
   "cell_type": "code",
   "execution_count": 15,
   "metadata": {
    "ExecuteTime": {
     "end_time": "2020-05-29T18:42:13.786573Z",
     "start_time": "2020-05-29T18:42:13.777501Z"
    }
   },
   "outputs": [],
   "source": [
    "indices = np.arange(data.shape[0])\n",
    "np.random.shuffle(indices)\n",
    "data = data[indices]\n",
    "labels = y_train[indices]"
   ]
  },
  {
   "cell_type": "code",
   "execution_count": 16,
   "metadata": {
    "ExecuteTime": {
     "end_time": "2020-05-29T18:42:13.884091Z",
     "start_time": "2020-05-29T18:42:13.788480Z"
    }
   },
   "outputs": [
    {
     "name": "stdout",
     "output_type": "stream",
     "text": [
      "(5552, 200) (5552, 16) (1388, 200) (1388, 16)\n"
     ]
    }
   ],
   "source": [
    "num_validation_samples = int(VALIDATION_SPLIT*data.shape[0])\n",
    "x_train = data[: -num_validation_samples]\n",
    "y_train = labels[: -num_validation_samples]\n",
    "x_val = data[-num_validation_samples: ]\n",
    "y_val = labels[-num_validation_samples: ]\n",
    "\n",
    "print ((x_train.shape),(y_train.shape),(x_val.shape),(y_val.shape))"
   ]
  },
  {
   "cell_type": "code",
   "execution_count": 17,
   "metadata": {
    "ExecuteTime": {
     "end_time": "2020-05-29T18:42:14.384852Z",
     "start_time": "2020-05-29T18:42:13.886085Z"
    }
   },
   "outputs": [
    {
     "name": "stdout",
     "output_type": "stream",
     "text": [
      "Number of entries in each category:\n",
      "training:  [ 119  424  154  437   29   33   27   58  947 1178  738  809   99  171\n",
      "  122  207]\n",
      "validation:  [ 30 126  33 113   6   7   5  16 235 284 160 202  22  47  39  63]\n"
     ]
    }
   ],
   "source": [
    "print('Number of entries in each category:')\n",
    "print('training: ', y_train.sum(axis=0))\n",
    "print('validation: ', y_val.sum(axis=0))"
   ]
  },
  {
   "cell_type": "code",
   "execution_count": 18,
   "metadata": {
    "ExecuteTime": {
     "end_time": "2020-05-29T18:42:14.623206Z",
     "start_time": "2020-05-29T18:42:14.386842Z"
    }
   },
   "outputs": [
    {
     "name": "stdout",
     "output_type": "stream",
     "text": [
      "Tokenized sentences: \n",
      " [  582 10742  3246  2058 10909  2294   214    15 10891   214    39  5162\n",
      "    45 27765   105  1483   850 24429  2650    38 22890 21819  5045  1091\n",
      "   443 26808  3173  1784 15266   858  2313  3550  2331  5275  6839 16780\n",
      "    16   249    66  3720  1436 36382 69100     1    41   280    53     1\n",
      "     2   189   903    49    28   143     5  2265   280 69101   655  1462\n",
      "  1697    60   408  2175   395   463   484   339   126   151   397   101\n",
      "    49  3774    18   643   616   669  9484   727   248  1216  2168  1139\n",
      "   349  2582  3756  1334 13874   848 69102   907    19    93 69103    45\n",
      "   710     7   473  6450  6293  1212 25382  8651   244   111   226  1586\n",
      "  2646    12   395  4268 69104   225 34943   120  1295   777    93   102\n",
      "  4648  6718    20  1217  5922  1958   538   356    21   123   105 44221\n",
      "   172   240  3134  1563   141     8   113   113    80 35306  1391    68\n",
      "  1647   252   895   244     1  1323 20481  3825    57  6119 69105    93\n",
      "  2236    57   652    60   199    47 11111   408  2520  1301   938    35\n",
      "    30   337 13741    78 22139  1378 17085  1330 69106  4414    67   320\n",
      "   320   742   225     1   302  1212   447     3   330  3236  1330   575\n",
      "  3774     7  1330   577    16  1330  2398  7934]\n",
      "One hot label: \n",
      " [0 0 0 0 0 0 0 0 0 1 0 0 0 0 0 0]\n"
     ]
    }
   ],
   "source": [
    "print('Tokenized sentences: \\n', data[10])\n",
    "print('One hot label: \\n', labels[10])"
   ]
  },
  {
   "cell_type": "code",
   "execution_count": 19,
   "metadata": {
    "ExecuteTime": {
     "end_time": "2020-05-29T18:42:29.273357Z",
     "start_time": "2020-05-29T18:42:14.625200Z"
    }
   },
   "outputs": [
    {
     "name": "stdout",
     "output_type": "stream",
     "text": [
      "Loading GloVe from: glove_data/glove.6B/glove.6B.100d.txt ...Done.\n",
      " Proceeding with Embedding Matrix... Completed!\n"
     ]
    }
   ],
   "source": [
    "embeddings_index = {}\n",
    "f = open(GLOVE_DIR, encoding=\"UTF-8\")\n",
    "print('Loading GloVe from:', GLOVE_DIR,'...', end='')\n",
    "for line in f:\n",
    "    values = line.split()\n",
    "    word = values[0]\n",
    "    embeddings_index[word] = np.asarray(values[1:], dtype='float32')\n",
    "f.close()\n",
    "print(\"Done.\\n Proceeding with Embedding Matrix...\", end=\"\")\n",
    "\n",
    "embedding_matrix = np.random.random((len(word_index) + 1, EMBEDDING_DIM))\n",
    "for word, i in word_index.items():\n",
    "    embedding_vector = embeddings_index.get(word)\n",
    "    if embedding_vector is not None:\n",
    "        embedding_matrix[i] = embedding_vector\n",
    "print(\" Completed!\")"
   ]
  },
  {
   "cell_type": "code",
   "execution_count": 20,
   "metadata": {
    "ExecuteTime": {
     "end_time": "2020-05-29T18:42:29.435923Z",
     "start_time": "2020-05-29T18:42:29.275326Z"
    }
   },
   "outputs": [],
   "source": [
    "sequence_input = Input(shape=(MAX_SEQUENCE_LENGTH,), dtype='int32')\n",
    "embedding_layer = Embedding(len(word_index) + 1,\n",
    "                           EMBEDDING_DIM,\n",
    "                           weights = [embedding_matrix],\n",
    "                           input_length = MAX_SEQUENCE_LENGTH,\n",
    "                           trainable=False,\n",
    "                           name = 'embeddings')\n",
    "embedded_sequences = embedding_layer(sequence_input)"
   ]
  },
  {
   "cell_type": "code",
   "execution_count": 21,
   "metadata": {
    "ExecuteTime": {
     "end_time": "2020-05-29T18:42:30.525484Z",
     "start_time": "2020-05-29T18:42:29.436894Z"
    }
   },
   "outputs": [],
   "source": [
    "x = LSTM(60, return_sequences=True,name='lstm_layer')(embedded_sequences)\n",
    "x = GlobalMaxPool1D()(x)\n",
    "x = Dropout(0.1)(x)\n",
    "x = Dense(50, activation=\"relu\")(x)\n",
    "x = Dropout(0.1)(x)\n",
    "preds = Dense(16, activation=\"softmax\")(x)"
   ]
  },
  {
   "cell_type": "code",
   "execution_count": 22,
   "metadata": {
    "ExecuteTime": {
     "end_time": "2020-05-29T18:42:30.637186Z",
     "start_time": "2020-05-29T18:42:30.526481Z"
    }
   },
   "outputs": [
    {
     "name": "stdout",
     "output_type": "stream",
     "text": [
      "Model: \"model_1\"\n",
      "_________________________________________________________________\n",
      "Layer (type)                 Output Shape              Param #   \n",
      "=================================================================\n",
      "input_1 (InputLayer)         (None, 200)               0         \n",
      "_________________________________________________________________\n",
      "embeddings (Embedding)       (None, 200, 100)          9026600   \n",
      "_________________________________________________________________\n",
      "lstm_layer (LSTM)            (None, 200, 60)           38640     \n",
      "_________________________________________________________________\n",
      "global_max_pooling1d_1 (Glob (None, 60)                0         \n",
      "_________________________________________________________________\n",
      "dropout_1 (Dropout)          (None, 60)                0         \n",
      "_________________________________________________________________\n",
      "dense_1 (Dense)              (None, 50)                3050      \n",
      "_________________________________________________________________\n",
      "dropout_2 (Dropout)          (None, 50)                0         \n",
      "_________________________________________________________________\n",
      "dense_2 (Dense)              (None, 16)                816       \n",
      "=================================================================\n",
      "Total params: 9,069,106\n",
      "Trainable params: 42,506\n",
      "Non-trainable params: 9,026,600\n",
      "_________________________________________________________________\n"
     ]
    }
   ],
   "source": [
    "model = Model(sequence_input, preds)\n",
    "model.compile(loss = 'categorical_crossentropy',\n",
    "             optimizer='adam',\n",
    "             metrics = ['accuracy', keras.metrics.Precision(), keras.metrics.Recall()])\n",
    "model.summary()"
   ]
  },
  {
   "cell_type": "code",
   "execution_count": 23,
   "metadata": {
    "ExecuteTime": {
     "end_time": "2020-05-29T18:42:30.804738Z",
     "start_time": "2020-05-29T18:42:30.641175Z"
    }
   },
   "outputs": [
    {
     "data": {
      "image/png": "[encoded data removed]",
      "text/plain": [
       "<IPython.core.display.Image object>"
      ]
     },
     "execution_count": 23,
     "metadata": {},
     "output_type": "execute_result"
    }
   ],
   "source": [
    "from keras.utils import plot_model\n",
    "plot_model(model)"
   ]
  },
  {
   "cell_type": "code",
   "execution_count": 24,
   "metadata": {
    "ExecuteTime": {
     "end_time": "2020-05-29T18:46:32.902016Z",
     "start_time": "2020-05-29T18:42:30.806733Z"
    }
   },
   "outputs": [
    {
     "name": "stdout",
     "output_type": "stream",
     "text": [
      "Training progress:\n",
      "Train on 5552 samples, validate on 1388 samples\n",
      "Epoch 1/20\n",
      " - 12s - loss: 2.3452 - accuracy: 0.2086 - precision_1: 0.0000e+00 - recall_1: 0.0000e+00 - val_loss: 2.2298 - val_accuracy: 0.2687 - val_precision_1: 0.0000e+00 - val_recall_1: 0.0000e+00\n",
      "Epoch 2/20\n",
      " - 13s - loss: 2.1832 - accuracy: 0.2909 - precision_1: 0.5785 - recall_1: 0.0126 - val_loss: 2.0996 - val_accuracy: 0.3653 - val_precision_1: 0.7222 - val_recall_1: 0.0281\n",
      "Epoch 3/20\n",
      " - 12s - loss: 2.0437 - accuracy: 0.3541 - precision_1: 0.6490 - recall_1: 0.0573 - val_loss: 1.9841 - val_accuracy: 0.4164 - val_precision_1: 0.7434 - val_recall_1: 0.0814\n",
      "Epoch 4/20\n",
      " - 12s - loss: 1.9121 - accuracy: 0.4090 - precision_1: 0.7164 - recall_1: 0.1479 - val_loss: 1.8548 - val_accuracy: 0.4380 - val_precision_1: 0.7314 - val_recall_1: 0.1628\n",
      "Epoch 5/20\n",
      " - 12s - loss: 1.8171 - accuracy: 0.4413 - precision_1: 0.7078 - recall_1: 0.2178 - val_loss: 1.8043 - val_accuracy: 0.4438 - val_precision_1: 0.6981 - val_recall_1: 0.2082\n",
      "Epoch 6/20\n",
      " - 12s - loss: 1.7288 - accuracy: 0.4669 - precision_1: 0.7129 - recall_1: 0.2630 - val_loss: 1.7589 - val_accuracy: 0.4712 - val_precision_1: 0.7545 - val_recall_1: 0.2392\n",
      "Epoch 7/20\n",
      " - 12s - loss: 1.6724 - accuracy: 0.4908 - precision_1: 0.7228 - recall_1: 0.2781 - val_loss: 1.7357 - val_accuracy: 0.4863 - val_precision_1: 0.7112 - val_recall_1: 0.2572\n",
      "Epoch 8/20\n",
      " - 12s - loss: 1.6094 - accuracy: 0.5187 - precision_1: 0.7330 - recall_1: 0.3060 - val_loss: 1.7148 - val_accuracy: 0.4769 - val_precision_1: 0.6814 - val_recall_1: 0.2774\n",
      "Epoch 9/20\n",
      " - 12s - loss: 1.5433 - accuracy: 0.5362 - precision_1: 0.7380 - recall_1: 0.3312 - val_loss: 1.6698 - val_accuracy: 0.5079 - val_precision_1: 0.7175 - val_recall_1: 0.2781\n",
      "Epoch 10/20\n",
      " - 12s - loss: 1.5129 - accuracy: 0.5486 - precision_1: 0.7468 - recall_1: 0.3464 - val_loss: 1.6633 - val_accuracy: 0.5065 - val_precision_1: 0.6807 - val_recall_1: 0.3148\n",
      "Epoch 11/20\n",
      " - 12s - loss: 1.4332 - accuracy: 0.5690 - precision_1: 0.7644 - recall_1: 0.3827 - val_loss: 1.6651 - val_accuracy: 0.5029 - val_precision_1: 0.6844 - val_recall_1: 0.3249\n",
      "Epoch 12/20\n",
      " - 12s - loss: 1.4098 - accuracy: 0.5771 - precision_1: 0.7467 - recall_1: 0.3930 - val_loss: 1.6712 - val_accuracy: 0.5115 - val_precision_1: 0.6593 - val_recall_1: 0.3638\n",
      "Epoch 13/20\n",
      " - 11s - loss: 1.3453 - accuracy: 0.5960 - precision_1: 0.7691 - recall_1: 0.4296 - val_loss: 1.6736 - val_accuracy: 0.5130 - val_precision_1: 0.6649 - val_recall_1: 0.3660\n",
      "Epoch 14/20\n",
      " - 12s - loss: 1.3025 - accuracy: 0.6097 - precision_1: 0.7784 - recall_1: 0.4422 - val_loss: 1.6804 - val_accuracy: 0.5050 - val_precision_1: 0.6551 - val_recall_1: 0.3408\n",
      "Epoch 15/20\n",
      " - 12s - loss: 1.2634 - accuracy: 0.6138 - precision_1: 0.7858 - recall_1: 0.4618 - val_loss: 1.7496 - val_accuracy: 0.4841 - val_precision_1: 0.6089 - val_recall_1: 0.3646\n",
      "Epoch 16/20\n",
      " - 12s - loss: 1.2068 - accuracy: 0.6336 - precision_1: 0.8018 - recall_1: 0.4869 - val_loss: 1.6955 - val_accuracy: 0.5101 - val_precision_1: 0.6541 - val_recall_1: 0.3624\n",
      "Epoch 17/20\n",
      " - 12s - loss: 1.1483 - accuracy: 0.6529 - precision_1: 0.8091 - recall_1: 0.5070 - val_loss: 1.7506 - val_accuracy: 0.4921 - val_precision_1: 0.6112 - val_recall_1: 0.3862\n",
      "Epoch 18/20\n",
      " - 12s - loss: 1.1110 - accuracy: 0.6619 - precision_1: 0.8149 - recall_1: 0.5283 - val_loss: 1.7907 - val_accuracy: 0.4957 - val_precision_1: 0.6024 - val_recall_1: 0.3919\n",
      "Epoch 19/20\n",
      " - 12s - loss: 1.0858 - accuracy: 0.6680 - precision_1: 0.8183 - recall_1: 0.5274 - val_loss: 1.7639 - val_accuracy: 0.5029 - val_precision_1: 0.6217 - val_recall_1: 0.3919\n",
      "Epoch 20/20\n",
      " - 12s - loss: 1.0413 - accuracy: 0.6825 - precision_1: 0.8267 - recall_1: 0.5618 - val_loss: 1.8027 - val_accuracy: 0.4892 - val_precision_1: 0.5988 - val_recall_1: 0.3732\n"
     ]
    }
   ],
   "source": [
    "print('Training progress:')\n",
    "history = model.fit(x_train, y_train, epochs = 20, batch_size=32, validation_data=(x_val, y_val), verbose=2)"
   ]
  },
  {
   "cell_type": "code",
   "execution_count": 25,
   "metadata": {
    "ExecuteTime": {
     "end_time": "2020-05-29T18:46:32.911989Z",
     "start_time": "2020-05-29T18:46:32.904011Z"
    }
   },
   "outputs": [],
   "source": [
    "hist_df = pd.DataFrame(history.history) \n",
    "\n",
    "hist_df.to_csv(\"data/output_csv/types_hist_df.csv\")"
   ]
  },
  {
   "cell_type": "code",
   "execution_count": 10,
   "metadata": {
    "ExecuteTime": {
     "end_time": "2020-05-29T18:58:31.827944Z",
     "start_time": "2020-05-29T18:58:31.819965Z"
    }
   },
   "outputs": [],
   "source": [
    "types_hist_df = pd.read_csv(\"data/output_csv/types_hist_df.csv\")\n",
    "types_hist_df.drop([\"Unnamed: 0\"], axis=1, inplace=True)"
   ]
  },
  {
   "cell_type": "code",
   "execution_count": 11,
   "metadata": {
    "ExecuteTime": {
     "end_time": "2020-05-29T18:58:32.901103Z",
     "start_time": "2020-05-29T18:58:32.897086Z"
    }
   },
   "outputs": [],
   "source": [
    "types_hist_df['val_f1'] = ((types_hist_df[\"val_precision_1\"]*types_hist_df[\"val_recall_1\"])/\n",
    "                           (types_hist_df[\"val_precision_1\"]+types_hist_df[\"val_recall_1\"]))"
   ]
  },
  {
   "cell_type": "code",
   "execution_count": 12,
   "metadata": {
    "ExecuteTime": {
     "end_time": "2020-05-29T18:58:33.909380Z",
     "start_time": "2020-05-29T18:58:33.890430Z"
    }
   },
   "outputs": [
    {
     "data": {
      "text/html": [
       "<div>\n",
       "<style scoped>\n",
       "    .dataframe tbody tr th:only-of-type {\n",
       "        vertical-align: middle;\n",
       "    }\n",
       "\n",
       "    .dataframe tbody tr th {\n",
       "        vertical-align: top;\n",
       "    }\n",
       "\n",
       "    .dataframe thead th {\n",
       "        text-align: right;\n",
       "    }\n",
       "</style>\n",
       "<table border=\"1\" class=\"dataframe\">\n",
       "  <thead>\n",
       "    <tr style=\"text-align: right;\">\n",
       "      <th></th>\n",
       "      <th>val_loss</th>\n",
       "      <th>loss</th>\n",
       "      <th>val_accuracy</th>\n",
       "      <th>accuracy</th>\n",
       "      <th>val_precision_1</th>\n",
       "      <th>precision_1</th>\n",
       "      <th>val_recall_1</th>\n",
       "      <th>recall_1</th>\n",
       "      <th>val_f1</th>\n",
       "    </tr>\n",
       "  </thead>\n",
       "  <tbody>\n",
       "    <tr>\n",
       "      <th>0</th>\n",
       "      <td>2.229837</td>\n",
       "      <td>2.345194</td>\n",
       "      <td>0.268732</td>\n",
       "      <td>0.208573</td>\n",
       "      <td>0.000000</td>\n",
       "      <td>0.000000</td>\n",
       "      <td>0.000000</td>\n",
       "      <td>0.000000</td>\n",
       "      <td>NaN</td>\n",
       "    </tr>\n",
       "    <tr>\n",
       "      <th>1</th>\n",
       "      <td>2.099565</td>\n",
       "      <td>2.183186</td>\n",
       "      <td>0.365274</td>\n",
       "      <td>0.290886</td>\n",
       "      <td>0.722222</td>\n",
       "      <td>0.578512</td>\n",
       "      <td>0.028098</td>\n",
       "      <td>0.012608</td>\n",
       "      <td>0.027046</td>\n",
       "    </tr>\n",
       "    <tr>\n",
       "      <th>2</th>\n",
       "      <td>1.984147</td>\n",
       "      <td>2.043675</td>\n",
       "      <td>0.416427</td>\n",
       "      <td>0.354107</td>\n",
       "      <td>0.743421</td>\n",
       "      <td>0.648980</td>\n",
       "      <td>0.081412</td>\n",
       "      <td>0.057277</td>\n",
       "      <td>0.073377</td>\n",
       "    </tr>\n",
       "    <tr>\n",
       "      <th>3</th>\n",
       "      <td>1.854803</td>\n",
       "      <td>1.912099</td>\n",
       "      <td>0.438040</td>\n",
       "      <td>0.409042</td>\n",
       "      <td>0.731392</td>\n",
       "      <td>0.716405</td>\n",
       "      <td>0.162824</td>\n",
       "      <td>0.147875</td>\n",
       "      <td>0.133176</td>\n",
       "    </tr>\n",
       "    <tr>\n",
       "      <th>4</th>\n",
       "      <td>1.804313</td>\n",
       "      <td>1.817090</td>\n",
       "      <td>0.443804</td>\n",
       "      <td>0.441282</td>\n",
       "      <td>0.698068</td>\n",
       "      <td>0.707845</td>\n",
       "      <td>0.208213</td>\n",
       "      <td>0.217759</td>\n",
       "      <td>0.160377</td>\n",
       "    </tr>\n",
       "    <tr>\n",
       "      <th>5</th>\n",
       "      <td>1.758866</td>\n",
       "      <td>1.728842</td>\n",
       "      <td>0.471182</td>\n",
       "      <td>0.466859</td>\n",
       "      <td>0.754545</td>\n",
       "      <td>0.712891</td>\n",
       "      <td>0.239193</td>\n",
       "      <td>0.262968</td>\n",
       "      <td>0.181619</td>\n",
       "    </tr>\n",
       "    <tr>\n",
       "      <th>6</th>\n",
       "      <td>1.735749</td>\n",
       "      <td>1.672421</td>\n",
       "      <td>0.486311</td>\n",
       "      <td>0.490814</td>\n",
       "      <td>0.711155</td>\n",
       "      <td>0.722846</td>\n",
       "      <td>0.257205</td>\n",
       "      <td>0.278098</td>\n",
       "      <td>0.188889</td>\n",
       "    </tr>\n",
       "    <tr>\n",
       "      <th>7</th>\n",
       "      <td>1.714753</td>\n",
       "      <td>1.609404</td>\n",
       "      <td>0.476945</td>\n",
       "      <td>0.518732</td>\n",
       "      <td>0.681416</td>\n",
       "      <td>0.732959</td>\n",
       "      <td>0.277378</td>\n",
       "      <td>0.306016</td>\n",
       "      <td>0.197133</td>\n",
       "    </tr>\n",
       "    <tr>\n",
       "      <th>8</th>\n",
       "      <td>1.669762</td>\n",
       "      <td>1.543282</td>\n",
       "      <td>0.507925</td>\n",
       "      <td>0.536203</td>\n",
       "      <td>0.717472</td>\n",
       "      <td>0.737961</td>\n",
       "      <td>0.278098</td>\n",
       "      <td>0.331232</td>\n",
       "      <td>0.200415</td>\n",
       "    </tr>\n",
       "    <tr>\n",
       "      <th>9</th>\n",
       "      <td>1.663333</td>\n",
       "      <td>1.512892</td>\n",
       "      <td>0.506484</td>\n",
       "      <td>0.548631</td>\n",
       "      <td>0.680685</td>\n",
       "      <td>0.746796</td>\n",
       "      <td>0.314842</td>\n",
       "      <td>0.346362</td>\n",
       "      <td>0.215271</td>\n",
       "    </tr>\n",
       "    <tr>\n",
       "      <th>10</th>\n",
       "      <td>1.665129</td>\n",
       "      <td>1.433187</td>\n",
       "      <td>0.502882</td>\n",
       "      <td>0.568984</td>\n",
       "      <td>0.684370</td>\n",
       "      <td>0.764389</td>\n",
       "      <td>0.324928</td>\n",
       "      <td>0.382745</td>\n",
       "      <td>0.220322</td>\n",
       "    </tr>\n",
       "    <tr>\n",
       "      <th>11</th>\n",
       "      <td>1.671173</td>\n",
       "      <td>1.409839</td>\n",
       "      <td>0.511527</td>\n",
       "      <td>0.577089</td>\n",
       "      <td>0.659269</td>\n",
       "      <td>0.746749</td>\n",
       "      <td>0.363833</td>\n",
       "      <td>0.393012</td>\n",
       "      <td>0.234448</td>\n",
       "    </tr>\n",
       "    <tr>\n",
       "      <th>12</th>\n",
       "      <td>1.673630</td>\n",
       "      <td>1.345329</td>\n",
       "      <td>0.512968</td>\n",
       "      <td>0.596001</td>\n",
       "      <td>0.664921</td>\n",
       "      <td>0.769107</td>\n",
       "      <td>0.365994</td>\n",
       "      <td>0.429575</td>\n",
       "      <td>0.236059</td>\n",
       "    </tr>\n",
       "    <tr>\n",
       "      <th>13</th>\n",
       "      <td>1.680426</td>\n",
       "      <td>1.302533</td>\n",
       "      <td>0.505043</td>\n",
       "      <td>0.609690</td>\n",
       "      <td>0.655125</td>\n",
       "      <td>0.778377</td>\n",
       "      <td>0.340778</td>\n",
       "      <td>0.442183</td>\n",
       "      <td>0.224171</td>\n",
       "    </tr>\n",
       "    <tr>\n",
       "      <th>14</th>\n",
       "      <td>1.749553</td>\n",
       "      <td>1.263391</td>\n",
       "      <td>0.484150</td>\n",
       "      <td>0.613833</td>\n",
       "      <td>0.608905</td>\n",
       "      <td>0.785780</td>\n",
       "      <td>0.364553</td>\n",
       "      <td>0.461816</td>\n",
       "      <td>0.228031</td>\n",
       "    </tr>\n",
       "    <tr>\n",
       "      <th>15</th>\n",
       "      <td>1.695524</td>\n",
       "      <td>1.206822</td>\n",
       "      <td>0.510086</td>\n",
       "      <td>0.633646</td>\n",
       "      <td>0.654096</td>\n",
       "      <td>0.801839</td>\n",
       "      <td>0.362392</td>\n",
       "      <td>0.486852</td>\n",
       "      <td>0.233194</td>\n",
       "    </tr>\n",
       "    <tr>\n",
       "      <th>16</th>\n",
       "      <td>1.750598</td>\n",
       "      <td>1.148300</td>\n",
       "      <td>0.492075</td>\n",
       "      <td>0.652918</td>\n",
       "      <td>0.611174</td>\n",
       "      <td>0.809141</td>\n",
       "      <td>0.386167</td>\n",
       "      <td>0.507024</td>\n",
       "      <td>0.236645</td>\n",
       "    </tr>\n",
       "    <tr>\n",
       "      <th>17</th>\n",
       "      <td>1.790677</td>\n",
       "      <td>1.110951</td>\n",
       "      <td>0.495677</td>\n",
       "      <td>0.661924</td>\n",
       "      <td>0.602436</td>\n",
       "      <td>0.814949</td>\n",
       "      <td>0.391931</td>\n",
       "      <td>0.528278</td>\n",
       "      <td>0.237451</td>\n",
       "    </tr>\n",
       "    <tr>\n",
       "      <th>18</th>\n",
       "      <td>1.763908</td>\n",
       "      <td>1.085841</td>\n",
       "      <td>0.502882</td>\n",
       "      <td>0.668048</td>\n",
       "      <td>0.621714</td>\n",
       "      <td>0.818334</td>\n",
       "      <td>0.391931</td>\n",
       "      <td>0.527378</td>\n",
       "      <td>0.240389</td>\n",
       "    </tr>\n",
       "    <tr>\n",
       "      <th>19</th>\n",
       "      <td>1.802700</td>\n",
       "      <td>1.041339</td>\n",
       "      <td>0.489193</td>\n",
       "      <td>0.682457</td>\n",
       "      <td>0.598844</td>\n",
       "      <td>0.826663</td>\n",
       "      <td>0.373199</td>\n",
       "      <td>0.561780</td>\n",
       "      <td>0.229916</td>\n",
       "    </tr>\n",
       "  </tbody>\n",
       "</table>\n",
       "</div>"
      ],
      "text/plain": [
       "    val_loss      loss  val_accuracy  accuracy  val_precision_1  precision_1  \\\n",
       "0   2.229837  2.345194      0.268732  0.208573         0.000000     0.000000   \n",
       "1   2.099565  2.183186      0.365274  0.290886         0.722222     0.578512   \n",
       "2   1.984147  2.043675      0.416427  0.354107         0.743421     0.648980   \n",
       "3   1.854803  1.912099      0.438040  0.409042         0.731392     0.716405   \n",
       "4   1.804313  1.817090      0.443804  0.441282         0.698068     0.707845   \n",
       "5   1.758866  1.728842      0.471182  0.466859         0.754545     0.712891   \n",
       "6   1.735749  1.672421      0.486311  0.490814         0.711155     0.722846   \n",
       "7   1.714753  1.609404      0.476945  0.518732         0.681416     0.732959   \n",
       "8   1.669762  1.543282      0.507925  0.536203         0.717472     0.737961   \n",
       "9   1.663333  1.512892      0.506484  0.548631         0.680685     0.746796   \n",
       "10  1.665129  1.433187      0.502882  0.568984         0.684370     0.764389   \n",
       "11  1.671173  1.409839      0.511527  0.577089         0.659269     0.746749   \n",
       "12  1.673630  1.345329      0.512968  0.596001         0.664921     0.769107   \n",
       "13  1.680426  1.302533      0.505043  0.609690         0.655125     0.778377   \n",
       "14  1.749553  1.263391      0.484150  0.613833         0.608905     0.785780   \n",
       "15  1.695524  1.206822      0.510086  0.633646         0.654096     0.801839   \n",
       "16  1.750598  1.148300      0.492075  0.652918         0.611174     0.809141   \n",
       "17  1.790677  1.110951      0.495677  0.661924         0.602436     0.814949   \n",
       "18  1.763908  1.085841      0.502882  0.668048         0.621714     0.818334   \n",
       "19  1.802700  1.041339      0.489193  0.682457         0.598844     0.826663   \n",
       "\n",
       "    val_recall_1  recall_1    val_f1  \n",
       "0       0.000000  0.000000       NaN  \n",
       "1       0.028098  0.012608  0.027046  \n",
       "2       0.081412  0.057277  0.073377  \n",
       "3       0.162824  0.147875  0.133176  \n",
       "4       0.208213  0.217759  0.160377  \n",
       "5       0.239193  0.262968  0.181619  \n",
       "6       0.257205  0.278098  0.188889  \n",
       "7       0.277378  0.306016  0.197133  \n",
       "8       0.278098  0.331232  0.200415  \n",
       "9       0.314842  0.346362  0.215271  \n",
       "10      0.324928  0.382745  0.220322  \n",
       "11      0.363833  0.393012  0.234448  \n",
       "12      0.365994  0.429575  0.236059  \n",
       "13      0.340778  0.442183  0.224171  \n",
       "14      0.364553  0.461816  0.228031  \n",
       "15      0.362392  0.486852  0.233194  \n",
       "16      0.386167  0.507024  0.236645  \n",
       "17      0.391931  0.528278  0.237451  \n",
       "18      0.391931  0.527378  0.240389  \n",
       "19      0.373199  0.561780  0.229916  "
      ]
     },
     "execution_count": 12,
     "metadata": {},
     "output_type": "execute_result"
    }
   ],
   "source": [
    "types_hist_df = types_hist_df[['val_loss', 'loss', 'val_accuracy', 'accuracy', 'val_precision_1', 'precision_1',\n",
    "                  'val_recall_1', 'recall_1', 'val_f1']]\n",
    "types_hist_df"
   ]
  },
  {
   "cell_type": "code",
   "execution_count": 13,
   "metadata": {
    "ExecuteTime": {
     "end_time": "2020-05-29T18:58:35.626050Z",
     "start_time": "2020-05-29T18:58:35.230079Z"
    }
   },
   "outputs": [
    {
     "data": {
      "image/png": "[encoded data removed]",
      "text/plain": [
       "<Figure size 1296x720 with 1 Axes>"
      ]
     },
     "metadata": {
      "needs_background": "light"
     },
     "output_type": "display_data"
    }
   ],
   "source": [
    "plt.figure(figsize=(18,10))\n",
    "plt.plot(types_hist_df[['val_loss', 'val_accuracy', 'val_precision_1', 'val_recall_1', 'val_f1']])\n",
    "plt.plot (types_hist_df[['loss', 'accuracy', 'precision_1', 'recall_1']], '--')\n",
    "\n",
    "plt.title('Training and Validation: Types')\n",
    "plt.xlabel('Epochs')\n",
    "plt.ylabel('Metrics')\n",
    "plt.legend(['val_loss', 'val_accuracy', 'val_precision_1', 'val_recall_1', 'val_f1', \n",
    "            'loss', 'accuracy', 'precision_1', 'recall_1'])\n",
    "plt.savefig(\"images/output_images/types_history.png\")\n",
    "\n",
    "sns.set_context(\"talk\")\n",
    "plt.show()"
   ]
  },
  {
   "cell_type": "markdown",
   "metadata": {},
   "source": [
    "### Using dimensions"
   ]
  },
  {
   "cell_type": "markdown",
   "metadata": {},
   "source": [
    "<img src=\"https://www.nicepng.com/png/detail/148-1486992_discover-the-most-powerful-ways-to-automate-your.png\" width=\"1000\"> "
   ]
  },
  {
   "cell_type": "code",
   "execution_count": 31,
   "metadata": {
    "ExecuteTime": {
     "end_time": "2020-05-29T18:46:33.876558Z",
     "start_time": "2020-05-29T18:46:33.868579Z"
    }
   },
   "outputs": [
    {
     "ename": "SystemExit",
     "evalue": "Here it comes another quite consuming memory process. You should better not start it till everything else has itereated propperly",
     "output_type": "error",
     "traceback": [
      "An exception has occurred, use %tb to see the full traceback.\n",
      "\u001b[1;31mSystemExit\u001b[0m\u001b[1;31m:\u001b[0m Here it comes another quite consuming memory process. You should better not start it till everything else has itereated propperly\n"
     ]
    },
    {
     "name": "stderr",
     "output_type": "stream",
     "text": [
      "C:\\Users\\Miguel\\Anaconda3\\lib\\site-packages\\IPython\\core\\interactiveshell.py:3339: UserWarning: To exit: use 'exit', 'quit', or Ctrl-D.\n",
      "  warn(\"To exit: use 'exit', 'quit', or Ctrl-D.\", stacklevel=1)\n"
     ]
    }
   ],
   "source": [
    "raise SystemExit(\"Here it comes another quite consuming memory process. You should better not start it till everything else has itereated propperly\")"
   ]
  },
  {
   "cell_type": "code",
   "execution_count": 14,
   "metadata": {
    "ExecuteTime": {
     "end_time": "2020-05-29T18:59:09.332567Z",
     "start_time": "2020-05-29T18:59:09.171979Z"
    }
   },
   "outputs": [],
   "source": [
    "mbti_df_clean = pd.read_pickle(\"data/output_pickles/mbti_clean_text.pkl\")\n",
    "result_umap_dimensions  = pd.read_csv(\"data/output_csv/result_umap_dimensions.csv\")"
   ]
  },
  {
   "cell_type": "code",
   "execution_count": 15,
   "metadata": {
    "ExecuteTime": {
     "end_time": "2020-05-29T18:59:10.925267Z",
     "start_time": "2020-05-29T18:59:10.912301Z"
    }
   },
   "outputs": [
    {
     "data": {
      "text/html": [
       "<div>\n",
       "<style scoped>\n",
       "    .dataframe tbody tr th:only-of-type {\n",
       "        vertical-align: middle;\n",
       "    }\n",
       "\n",
       "    .dataframe tbody tr th {\n",
       "        vertical-align: top;\n",
       "    }\n",
       "\n",
       "    .dataframe thead th {\n",
       "        text-align: right;\n",
       "    }\n",
       "</style>\n",
       "<table border=\"1\" class=\"dataframe\">\n",
       "  <thead>\n",
       "    <tr style=\"text-align: right;\">\n",
       "      <th></th>\n",
       "      <th>type</th>\n",
       "      <th>posts</th>\n",
       "      <th>type_clean</th>\n",
       "      <th>posts_clean</th>\n",
       "      <th>type_lemma</th>\n",
       "      <th>posts_lemma</th>\n",
       "    </tr>\n",
       "  </thead>\n",
       "  <tbody>\n",
       "    <tr>\n",
       "      <th>0</th>\n",
       "      <td>infj</td>\n",
       "      <td>'http://www.youtube.com/watch?v=qsXHcwe3krw|||...</td>\n",
       "      <td>infj</td>\n",
       "      <td>intj moments sportscenter plays pranks life ch...</td>\n",
       "      <td>infj</td>\n",
       "      <td>intj moment sportscent play prank life change ...</td>\n",
       "    </tr>\n",
       "    <tr>\n",
       "      <th>1</th>\n",
       "      <td>entp</td>\n",
       "      <td>'I'm finding the lack of me in these posts ver...</td>\n",
       "      <td>entp</td>\n",
       "      <td>finding lack posts alarming sex boring positio...</td>\n",
       "      <td>entp</td>\n",
       "      <td>find lack post alarming sex bore position exam...</td>\n",
       "    </tr>\n",
       "    <tr>\n",
       "      <th>2</th>\n",
       "      <td>intp</td>\n",
       "      <td>'Good one  _____   https://www.youtube.com/wat...</td>\n",
       "      <td>intp</td>\n",
       "      <td>good course know blessing curse absolutely pos...</td>\n",
       "      <td>intp</td>\n",
       "      <td>good course know blessing curse absolutely pos...</td>\n",
       "    </tr>\n",
       "    <tr>\n",
       "      <th>3</th>\n",
       "      <td>intj</td>\n",
       "      <td>'Dear INTP,   I enjoyed our conversation the o...</td>\n",
       "      <td>intj</td>\n",
       "      <td>dear intp enjoyed conversation day esoteric ga...</td>\n",
       "      <td>intj</td>\n",
       "      <td>dear intp enjoy conversation day esoteric gabb...</td>\n",
       "    </tr>\n",
       "    <tr>\n",
       "      <th>4</th>\n",
       "      <td>entj</td>\n",
       "      <td>'You're fired.|||That's another silly misconce...</td>\n",
       "      <td>entj</td>\n",
       "      <td>fired silly misconception approaching logicall...</td>\n",
       "      <td>entj</td>\n",
       "      <td>fire silly misconception approach logically go...</td>\n",
       "    </tr>\n",
       "  </tbody>\n",
       "</table>\n",
       "</div>"
      ],
      "text/plain": [
       "   type                                              posts type_clean  \\\n",
       "0  infj  'http://www.youtube.com/watch?v=qsXHcwe3krw|||...       infj   \n",
       "1  entp  'I'm finding the lack of me in these posts ver...       entp   \n",
       "2  intp  'Good one  _____   https://www.youtube.com/wat...       intp   \n",
       "3  intj  'Dear INTP,   I enjoyed our conversation the o...       intj   \n",
       "4  entj  'You're fired.|||That's another silly misconce...       entj   \n",
       "\n",
       "                                         posts_clean type_lemma  \\\n",
       "0  intj moments sportscenter plays pranks life ch...       infj   \n",
       "1  finding lack posts alarming sex boring positio...       entp   \n",
       "2  good course know blessing curse absolutely pos...       intp   \n",
       "3  dear intp enjoyed conversation day esoteric ga...       intj   \n",
       "4  fired silly misconception approaching logicall...       entj   \n",
       "\n",
       "                                         posts_lemma  \n",
       "0  intj moment sportscent play prank life change ...  \n",
       "1  find lack post alarming sex bore position exam...  \n",
       "2  good course know blessing curse absolutely pos...  \n",
       "3  dear intp enjoy conversation day esoteric gabb...  \n",
       "4  fire silly misconception approach logically go...  "
      ]
     },
     "execution_count": 15,
     "metadata": {},
     "output_type": "execute_result"
    }
   ],
   "source": [
    "mbti_df_clean.head()"
   ]
  },
  {
   "cell_type": "code",
   "execution_count": 16,
   "metadata": {
    "ExecuteTime": {
     "end_time": "2020-05-29T18:59:12.535959Z",
     "start_time": "2020-05-29T18:59:12.522994Z"
    }
   },
   "outputs": [
    {
     "data": {
      "text/html": [
       "<div>\n",
       "<style scoped>\n",
       "    .dataframe tbody tr th:only-of-type {\n",
       "        vertical-align: middle;\n",
       "    }\n",
       "\n",
       "    .dataframe tbody tr th {\n",
       "        vertical-align: top;\n",
       "    }\n",
       "\n",
       "    .dataframe thead th {\n",
       "        text-align: right;\n",
       "    }\n",
       "</style>\n",
       "<table border=\"1\" class=\"dataframe\">\n",
       "  <thead>\n",
       "    <tr style=\"text-align: right;\">\n",
       "      <th></th>\n",
       "      <th>Unnamed: 0</th>\n",
       "      <th>type</th>\n",
       "      <th>words_per_comment</th>\n",
       "      <th>variance_of_word_counts</th>\n",
       "      <th>i-e</th>\n",
       "      <th>n-s</th>\n",
       "      <th>t-f</th>\n",
       "      <th>j-p</th>\n",
       "      <th>0</th>\n",
       "      <th>1</th>\n",
       "    </tr>\n",
       "  </thead>\n",
       "  <tbody>\n",
       "    <tr>\n",
       "      <th>0</th>\n",
       "      <td>0</td>\n",
       "      <td>infj</td>\n",
       "      <td>11.12</td>\n",
       "      <td>135.2900</td>\n",
       "      <td>0</td>\n",
       "      <td>0</td>\n",
       "      <td>1</td>\n",
       "      <td>0</td>\n",
       "      <td>3.910143</td>\n",
       "      <td>7.477874</td>\n",
       "    </tr>\n",
       "    <tr>\n",
       "      <th>1</th>\n",
       "      <td>1</td>\n",
       "      <td>entp</td>\n",
       "      <td>23.40</td>\n",
       "      <td>187.4756</td>\n",
       "      <td>1</td>\n",
       "      <td>0</td>\n",
       "      <td>0</td>\n",
       "      <td>1</td>\n",
       "      <td>3.938040</td>\n",
       "      <td>5.939636</td>\n",
       "    </tr>\n",
       "    <tr>\n",
       "      <th>2</th>\n",
       "      <td>2</td>\n",
       "      <td>intp</td>\n",
       "      <td>16.72</td>\n",
       "      <td>180.6900</td>\n",
       "      <td>0</td>\n",
       "      <td>0</td>\n",
       "      <td>0</td>\n",
       "      <td>1</td>\n",
       "      <td>3.740153</td>\n",
       "      <td>5.486389</td>\n",
       "    </tr>\n",
       "    <tr>\n",
       "      <th>3</th>\n",
       "      <td>3</td>\n",
       "      <td>intj</td>\n",
       "      <td>21.28</td>\n",
       "      <td>181.8324</td>\n",
       "      <td>0</td>\n",
       "      <td>0</td>\n",
       "      <td>0</td>\n",
       "      <td>0</td>\n",
       "      <td>5.415134</td>\n",
       "      <td>7.452929</td>\n",
       "    </tr>\n",
       "    <tr>\n",
       "      <th>4</th>\n",
       "      <td>4</td>\n",
       "      <td>entj</td>\n",
       "      <td>19.34</td>\n",
       "      <td>196.4576</td>\n",
       "      <td>1</td>\n",
       "      <td>0</td>\n",
       "      <td>0</td>\n",
       "      <td>0</td>\n",
       "      <td>2.083198</td>\n",
       "      <td>7.512875</td>\n",
       "    </tr>\n",
       "  </tbody>\n",
       "</table>\n",
       "</div>"
      ],
      "text/plain": [
       "   Unnamed: 0  type  words_per_comment  variance_of_word_counts  i-e  n-s  \\\n",
       "0           0  infj              11.12                 135.2900    0    0   \n",
       "1           1  entp              23.40                 187.4756    1    0   \n",
       "2           2  intp              16.72                 180.6900    0    0   \n",
       "3           3  intj              21.28                 181.8324    0    0   \n",
       "4           4  entj              19.34                 196.4576    1    0   \n",
       "\n",
       "   t-f  j-p         0         1  \n",
       "0    1    0  3.910143  7.477874  \n",
       "1    0    1  3.938040  5.939636  \n",
       "2    0    1  3.740153  5.486389  \n",
       "3    0    0  5.415134  7.452929  \n",
       "4    0    0  2.083198  7.512875  "
      ]
     },
     "execution_count": 16,
     "metadata": {},
     "output_type": "execute_result"
    }
   ],
   "source": [
    "result_umap_dimensions.head()"
   ]
  },
  {
   "cell_type": "code",
   "execution_count": 17,
   "metadata": {
    "ExecuteTime": {
     "end_time": "2020-05-29T18:59:21.998609Z",
     "start_time": "2020-05-29T18:59:21.993596Z"
    }
   },
   "outputs": [],
   "source": [
    "labels = [\"i-e\", \"n-s\", \"t-f\", \"j-p\"]\n",
    "y = result_umap_dimensions[labels].values\n",
    "X = mbti_df_clean[\"posts_clean\"]"
   ]
  },
  {
   "cell_type": "code",
   "execution_count": 18,
   "metadata": {
    "ExecuteTime": {
     "end_time": "2020-05-29T18:59:24.940942Z",
     "start_time": "2020-05-29T18:59:24.932935Z"
    }
   },
   "outputs": [
    {
     "name": "stdout",
     "output_type": "stream",
     "text": [
      "(6940,) (6940, 4) (1735,) (1735, 4)\n"
     ]
    }
   ],
   "source": [
    "X_train, X_test, y_train, y_test = train_test_split(X, y, random_state=42, test_size=0.2)\n",
    "print ((X_train.shape),(y_train.shape),(X_test.shape),(y_test.shape))"
   ]
  },
  {
   "cell_type": "code",
   "execution_count": 19,
   "metadata": {
    "ExecuteTime": {
     "end_time": "2020-05-29T18:59:26.768052Z",
     "start_time": "2020-05-29T18:59:26.764070Z"
    }
   },
   "outputs": [],
   "source": [
    "X_train = list(X_train)"
   ]
  },
  {
   "cell_type": "code",
   "execution_count": 20,
   "metadata": {
    "ExecuteTime": {
     "end_time": "2020-05-29T18:59:35.776180Z",
     "start_time": "2020-05-29T18:59:35.772154Z"
    }
   },
   "outputs": [],
   "source": [
    "texts = [line for line in X_train] "
   ]
  },
  {
   "cell_type": "code",
   "execution_count": 21,
   "metadata": {
    "ExecuteTime": {
     "end_time": "2020-05-29T18:59:54.178115Z",
     "start_time": "2020-05-29T18:59:51.803430Z"
    }
   },
   "outputs": [],
   "source": [
    "tokenizer = Tokenizer(num_words=MAX_NB_WORDS)\n",
    "tokenizer.fit_on_texts(texts)"
   ]
  },
  {
   "cell_type": "code",
   "execution_count": 22,
   "metadata": {
    "ExecuteTime": {
     "end_time": "2020-05-29T19:00:11.742824Z",
     "start_time": "2020-05-29T19:00:10.157057Z"
    }
   },
   "outputs": [
    {
     "name": "stdout",
     "output_type": "stream",
     "text": [
      "Vocabulary size: 90265\n"
     ]
    }
   ],
   "source": [
    "sequences = tokenizer.texts_to_sequences(texts)\n",
    "word_index = tokenizer.word_index\n",
    "print('Vocabulary size:', len(word_index))"
   ]
  },
  {
   "cell_type": "code",
   "execution_count": 23,
   "metadata": {
    "ExecuteTime": {
     "end_time": "2020-05-29T19:00:47.231471Z",
     "start_time": "2020-05-29T19:00:47.111791Z"
    }
   },
   "outputs": [
    {
     "name": "stdout",
     "output_type": "stream",
     "text": [
      "Shape of data tensor: (6940, 200)\n",
      "Shape of label tensor: (6940, 4)\n"
     ]
    }
   ],
   "source": [
    "data = pad_sequences(sequences, padding = 'post', maxlen = MAX_SEQUENCE_LENGTH)\n",
    "\n",
    "print('Shape of data tensor:', data.shape)\n",
    "print('Shape of label tensor:', y_train.shape)"
   ]
  },
  {
   "cell_type": "code",
   "execution_count": 24,
   "metadata": {
    "ExecuteTime": {
     "end_time": "2020-05-29T19:01:22.019392Z",
     "start_time": "2020-05-29T19:01:22.009406Z"
    }
   },
   "outputs": [],
   "source": [
    "indices = np.arange(data.shape[0])\n",
    "np.random.shuffle(indices)\n",
    "data = data[indices]\n",
    "labels = y_train[indices]"
   ]
  },
  {
   "cell_type": "code",
   "execution_count": 25,
   "metadata": {
    "ExecuteTime": {
     "end_time": "2020-05-29T19:01:56.804216Z",
     "start_time": "2020-05-29T19:01:56.797235Z"
    }
   },
   "outputs": [
    {
     "name": "stdout",
     "output_type": "stream",
     "text": [
      "(5552, 200) (5552, 4) (1388, 200) (1388, 4)\n"
     ]
    }
   ],
   "source": [
    "num_validation_samples = int(VALIDATION_SPLIT*data.shape[0])\n",
    "x_train = data[: -num_validation_samples]\n",
    "y_train = labels[: -num_validation_samples]\n",
    "x_val = data[-num_validation_samples: ]\n",
    "y_val = labels[-num_validation_samples: ]\n",
    "\n",
    "print ((x_train.shape),(y_train.shape),(x_val.shape),(y_val.shape))"
   ]
  },
  {
   "cell_type": "code",
   "execution_count": 26,
   "metadata": {
    "ExecuteTime": {
     "end_time": "2020-05-29T19:02:33.491364Z",
     "start_time": "2020-05-29T19:02:33.483384Z"
    }
   },
   "outputs": [
    {
     "name": "stdout",
     "output_type": "stream",
     "text": [
      "Number of entries in each category:\n",
      "training:  [1296  752 2993 3343]\n",
      "validation:  [321 199 764 832]\n"
     ]
    }
   ],
   "source": [
    "print('Number of entries in each category:')\n",
    "print('training: ', y_train.sum(axis=0))\n",
    "print('validation: ', y_val.sum(axis=0))"
   ]
  },
  {
   "cell_type": "code",
   "execution_count": 27,
   "metadata": {
    "ExecuteTime": {
     "end_time": "2020-05-29T19:03:11.472160Z",
     "start_time": "2020-05-29T19:03:11.467134Z"
    }
   },
   "outputs": [
    {
     "name": "stdout",
     "output_type": "stream",
     "text": [
      "Tokenized sentences: \n",
      " [    2    94   142   100     3 11634   897    77   478    13     3   559\n",
      "   150   121   174   687     1   866     8    34  1337    43   210    45\n",
      "   196  1959    73  2693     3   679  4340  1019   728 24236  2582  5009\n",
      "   424  1019   499  3056 17195   188  1137 63429  6418  3130 21122 18481\n",
      "   744 63430    50 10503 31195  5415   300  9492   363  9492   285   363\n",
      "  9492    15  1432  2314     8  3406   487   681   483   128   229   244\n",
      "    15 10848   196   191     3   482  1975    64     4  1697 10034  3070\n",
      "  4591   373   246  5569   379 23958   449   191 15829    25    76   637\n",
      "   373 11314   554   106   845  3483   482   340  4082   360   531   995\n",
      "  1736   545   990   482    48  3360     1   689  1550   509    26  1060\n",
      "  5018   181  1462  7078     1   405     4    96  1697    25   499  2767\n",
      "   562   238   379  3279   670   399    13     5   764  6664   234   379\n",
      "    44 14695   568   404  5055 10056 32494 17082 14432  1485  8235   553\n",
      "   156  1165    68  2767  1796   332   332    30  1692     3     2   509\n",
      "  2077   848  7147    15  2337  5231   127  1697   670    33     7   190\n",
      " 12343   437  5681   422  1199    84    18    59  6563    24   899    83\n",
      "   529   745    24   190   440  1697    44   191]\n",
      "One hot label: \n",
      " [0 0 1 1]\n"
     ]
    }
   ],
   "source": [
    "print('Tokenized sentences: \\n', data[10])\n",
    "print('One hot label: \\n', labels[10])"
   ]
  },
  {
   "cell_type": "code",
   "execution_count": 28,
   "metadata": {
    "ExecuteTime": {
     "end_time": "2020-05-29T19:04:01.398863Z",
     "start_time": "2020-05-29T19:03:47.169872Z"
    }
   },
   "outputs": [
    {
     "name": "stdout",
     "output_type": "stream",
     "text": [
      "Loading GloVe from: glove_data/glove.6B/glove.6B.100d.txt ...Done.\n",
      " Proceeding with Embedding Matrix... Completed!\n"
     ]
    }
   ],
   "source": [
    "embeddings_index = {}\n",
    "f = open(GLOVE_DIR, encoding=\"UTF-8\")\n",
    "print('Loading GloVe from:', GLOVE_DIR,'...', end='')\n",
    "for line in f:\n",
    "    values = line.split()\n",
    "    word = values[0]\n",
    "    embeddings_index[word] = np.asarray(values[1:], dtype='float32')\n",
    "f.close()\n",
    "print(\"Done.\\n Proceeding with Embedding Matrix...\", end=\"\")\n",
    "\n",
    "embedding_matrix = np.random.random((len(word_index) + 1, EMBEDDING_DIM))\n",
    "for word, i in word_index.items():\n",
    "    embedding_vector = embeddings_index.get(word)\n",
    "    if embedding_vector is not None:\n",
    "        embedding_matrix[i] = embedding_vector\n",
    "print(\" Completed!\")"
   ]
  },
  {
   "cell_type": "code",
   "execution_count": 29,
   "metadata": {
    "ExecuteTime": {
     "end_time": "2020-05-29T19:11:18.068042Z",
     "start_time": "2020-05-29T19:11:17.892502Z"
    }
   },
   "outputs": [],
   "source": [
    "sequence_input = Input(shape=(MAX_SEQUENCE_LENGTH,), dtype='int32')\n",
    "embedding_layer = Embedding(len(word_index) + 1,\n",
    "                           EMBEDDING_DIM,\n",
    "                           weights = [embedding_matrix],\n",
    "                           input_length = MAX_SEQUENCE_LENGTH,\n",
    "                           trainable=False,\n",
    "                           name = 'embeddings')\n",
    "embedded_sequences = embedding_layer(sequence_input)"
   ]
  },
  {
   "cell_type": "code",
   "execution_count": 30,
   "metadata": {
    "ExecuteTime": {
     "end_time": "2020-05-29T19:11:54.981939Z",
     "start_time": "2020-05-29T19:11:54.668774Z"
    }
   },
   "outputs": [],
   "source": [
    "x = LSTM(60, return_sequences=True,name='lstm_layer')(embedded_sequences)\n",
    "x = GlobalMaxPool1D()(x)\n",
    "x = Dropout(0.1)(x)\n",
    "x = Dense(50, activation=\"relu\")(x)\n",
    "x = Dropout(0.1)(x)\n",
    "preds = Dense(4, activation=\"softmax\")(x)"
   ]
  },
  {
   "cell_type": "code",
   "execution_count": 31,
   "metadata": {
    "ExecuteTime": {
     "end_time": "2020-05-29T19:12:28.172249Z",
     "start_time": "2020-05-29T19:12:28.054557Z"
    }
   },
   "outputs": [
    {
     "name": "stdout",
     "output_type": "stream",
     "text": [
      "Model: \"model_1\"\n",
      "_________________________________________________________________\n",
      "Layer (type)                 Output Shape              Param #   \n",
      "=================================================================\n",
      "input_1 (InputLayer)         (None, 200)               0         \n",
      "_________________________________________________________________\n",
      "embeddings (Embedding)       (None, 200, 100)          9026600   \n",
      "_________________________________________________________________\n",
      "lstm_layer (LSTM)            (None, 200, 60)           38640     \n",
      "_________________________________________________________________\n",
      "global_max_pooling1d_1 (Glob (None, 60)                0         \n",
      "_________________________________________________________________\n",
      "dropout_1 (Dropout)          (None, 60)                0         \n",
      "_________________________________________________________________\n",
      "dense_1 (Dense)              (None, 50)                3050      \n",
      "_________________________________________________________________\n",
      "dropout_2 (Dropout)          (None, 50)                0         \n",
      "_________________________________________________________________\n",
      "dense_2 (Dense)              (None, 4)                 204       \n",
      "=================================================================\n",
      "Total params: 9,068,494\n",
      "Trainable params: 41,894\n",
      "Non-trainable params: 9,026,600\n",
      "_________________________________________________________________\n"
     ]
    }
   ],
   "source": [
    "model = Model(sequence_input, preds)\n",
    "model.compile(loss = 'categorical_crossentropy',\n",
    "             optimizer='adam',\n",
    "             metrics = ['accuracy', keras.metrics.Precision(), keras.metrics.Recall()])\n",
    "model.summary()"
   ]
  },
  {
   "cell_type": "code",
   "execution_count": 32,
   "metadata": {
    "ExecuteTime": {
     "end_time": "2020-05-29T19:12:49.804810Z",
     "start_time": "2020-05-29T19:12:49.635162Z"
    }
   },
   "outputs": [
    {
     "data": {
      "image/png": "[encoded data removed]",
      "text/plain": [
       "<IPython.core.display.Image object>"
      ]
     },
     "execution_count": 32,
     "metadata": {},
     "output_type": "execute_result"
    }
   ],
   "source": [
    "from keras.utils import plot_model\n",
    "plot_model(model)"
   ]
  },
  {
   "cell_type": "code",
   "execution_count": 49,
   "metadata": {
    "ExecuteTime": {
     "end_time": "2020-05-29T19:33:32.628182Z",
     "start_time": "2020-05-29T19:32:53.354662Z"
    }
   },
   "outputs": [
    {
     "name": "stdout",
     "output_type": "stream",
     "text": [
      "Training progress:\n",
      "Train on 5552 samples, validate on 1388 samples\n",
      "Epoch 1/3\n",
      " - 13s - loss: 3.4247 - accuracy: 0.2507 - precision_1: 0.5372 - recall_1: 0.2877 - val_loss: 2.1821 - val_accuracy: 0.3840 - val_precision_1: 0.5504 - val_recall_1: 0.3611\n",
      "Epoch 2/3\n",
      " - 13s - loss: 2.6744 - accuracy: 0.2545 - precision_1: 0.5585 - recall_1: 0.2857 - val_loss: 3.6156 - val_accuracy: 0.1427 - val_precision_1: 0.5994 - val_recall_1: 0.3932\n",
      "Epoch 3/3\n",
      " - 13s - loss: 2.8173 - accuracy: 0.2579 - precision_1: 0.5460 - recall_1: 0.2944 - val_loss: 3.3692 - val_accuracy: 0.3840 - val_precision_1: 0.5504 - val_recall_1: 0.3611\n"
     ]
    }
   ],
   "source": [
    "print('Training progress:')\n",
    "history = model.fit(x_train, y_train, epochs = 3, batch_size=32, validation_data=(x_val, y_val), verbose=2)"
   ]
  },
  {
   "cell_type": "code",
   "execution_count": 50,
   "metadata": {
    "ExecuteTime": {
     "end_time": "2020-05-29T19:33:42.472121Z",
     "start_time": "2020-05-29T19:33:42.464161Z"
    }
   },
   "outputs": [],
   "source": [
    "hist_df = pd.DataFrame(history.history) \n",
    "\n",
    "hist_df.to_csv(\"data/output_csv/dimensions_hist_df.csv\")"
   ]
  },
  {
   "cell_type": "code",
   "execution_count": 51,
   "metadata": {
    "ExecuteTime": {
     "end_time": "2020-05-29T19:33:46.269532Z",
     "start_time": "2020-05-29T19:33:46.261569Z"
    }
   },
   "outputs": [],
   "source": [
    "dimensions_hist_df = pd.read_csv(\"data/output_csv/dimensions_hist_df.csv\")\n",
    "dimensions_hist_df.drop([\"Unnamed: 0\"], axis=1, inplace=True)"
   ]
  },
  {
   "cell_type": "code",
   "execution_count": 52,
   "metadata": {
    "ExecuteTime": {
     "end_time": "2020-05-29T19:33:48.961786Z",
     "start_time": "2020-05-29T19:33:48.956800Z"
    }
   },
   "outputs": [],
   "source": [
    "dimensions_hist_df['val_f1'] = ((dimensions_hist_df[\"val_precision_1\"]*dimensions_hist_df[\"val_recall_1\"])/\n",
    "                                (dimensions_hist_df[\"val_precision_1\"]+dimensions_hist_df[\"val_recall_1\"]))"
   ]
  },
  {
   "cell_type": "code",
   "execution_count": 53,
   "metadata": {
    "ExecuteTime": {
     "end_time": "2020-05-29T19:33:52.987327Z",
     "start_time": "2020-05-29T19:33:52.972395Z"
    }
   },
   "outputs": [
    {
     "data": {
      "text/html": [
       "<div>\n",
       "<style scoped>\n",
       "    .dataframe tbody tr th:only-of-type {\n",
       "        vertical-align: middle;\n",
       "    }\n",
       "\n",
       "    .dataframe tbody tr th {\n",
       "        vertical-align: top;\n",
       "    }\n",
       "\n",
       "    .dataframe thead th {\n",
       "        text-align: right;\n",
       "    }\n",
       "</style>\n",
       "<table border=\"1\" class=\"dataframe\">\n",
       "  <thead>\n",
       "    <tr style=\"text-align: right;\">\n",
       "      <th></th>\n",
       "      <th>val_loss</th>\n",
       "      <th>loss</th>\n",
       "      <th>val_accuracy</th>\n",
       "      <th>accuracy</th>\n",
       "      <th>val_precision_1</th>\n",
       "      <th>precision_1</th>\n",
       "      <th>val_recall_1</th>\n",
       "      <th>recall_1</th>\n",
       "      <th>val_f1</th>\n",
       "    </tr>\n",
       "  </thead>\n",
       "  <tbody>\n",
       "    <tr>\n",
       "      <th>0</th>\n",
       "      <td>2.182103</td>\n",
       "      <td>3.424667</td>\n",
       "      <td>0.384006</td>\n",
       "      <td>0.250720</td>\n",
       "      <td>0.550432</td>\n",
       "      <td>0.537194</td>\n",
       "      <td>0.361059</td>\n",
       "      <td>0.287691</td>\n",
       "      <td>0.218037</td>\n",
       "    </tr>\n",
       "    <tr>\n",
       "      <th>1</th>\n",
       "      <td>3.615582</td>\n",
       "      <td>2.674422</td>\n",
       "      <td>0.142651</td>\n",
       "      <td>0.254503</td>\n",
       "      <td>0.599424</td>\n",
       "      <td>0.558535</td>\n",
       "      <td>0.393195</td>\n",
       "      <td>0.285663</td>\n",
       "      <td>0.237443</td>\n",
       "    </tr>\n",
       "    <tr>\n",
       "      <th>2</th>\n",
       "      <td>3.369249</td>\n",
       "      <td>2.817309</td>\n",
       "      <td>0.384006</td>\n",
       "      <td>0.257925</td>\n",
       "      <td>0.550432</td>\n",
       "      <td>0.546018</td>\n",
       "      <td>0.361059</td>\n",
       "      <td>0.294370</td>\n",
       "      <td>0.218037</td>\n",
       "    </tr>\n",
       "  </tbody>\n",
       "</table>\n",
       "</div>"
      ],
      "text/plain": [
       "   val_loss      loss  val_accuracy  accuracy  val_precision_1  precision_1  \\\n",
       "0  2.182103  3.424667      0.384006  0.250720         0.550432     0.537194   \n",
       "1  3.615582  2.674422      0.142651  0.254503         0.599424     0.558535   \n",
       "2  3.369249  2.817309      0.384006  0.257925         0.550432     0.546018   \n",
       "\n",
       "   val_recall_1  recall_1    val_f1  \n",
       "0      0.361059  0.287691  0.218037  \n",
       "1      0.393195  0.285663  0.237443  \n",
       "2      0.361059  0.294370  0.218037  "
      ]
     },
     "execution_count": 53,
     "metadata": {},
     "output_type": "execute_result"
    }
   ],
   "source": [
    "dimensions_hist_df = dimensions_hist_df[['val_loss', 'loss', 'val_accuracy', 'accuracy', 'val_precision_1', 'precision_1',\n",
    "                  'val_recall_1', 'recall_1', 'val_f1']]\n",
    "dimensions_hist_df"
   ]
  },
  {
   "cell_type": "code",
   "execution_count": 54,
   "metadata": {
    "ExecuteTime": {
     "end_time": "2020-05-29T19:33:58.156708Z",
     "start_time": "2020-05-29T19:33:57.356771Z"
    }
   },
   "outputs": [
    {
     "data": {
      "image/png": "[encoded data removed]",
      "text/plain": [
       "<Figure size 1296x720 with 1 Axes>"
      ]
     },
     "metadata": {
      "needs_background": "light"
     },
     "output_type": "display_data"
    }
   ],
   "source": [
    "plt.figure(figsize=(18,10))\n",
    "plt.plot(dimensions_hist_df[['val_accuracy', 'val_precision_1', 'val_recall_1', 'val_f1']])\n",
    "plt.plot ( dimensions_hist_df[['accuracy', 'precision_1', 'recall_1']], '--' )\n",
    "\n",
    "plt.title('Training and Validation: Dimensions')\n",
    "plt.xlabel('Epochs')\n",
    "plt.ylabel('Metrics')\n",
    "plt.legend(['val_accuracy', 'val_precision_1', 'val_recall_1', 'val_f1', 'accuracy', 'precision_1', 'recall_1'])\n",
    "plt.savefig(\"images/output_images/dimensions_history.png\")\n",
    "\n",
    "sns.set_context(\"talk\")\n",
    "plt.show()"
   ]
  },
  {
   "cell_type": "markdown",
   "metadata": {},
   "source": [
    "**Comments**"
   ]
  },
  {
   "cell_type": "markdown",
   "metadata": {},
   "source": [
    "Best F1 Scores for both models, the one using types and the one using dimensions, are pretty much the seme, being 0.24 and 0.23 respectively, but are still much lower than the scores obtained using ML models."
   ]
  },
  {
   "cell_type": "markdown",
   "metadata": {},
   "source": [
    "**Need to check how to add posts lengths and number of words**"
   ]
  },
  {
   "cell_type": "code",
   "execution_count": null,
   "metadata": {},
   "outputs": [],
   "source": []
  }
 ],
 "metadata": {
  "kernelspec": {
   "display_name": "Python 3",
   "language": "python",
   "name": "python3"
  },
  "language_info": {
   "codemirror_mode": {
    "name": "ipython",
    "version": 3
   },
   "file_extension": ".py",
   "mimetype": "text/x-python",
   "name": "python",
   "nbconvert_exporter": "python",
   "pygments_lexer": "ipython3",
   "version": "3.7.7"
  },
  "varInspector": {
   "cols": {
    "lenName": 16,
    "lenType": 16,
    "lenVar": 40
   },
   "kernels_config": {
    "python": {
     "delete_cmd_postfix": "",
     "delete_cmd_prefix": "del ",
     "library": "var_list.py",
     "varRefreshCmd": "print(var_dic_list())"
    },
    "r": {
     "delete_cmd_postfix": ") ",
     "delete_cmd_prefix": "rm(",
     "library": "var_list.r",
     "varRefreshCmd": "cat(var_dic_list()) "
    }
   },
   "types_to_exclude": [
    "module",
    "function",
    "builtin_function_or_method",
    "instance",
    "_Feature"
   ],
   "window_display": false
  }
 },
 "nbformat": 4,
 "nbformat_minor": 2
}
