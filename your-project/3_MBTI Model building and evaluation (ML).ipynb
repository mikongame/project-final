{
 "cells": [
  {
   "cell_type": "markdown",
   "metadata": {
    "colab_type": "text",
    "id": "HO-8OaBLuFxa"
   },
   "source": [
    "<img src=\"https://bit.ly/2VnXWr2\" width=\"100\" align=\"left\">"
   ]
  },
  {
   "cell_type": "markdown",
   "metadata": {
    "colab_type": "text",
    "id": "XuRHxVAnuFpc"
   },
   "source": [
    "# Final project: NLP to predict Myers-Briggs Personality Type"
   ]
  },
  {
   "cell_type": "markdown",
   "metadata": {
    "colab_type": "text",
    "id": "4qu47z_6t3i7"
   },
   "source": [
    "## Imports"
   ]
  },
  {
   "cell_type": "code",
   "execution_count": 32,
   "metadata": {
    "ExecuteTime": {
     "end_time": "2020-05-26T21:26:51.990499Z",
     "start_time": "2020-05-26T21:26:51.968812Z"
    },
    "colab": {},
    "colab_type": "code",
    "id": "8Ty3i6oejxgF"
   },
   "outputs": [],
   "source": [
    "# Data Analysis\n",
    "import pandas as pd\n",
    "import numpy as np\n",
    "\n",
    "# Data Visualization\n",
    "import seaborn as sns\n",
    "import matplotlib.pyplot as plt\n",
    "\n",
    "\n",
    "# Text Processing\n",
    "import re\n",
    "import itertools\n",
    "import spacy\n",
    "import string\n",
    "from spacy.lang.en import English\n",
    "from spacy.lang.en.stop_words import STOP_WORDS\n",
    "import en_core_web_sm\n",
    "from collections import Counter\n",
    "\n",
    "# Machine Learning packages\n",
    "from sklearn.feature_extraction.text import CountVectorizer\n",
    "from sklearn.feature_extraction.text import TfidfVectorizer\n",
    "import umap\n",
    "import sklearn.cluster as cluster\n",
    "\n",
    "# Ignore noise warning\n",
    "import warnings\n",
    "warnings.filterwarnings(\"ignore\")\n",
    "\n",
    "import pickle as pkl\n",
    "from scipy import sparse\n",
    "from numpy import asarray\n",
    "from numpy import savetxt\n",
    "\n",
    "# Fix imbalance\n",
    "from imblearn.under_sampling import InstanceHardnessThreshold\n",
    "\n",
    "# Model training and evaluation\n",
    "from sklearn.model_selection import train_test_split, GridSearchCV, StratifiedKFold, cross_val_score\n",
    "\n",
    "#Metrics\n",
    "from sklearn.metrics import r2_score, mean_squared_error, mean_absolute_error, accuracy_score, balanced_accuracy_score\n",
    "from sklearn.metrics import precision_score, recall_score, f1_score, multilabel_confusion_matrix, classification_report\n",
    "#Models\n",
    "from sklearn.linear_model import LogisticRegression\n",
    "from sklearn.neighbors import KNeighborsClassifier\n",
    "from sklearn.naive_bayes import GaussianNB\n",
    "from sklearn.tree import DecisionTreeClassifier\n",
    "from sklearn.ensemble import RandomForestClassifier, GradientBoostingClassifier\n",
    "from sklearn.neural_network import MLPClassifier"
   ]
  },
  {
   "cell_type": "markdown",
   "metadata": {
    "colab_type": "text",
    "id": "W8vaZS_-jxg0"
   },
   "source": [
    "## 3. Model building and evaluation"
   ]
  },
  {
   "cell_type": "markdown",
   "metadata": {
    "colab_type": "text",
    "id": "EBaqlZ_4eO5H"
   },
   "source": [
    "### Truncated SVD "
   ]
  },
  {
   "cell_type": "markdown",
   "metadata": {},
   "source": [
    "#### original sample"
   ]
  },
  {
   "cell_type": "code",
   "execution_count": 10,
   "metadata": {
    "ExecuteTime": {
     "end_time": "2020-05-26T18:16:35.402742Z",
     "start_time": "2020-05-26T18:16:35.175351Z"
    }
   },
   "outputs": [],
   "source": [
    "result_svd_vec_types  = pd.read_csv(\"data/output_csv/result_svd_vec_types.csv\")\n",
    "result_svd_vec_types.drop([\"Unnamed: 0\"], axis=1, inplace=True)"
   ]
  },
  {
   "cell_type": "code",
   "execution_count": 11,
   "metadata": {
    "ExecuteTime": {
     "end_time": "2020-05-26T18:16:36.547708Z",
     "start_time": "2020-05-26T18:16:36.527762Z"
    }
   },
   "outputs": [
    {
     "data": {
      "text/html": [
       "<div>\n",
       "<style scoped>\n",
       "    .dataframe tbody tr th:only-of-type {\n",
       "        vertical-align: middle;\n",
       "    }\n",
       "\n",
       "    .dataframe tbody tr th {\n",
       "        vertical-align: top;\n",
       "    }\n",
       "\n",
       "    .dataframe thead th {\n",
       "        text-align: right;\n",
       "    }\n",
       "</style>\n",
       "<table border=\"1\" class=\"dataframe\">\n",
       "  <thead>\n",
       "    <tr style=\"text-align: right;\">\n",
       "      <th></th>\n",
       "      <th>type</th>\n",
       "      <th>words_per_comment</th>\n",
       "      <th>variance_of_word_counts</th>\n",
       "      <th>enfj</th>\n",
       "      <th>enfp</th>\n",
       "      <th>entj</th>\n",
       "      <th>entp</th>\n",
       "      <th>esfj</th>\n",
       "      <th>esfp</th>\n",
       "      <th>estj</th>\n",
       "      <th>...</th>\n",
       "      <th>90</th>\n",
       "      <th>91</th>\n",
       "      <th>92</th>\n",
       "      <th>93</th>\n",
       "      <th>94</th>\n",
       "      <th>95</th>\n",
       "      <th>96</th>\n",
       "      <th>97</th>\n",
       "      <th>98</th>\n",
       "      <th>99</th>\n",
       "    </tr>\n",
       "  </thead>\n",
       "  <tbody>\n",
       "    <tr>\n",
       "      <th>0</th>\n",
       "      <td>infj</td>\n",
       "      <td>11.12</td>\n",
       "      <td>135.2900</td>\n",
       "      <td>0</td>\n",
       "      <td>0</td>\n",
       "      <td>0</td>\n",
       "      <td>0</td>\n",
       "      <td>0</td>\n",
       "      <td>0</td>\n",
       "      <td>0</td>\n",
       "      <td>...</td>\n",
       "      <td>0.343928</td>\n",
       "      <td>0.360159</td>\n",
       "      <td>0.358680</td>\n",
       "      <td>0.351273</td>\n",
       "      <td>0.402498</td>\n",
       "      <td>0.357498</td>\n",
       "      <td>0.376758</td>\n",
       "      <td>0.379303</td>\n",
       "      <td>0.367843</td>\n",
       "      <td>0.375516</td>\n",
       "    </tr>\n",
       "    <tr>\n",
       "      <th>1</th>\n",
       "      <td>entp</td>\n",
       "      <td>23.40</td>\n",
       "      <td>187.4756</td>\n",
       "      <td>0</td>\n",
       "      <td>0</td>\n",
       "      <td>0</td>\n",
       "      <td>1</td>\n",
       "      <td>0</td>\n",
       "      <td>0</td>\n",
       "      <td>0</td>\n",
       "      <td>...</td>\n",
       "      <td>0.351512</td>\n",
       "      <td>0.375683</td>\n",
       "      <td>0.352008</td>\n",
       "      <td>0.356475</td>\n",
       "      <td>0.332874</td>\n",
       "      <td>0.386907</td>\n",
       "      <td>0.356917</td>\n",
       "      <td>0.354533</td>\n",
       "      <td>0.377601</td>\n",
       "      <td>0.337164</td>\n",
       "    </tr>\n",
       "    <tr>\n",
       "      <th>2</th>\n",
       "      <td>intp</td>\n",
       "      <td>16.72</td>\n",
       "      <td>180.6900</td>\n",
       "      <td>0</td>\n",
       "      <td>0</td>\n",
       "      <td>0</td>\n",
       "      <td>0</td>\n",
       "      <td>0</td>\n",
       "      <td>0</td>\n",
       "      <td>0</td>\n",
       "      <td>...</td>\n",
       "      <td>0.332374</td>\n",
       "      <td>0.354798</td>\n",
       "      <td>0.362468</td>\n",
       "      <td>0.352909</td>\n",
       "      <td>0.367732</td>\n",
       "      <td>0.342600</td>\n",
       "      <td>0.336408</td>\n",
       "      <td>0.357758</td>\n",
       "      <td>0.344202</td>\n",
       "      <td>0.391195</td>\n",
       "    </tr>\n",
       "    <tr>\n",
       "      <th>3</th>\n",
       "      <td>intj</td>\n",
       "      <td>21.28</td>\n",
       "      <td>181.8324</td>\n",
       "      <td>0</td>\n",
       "      <td>0</td>\n",
       "      <td>0</td>\n",
       "      <td>0</td>\n",
       "      <td>0</td>\n",
       "      <td>0</td>\n",
       "      <td>0</td>\n",
       "      <td>...</td>\n",
       "      <td>0.370720</td>\n",
       "      <td>0.335693</td>\n",
       "      <td>0.393478</td>\n",
       "      <td>0.349815</td>\n",
       "      <td>0.373543</td>\n",
       "      <td>0.380157</td>\n",
       "      <td>0.381040</td>\n",
       "      <td>0.335247</td>\n",
       "      <td>0.360196</td>\n",
       "      <td>0.377249</td>\n",
       "    </tr>\n",
       "    <tr>\n",
       "      <th>4</th>\n",
       "      <td>entj</td>\n",
       "      <td>19.34</td>\n",
       "      <td>196.4576</td>\n",
       "      <td>0</td>\n",
       "      <td>0</td>\n",
       "      <td>1</td>\n",
       "      <td>0</td>\n",
       "      <td>0</td>\n",
       "      <td>0</td>\n",
       "      <td>0</td>\n",
       "      <td>...</td>\n",
       "      <td>0.337362</td>\n",
       "      <td>0.363822</td>\n",
       "      <td>0.328088</td>\n",
       "      <td>0.336720</td>\n",
       "      <td>0.373329</td>\n",
       "      <td>0.376424</td>\n",
       "      <td>0.356934</td>\n",
       "      <td>0.367272</td>\n",
       "      <td>0.333998</td>\n",
       "      <td>0.381967</td>\n",
       "    </tr>\n",
       "  </tbody>\n",
       "</table>\n",
       "<p>5 rows × 119 columns</p>\n",
       "</div>"
      ],
      "text/plain": [
       "   type  words_per_comment  variance_of_word_counts  enfj  enfp  entj  entp  \\\n",
       "0  infj              11.12                 135.2900     0     0     0     0   \n",
       "1  entp              23.40                 187.4756     0     0     0     1   \n",
       "2  intp              16.72                 180.6900     0     0     0     0   \n",
       "3  intj              21.28                 181.8324     0     0     0     0   \n",
       "4  entj              19.34                 196.4576     0     0     1     0   \n",
       "\n",
       "   esfj  esfp  estj  ...        90        91        92        93        94  \\\n",
       "0     0     0     0  ...  0.343928  0.360159  0.358680  0.351273  0.402498   \n",
       "1     0     0     0  ...  0.351512  0.375683  0.352008  0.356475  0.332874   \n",
       "2     0     0     0  ...  0.332374  0.354798  0.362468  0.352909  0.367732   \n",
       "3     0     0     0  ...  0.370720  0.335693  0.393478  0.349815  0.373543   \n",
       "4     0     0     0  ...  0.337362  0.363822  0.328088  0.336720  0.373329   \n",
       "\n",
       "         95        96        97        98        99  \n",
       "0  0.357498  0.376758  0.379303  0.367843  0.375516  \n",
       "1  0.386907  0.356917  0.354533  0.377601  0.337164  \n",
       "2  0.342600  0.336408  0.357758  0.344202  0.391195  \n",
       "3  0.380157  0.381040  0.335247  0.360196  0.377249  \n",
       "4  0.376424  0.356934  0.367272  0.333998  0.381967  \n",
       "\n",
       "[5 rows x 119 columns]"
      ]
     },
     "execution_count": 11,
     "metadata": {},
     "output_type": "execute_result"
    }
   ],
   "source": [
    "result_svd_vec_types.head()"
   ]
  },
  {
   "cell_type": "code",
   "execution_count": 12,
   "metadata": {
    "ExecuteTime": {
     "end_time": "2020-05-26T18:16:37.276731Z",
     "start_time": "2020-05-26T18:16:37.272742Z"
    }
   },
   "outputs": [
    {
     "data": {
      "text/plain": [
       "(8675, 119)"
      ]
     },
     "execution_count": 12,
     "metadata": {},
     "output_type": "execute_result"
    }
   ],
   "source": [
    "result_svd_vec_types.shape"
   ]
  },
  {
   "cell_type": "code",
   "execution_count": 13,
   "metadata": {
    "ExecuteTime": {
     "end_time": "2020-05-26T18:16:38.740816Z",
     "start_time": "2020-05-26T18:16:38.731840Z"
    }
   },
   "outputs": [],
   "source": [
    "X = result_svd_vec_types.drop([\"type\",\"enfj\", \"enfp\", \"entj\", \"entp\", \"esfj\", \"esfp\", \"estj\", \"estp\",\"infj\", \"infp\", \"intj\",\n",
    "                               \"intp\", \"isfj\", \"isfp\", \"istj\", \"istp\"], axis=1).values\n",
    "y = result_svd_vec_types[\"type\"].values"
   ]
  },
  {
   "cell_type": "code",
   "execution_count": 14,
   "metadata": {
    "ExecuteTime": {
     "end_time": "2020-05-26T18:16:39.797020Z",
     "start_time": "2020-05-26T18:16:39.783029Z"
    },
    "scrolled": true
   },
   "outputs": [
    {
     "name": "stdout",
     "output_type": "stream",
     "text": [
      "(6940, 102) (6940,) (1735, 102) (1735,)\n"
     ]
    }
   ],
   "source": [
    "X_train, X_test, y_train, y_test = train_test_split(X, y, random_state=42, test_size=0.2)\n",
    "print ((X_train.shape),(y_train.shape),(X_test.shape),(y_test.shape))"
   ]
  },
  {
   "cell_type": "code",
   "execution_count": 15,
   "metadata": {
    "ExecuteTime": {
     "end_time": "2020-05-26T18:16:41.057621Z",
     "start_time": "2020-05-26T18:16:41.046649Z"
    }
   },
   "outputs": [],
   "source": [
    "def baseline_report(model, X_train, X_test, y_train, y_test, name):\n",
    "    strat_k_fold = StratifiedKFold(n_splits=5, shuffle=True)\n",
    "    model.fit(X_train, y_train)\n",
    "    accuracy     = np.mean(cross_val_score(model, X_train, y_train, cv=strat_k_fold, scoring='accuracy'))\n",
    "    precision    = np.mean(cross_val_score(model, X_train, y_train, cv=strat_k_fold, scoring='precision_weighted'))\n",
    "    recall       = np.mean(cross_val_score(model, X_train, y_train, cv=strat_k_fold, scoring='recall_weighted'))\n",
    "    f1score      = np.mean(cross_val_score(model, X_train, y_train, cv=strat_k_fold, scoring='f1_weighted'))\n",
    "    rocauc_ovr   = np.mean(cross_val_score(model, X_train, y_train, cv=strat_k_fold, scoring='roc_auc_ovr_weighted'))\n",
    "    rocauc_ovo   = np.mean(cross_val_score(model, X_train, y_train, cv=strat_k_fold, scoring='roc_auc_ovo_weighted'))\n",
    "    y_pred = model.predict(X_test)\n",
    "    mcm = multilabel_confusion_matrix(y_test, y_pred)\n",
    "    tn = mcm[:, 0, 0]\n",
    "    tp = mcm[:, 1, 1]\n",
    "    fn = mcm[:, 1, 0]\n",
    "    fp = mcm[:, 0, 1]\n",
    "    specificities = tn / (tn+fp)\n",
    "    specificity = (specificities.sum())/ 16\n",
    "\n",
    "    df_model = pd.DataFrame({'model'        : [name],\n",
    "                             'accuracy'     : [accuracy],\n",
    "                             'precision'    : [precision],\n",
    "                             'recall'       : [recall],\n",
    "                             'f1score'      : [f1score],\n",
    "                             'rocauc_ovr'   : [rocauc_ovr],\n",
    "                             'rocauc_ovo'   : [rocauc_ovo],\n",
    "                             'specificity'  : [specificity]\n",
    "                            })   \n",
    "    return df_model"
   ]
  },
  {
   "cell_type": "code",
   "execution_count": 30,
   "metadata": {
    "ExecuteTime": {
     "end_time": "2020-05-26T21:22:37.520321Z",
     "start_time": "2020-05-26T21:22:37.512343Z"
    }
   },
   "outputs": [],
   "source": [
    "models = {'gnb': GaussianNB(),\n",
    "          'logit': LogisticRegression(),\n",
    "          'knn': KNeighborsClassifier(),\n",
    "          'decisiontree': DecisionTreeClassifier(),\n",
    "          'randomforest': RandomForestClassifier(),\n",
    "          'xgboost': GradientBoostingClassifier(),\n",
    "          'MLPC': MLPClassifier()\n",
    "         }"
   ]
  },
  {
   "cell_type": "markdown",
   "metadata": {
    "colab_type": "text",
    "id": "__WdiZHsnBmY"
   },
   "source": [
    "<img src=\"https://www.nicepng.com/png/detail/148-1486992_discover-the-most-powerful-ways-to-automate-your.png\" width=\"1000\"> "
   ]
  },
  {
   "cell_type": "code",
   "execution_count": 0,
   "metadata": {
    "ExecuteTime": {
     "end_time": "2020-05-18T11:35:21.265447Z",
     "start_time": "2020-05-18T11:35:21.261454Z"
    },
    "colab": {},
    "colab_type": "code",
    "id": "Y6U0PUxXnBmZ",
    "outputId": "70e78df8-5a48-4efc-a5ac-7b587ec3b97b"
   },
   "outputs": [
    {
     "ename": "SystemExit",
     "evalue": "his is a very consumming memory process, with average wall time: ~ 20 min. If you don't want to wait please go to the next step",
     "output_type": "error",
     "traceback": [
      "An exception has occurred, use %tb to see the full traceback.\n",
      "\u001b[1;31mSystemExit\u001b[0m\u001b[1;31m:\u001b[0m his is a very consumming memory process, with average wall time: ~ 20 min. If you don't want to wait please go to the next step\n"
     ]
    }
   ],
   "source": [
    "raise SystemExit(\"Here it comes a very consumming memory process. You should better not start it till everything else has itereated propperly\")"
   ]
  },
  {
   "cell_type": "code",
   "execution_count": 66,
   "metadata": {
    "ExecuteTime": {
     "end_time": "2020-05-26T21:43:21.008341Z",
     "start_time": "2020-05-26T21:43:20.993177Z"
    }
   },
   "outputs": [
    {
     "data": {
      "text/html": [
       "<div>\n",
       "<style scoped>\n",
       "    .dataframe tbody tr th:only-of-type {\n",
       "        vertical-align: middle;\n",
       "    }\n",
       "\n",
       "    .dataframe tbody tr th {\n",
       "        vertical-align: top;\n",
       "    }\n",
       "\n",
       "    .dataframe thead th {\n",
       "        text-align: right;\n",
       "    }\n",
       "</style>\n",
       "<table border=\"1\" class=\"dataframe\">\n",
       "  <thead>\n",
       "    <tr style=\"text-align: right;\">\n",
       "      <th></th>\n",
       "      <th>model</th>\n",
       "      <th>accuracy</th>\n",
       "      <th>precision</th>\n",
       "      <th>recall</th>\n",
       "      <th>f1score</th>\n",
       "      <th>rocauc_ovr</th>\n",
       "      <th>rocauc_ovo</th>\n",
       "      <th>specificity</th>\n",
       "    </tr>\n",
       "  </thead>\n",
       "  <tbody>\n",
       "    <tr>\n",
       "      <th>0</th>\n",
       "      <td>gnb</td>\n",
       "      <td>0.555331</td>\n",
       "      <td>0.595202</td>\n",
       "      <td>0.557781</td>\n",
       "      <td>0.554236</td>\n",
       "      <td>0.850117</td>\n",
       "      <td>0.858449</td>\n",
       "      <td>0.96728</td>\n",
       "    </tr>\n",
       "    <tr>\n",
       "      <th>0</th>\n",
       "      <td>logit</td>\n",
       "      <td>0.212248</td>\n",
       "      <td>0.087325</td>\n",
       "      <td>0.20951</td>\n",
       "      <td>0.105265</td>\n",
       "      <td>0.532143</td>\n",
       "      <td>0.535477</td>\n",
       "      <td>0.937515</td>\n",
       "    </tr>\n",
       "    <tr>\n",
       "      <th>0</th>\n",
       "      <td>knn</td>\n",
       "      <td>0.143804</td>\n",
       "      <td>0.137235</td>\n",
       "      <td>0.143516</td>\n",
       "      <td>0.134732</td>\n",
       "      <td>0.520831</td>\n",
       "      <td>0.51707</td>\n",
       "      <td>0.938348</td>\n",
       "    </tr>\n",
       "    <tr>\n",
       "      <th>0</th>\n",
       "      <td>decisiontree</td>\n",
       "      <td>0.421182</td>\n",
       "      <td>0.417194</td>\n",
       "      <td>0.425504</td>\n",
       "      <td>0.418183</td>\n",
       "      <td>0.67451</td>\n",
       "      <td>0.634793</td>\n",
       "      <td>0.959201</td>\n",
       "    </tr>\n",
       "    <tr>\n",
       "      <th>0</th>\n",
       "      <td>randomforest</td>\n",
       "      <td>0.61585</td>\n",
       "      <td>0.636571</td>\n",
       "      <td>0.612824</td>\n",
       "      <td>0.583978</td>\n",
       "      <td>0.896918</td>\n",
       "      <td>0.864073</td>\n",
       "      <td>0.970577</td>\n",
       "    </tr>\n",
       "    <tr>\n",
       "      <th>0</th>\n",
       "      <td>xgboost</td>\n",
       "      <td>0.627666</td>\n",
       "      <td>0.629024</td>\n",
       "      <td>0.629539</td>\n",
       "      <td>0.626362</td>\n",
       "      <td>0.896847</td>\n",
       "      <td>0.870529</td>\n",
       "      <td>0.974389</td>\n",
       "    </tr>\n",
       "    <tr>\n",
       "      <th>0</th>\n",
       "      <td>MLPC</td>\n",
       "      <td>0.557637</td>\n",
       "      <td>0.53984</td>\n",
       "      <td>0.5683</td>\n",
       "      <td>0.510389</td>\n",
       "      <td>0.902499</td>\n",
       "      <td>0.861966</td>\n",
       "      <td>0.97182</td>\n",
       "    </tr>\n",
       "  </tbody>\n",
       "</table>\n",
       "</div>"
      ],
      "text/plain": [
       "          model  accuracy precision    recall   f1score rocauc_ovr rocauc_ovo  \\\n",
       "0           gnb  0.555331  0.595202  0.557781  0.554236   0.850117   0.858449   \n",
       "0         logit  0.212248  0.087325   0.20951  0.105265   0.532143   0.535477   \n",
       "0           knn  0.143804  0.137235  0.143516  0.134732   0.520831    0.51707   \n",
       "0  decisiontree  0.421182  0.417194  0.425504  0.418183    0.67451   0.634793   \n",
       "0  randomforest   0.61585  0.636571  0.612824  0.583978   0.896918   0.864073   \n",
       "0       xgboost  0.627666  0.629024  0.629539  0.626362   0.896847   0.870529   \n",
       "0          MLPC  0.557637   0.53984    0.5683  0.510389   0.902499   0.861966   \n",
       "\n",
       "  specificity  \n",
       "0     0.96728  \n",
       "0    0.937515  \n",
       "0    0.938348  \n",
       "0    0.959201  \n",
       "0    0.970577  \n",
       "0    0.974389  \n",
       "0     0.97182  "
      ]
     },
     "execution_count": 66,
     "metadata": {},
     "output_type": "execute_result"
    }
   ],
   "source": [
    "# Evaluation of models\n",
    "models_df = pd.concat([baseline_report(model, X_train, X_test, y_train, y_test, name) for (name, model) in models.items()])\n",
    "models_df.to_csv(\"data/output_csv/models_svd.csv\")\n",
    "models_df"
   ]
  },
  {
   "cell_type": "markdown",
   "metadata": {},
   "source": [
    "#### resampled"
   ]
  },
  {
   "cell_type": "code",
   "execution_count": 154,
   "metadata": {
    "ExecuteTime": {
     "end_time": "2020-05-25T15:24:08.029808Z",
     "start_time": "2020-05-25T15:24:07.803287Z"
    }
   },
   "outputs": [],
   "source": [
    "result_svd_vec_types  = pd.read_csv(\"data/output_csv/result_svd_vec_types.csv\")\n",
    "result_svd_vec_types.drop([\"Unnamed: 0\"], axis=1, inplace=True)"
   ]
  },
  {
   "cell_type": "code",
   "execution_count": 155,
   "metadata": {
    "ExecuteTime": {
     "end_time": "2020-05-25T15:24:08.792233Z",
     "start_time": "2020-05-25T15:24:08.772286Z"
    }
   },
   "outputs": [
    {
     "data": {
      "text/html": [
       "<div>\n",
       "<style scoped>\n",
       "    .dataframe tbody tr th:only-of-type {\n",
       "        vertical-align: middle;\n",
       "    }\n",
       "\n",
       "    .dataframe tbody tr th {\n",
       "        vertical-align: top;\n",
       "    }\n",
       "\n",
       "    .dataframe thead th {\n",
       "        text-align: right;\n",
       "    }\n",
       "</style>\n",
       "<table border=\"1\" class=\"dataframe\">\n",
       "  <thead>\n",
       "    <tr style=\"text-align: right;\">\n",
       "      <th></th>\n",
       "      <th>type</th>\n",
       "      <th>words_per_comment</th>\n",
       "      <th>variance_of_word_counts</th>\n",
       "      <th>enfj</th>\n",
       "      <th>enfp</th>\n",
       "      <th>entj</th>\n",
       "      <th>entp</th>\n",
       "      <th>esfj</th>\n",
       "      <th>esfp</th>\n",
       "      <th>estj</th>\n",
       "      <th>...</th>\n",
       "      <th>90</th>\n",
       "      <th>91</th>\n",
       "      <th>92</th>\n",
       "      <th>93</th>\n",
       "      <th>94</th>\n",
       "      <th>95</th>\n",
       "      <th>96</th>\n",
       "      <th>97</th>\n",
       "      <th>98</th>\n",
       "      <th>99</th>\n",
       "    </tr>\n",
       "  </thead>\n",
       "  <tbody>\n",
       "    <tr>\n",
       "      <th>0</th>\n",
       "      <td>infj</td>\n",
       "      <td>11.12</td>\n",
       "      <td>135.2900</td>\n",
       "      <td>0</td>\n",
       "      <td>0</td>\n",
       "      <td>0</td>\n",
       "      <td>0</td>\n",
       "      <td>0</td>\n",
       "      <td>0</td>\n",
       "      <td>0</td>\n",
       "      <td>...</td>\n",
       "      <td>0.343928</td>\n",
       "      <td>0.360159</td>\n",
       "      <td>0.358680</td>\n",
       "      <td>0.351273</td>\n",
       "      <td>0.402498</td>\n",
       "      <td>0.357498</td>\n",
       "      <td>0.376758</td>\n",
       "      <td>0.379303</td>\n",
       "      <td>0.367843</td>\n",
       "      <td>0.375516</td>\n",
       "    </tr>\n",
       "    <tr>\n",
       "      <th>1</th>\n",
       "      <td>entp</td>\n",
       "      <td>23.40</td>\n",
       "      <td>187.4756</td>\n",
       "      <td>0</td>\n",
       "      <td>0</td>\n",
       "      <td>0</td>\n",
       "      <td>1</td>\n",
       "      <td>0</td>\n",
       "      <td>0</td>\n",
       "      <td>0</td>\n",
       "      <td>...</td>\n",
       "      <td>0.351512</td>\n",
       "      <td>0.375683</td>\n",
       "      <td>0.352008</td>\n",
       "      <td>0.356475</td>\n",
       "      <td>0.332874</td>\n",
       "      <td>0.386907</td>\n",
       "      <td>0.356917</td>\n",
       "      <td>0.354533</td>\n",
       "      <td>0.377601</td>\n",
       "      <td>0.337164</td>\n",
       "    </tr>\n",
       "    <tr>\n",
       "      <th>2</th>\n",
       "      <td>intp</td>\n",
       "      <td>16.72</td>\n",
       "      <td>180.6900</td>\n",
       "      <td>0</td>\n",
       "      <td>0</td>\n",
       "      <td>0</td>\n",
       "      <td>0</td>\n",
       "      <td>0</td>\n",
       "      <td>0</td>\n",
       "      <td>0</td>\n",
       "      <td>...</td>\n",
       "      <td>0.332374</td>\n",
       "      <td>0.354798</td>\n",
       "      <td>0.362468</td>\n",
       "      <td>0.352909</td>\n",
       "      <td>0.367732</td>\n",
       "      <td>0.342600</td>\n",
       "      <td>0.336408</td>\n",
       "      <td>0.357758</td>\n",
       "      <td>0.344202</td>\n",
       "      <td>0.391195</td>\n",
       "    </tr>\n",
       "    <tr>\n",
       "      <th>3</th>\n",
       "      <td>intj</td>\n",
       "      <td>21.28</td>\n",
       "      <td>181.8324</td>\n",
       "      <td>0</td>\n",
       "      <td>0</td>\n",
       "      <td>0</td>\n",
       "      <td>0</td>\n",
       "      <td>0</td>\n",
       "      <td>0</td>\n",
       "      <td>0</td>\n",
       "      <td>...</td>\n",
       "      <td>0.370720</td>\n",
       "      <td>0.335693</td>\n",
       "      <td>0.393478</td>\n",
       "      <td>0.349815</td>\n",
       "      <td>0.373543</td>\n",
       "      <td>0.380157</td>\n",
       "      <td>0.381040</td>\n",
       "      <td>0.335247</td>\n",
       "      <td>0.360196</td>\n",
       "      <td>0.377249</td>\n",
       "    </tr>\n",
       "    <tr>\n",
       "      <th>4</th>\n",
       "      <td>entj</td>\n",
       "      <td>19.34</td>\n",
       "      <td>196.4576</td>\n",
       "      <td>0</td>\n",
       "      <td>0</td>\n",
       "      <td>1</td>\n",
       "      <td>0</td>\n",
       "      <td>0</td>\n",
       "      <td>0</td>\n",
       "      <td>0</td>\n",
       "      <td>...</td>\n",
       "      <td>0.337362</td>\n",
       "      <td>0.363822</td>\n",
       "      <td>0.328088</td>\n",
       "      <td>0.336720</td>\n",
       "      <td>0.373329</td>\n",
       "      <td>0.376424</td>\n",
       "      <td>0.356934</td>\n",
       "      <td>0.367272</td>\n",
       "      <td>0.333998</td>\n",
       "      <td>0.381967</td>\n",
       "    </tr>\n",
       "  </tbody>\n",
       "</table>\n",
       "<p>5 rows × 119 columns</p>\n",
       "</div>"
      ],
      "text/plain": [
       "   type  words_per_comment  variance_of_word_counts  enfj  enfp  entj  entp  \\\n",
       "0  infj              11.12                 135.2900     0     0     0     0   \n",
       "1  entp              23.40                 187.4756     0     0     0     1   \n",
       "2  intp              16.72                 180.6900     0     0     0     0   \n",
       "3  intj              21.28                 181.8324     0     0     0     0   \n",
       "4  entj              19.34                 196.4576     0     0     1     0   \n",
       "\n",
       "   esfj  esfp  estj  ...        90        91        92        93        94  \\\n",
       "0     0     0     0  ...  0.343928  0.360159  0.358680  0.351273  0.402498   \n",
       "1     0     0     0  ...  0.351512  0.375683  0.352008  0.356475  0.332874   \n",
       "2     0     0     0  ...  0.332374  0.354798  0.362468  0.352909  0.367732   \n",
       "3     0     0     0  ...  0.370720  0.335693  0.393478  0.349815  0.373543   \n",
       "4     0     0     0  ...  0.337362  0.363822  0.328088  0.336720  0.373329   \n",
       "\n",
       "         95        96        97        98        99  \n",
       "0  0.357498  0.376758  0.379303  0.367843  0.375516  \n",
       "1  0.386907  0.356917  0.354533  0.377601  0.337164  \n",
       "2  0.342600  0.336408  0.357758  0.344202  0.391195  \n",
       "3  0.380157  0.381040  0.335247  0.360196  0.377249  \n",
       "4  0.376424  0.356934  0.367272  0.333998  0.381967  \n",
       "\n",
       "[5 rows x 119 columns]"
      ]
     },
     "execution_count": 155,
     "metadata": {},
     "output_type": "execute_result"
    }
   ],
   "source": [
    "result_svd_vec_types.head()"
   ]
  },
  {
   "cell_type": "code",
   "execution_count": 156,
   "metadata": {
    "ExecuteTime": {
     "end_time": "2020-05-25T15:24:11.978118Z",
     "start_time": "2020-05-25T15:24:11.973131Z"
    }
   },
   "outputs": [
    {
     "data": {
      "text/plain": [
       "(8675, 119)"
      ]
     },
     "execution_count": 156,
     "metadata": {},
     "output_type": "execute_result"
    }
   ],
   "source": [
    "result_svd_vec_types.shape"
   ]
  },
  {
   "cell_type": "code",
   "execution_count": 230,
   "metadata": {
    "ExecuteTime": {
     "end_time": "2020-05-25T19:08:39.492659Z",
     "start_time": "2020-05-25T19:08:39.448804Z"
    }
   },
   "outputs": [],
   "source": [
    "def sampling_k_elements(group, k=39):\n",
    "    if len(group) < k:\n",
    "        return group\n",
    "    return group.sample(k)\n",
    "\n",
    "balanced_svd = result_svd_vec_types.groupby(\"type\").apply(sampling_k_elements).reset_index(drop=True)"
   ]
  },
  {
   "cell_type": "code",
   "execution_count": 231,
   "metadata": {
    "ExecuteTime": {
     "end_time": "2020-05-25T19:08:45.272838Z",
     "start_time": "2020-05-25T19:08:45.265883Z"
    }
   },
   "outputs": [],
   "source": [
    "X = balanced_svd.drop([\"type\",\"enfj\", \"enfp\", \"entj\", \"entp\", \"esfj\", \"esfp\", \"estj\", \"estp\",\"infj\", \"infp\", \"intj\",\n",
    "                               \"intp\", \"isfj\", \"isfp\", \"istj\", \"istp\"], axis=1).values\n",
    "y = balanced_svd[\"type\"].values"
   ]
  },
  {
   "cell_type": "code",
   "execution_count": 232,
   "metadata": {
    "ExecuteTime": {
     "end_time": "2020-05-25T19:08:46.415908Z",
     "start_time": "2020-05-25T19:08:46.408927Z"
    },
    "scrolled": true
   },
   "outputs": [
    {
     "name": "stdout",
     "output_type": "stream",
     "text": [
      "(499, 102) (499,) (125, 102) (125,)\n"
     ]
    }
   ],
   "source": [
    "X_train, X_test, y_train, y_test = train_test_split(X, y, random_state=42, test_size=0.2)\n",
    "print ((X_train.shape),(y_train.shape),(X_test.shape),(y_test.shape))"
   ]
  },
  {
   "cell_type": "code",
   "execution_count": 233,
   "metadata": {
    "ExecuteTime": {
     "end_time": "2020-05-25T19:08:53.385751Z",
     "start_time": "2020-05-25T19:08:53.373783Z"
    }
   },
   "outputs": [],
   "source": [
    "def baseline_report(model, X_train, X_test, y_train, y_test, name):\n",
    "    strat_k_fold = StratifiedKFold(n_splits=5, shuffle=True)\n",
    "    model.fit(X_train, y_train)\n",
    "    accuracy     = np.mean(cross_val_score(model, X_train, y_train, cv=strat_k_fold, scoring='accuracy'))\n",
    "    precision    = np.mean(cross_val_score(model, X_train, y_train, cv=strat_k_fold, scoring='precision_weighted'))\n",
    "    recall       = np.mean(cross_val_score(model, X_train, y_train, cv=strat_k_fold, scoring='recall_weighted'))\n",
    "    f1score      = np.mean(cross_val_score(model, X_train, y_train, cv=strat_k_fold, scoring='f1_weighted'))\n",
    "    rocauc_ovr   = np.mean(cross_val_score(model, X_train, y_train, cv=strat_k_fold, scoring='roc_auc_ovr_weighted'))\n",
    "    rocauc_ovo   = np.mean(cross_val_score(model, X_train, y_train, cv=strat_k_fold, scoring='roc_auc_ovo_weighted'))\n",
    "    y_pred = model.predict(X_test)\n",
    "    mcm = multilabel_confusion_matrix(y_test, y_pred)\n",
    "    tn = mcm[:, 0, 0]\n",
    "    tp = mcm[:, 1, 1]\n",
    "    fn = mcm[:, 1, 0]\n",
    "    fp = mcm[:, 0, 1]\n",
    "    specificities = tn / (tn+fp)\n",
    "    specificity = (specificities.sum())/ 16\n",
    "\n",
    "    df_model = pd.DataFrame({'model'        : [name],\n",
    "                             'accuracy'     : [accuracy],\n",
    "                             'precision'    : [precision],\n",
    "                             'recall'       : [recall],\n",
    "                             'f1score'      : [f1score],\n",
    "                             'rocauc_ovr'   : [rocauc_ovr],\n",
    "                             'rocauc_ovo'   : [rocauc_ovo],\n",
    "                             'specificity': [specificity]\n",
    "                            })   \n",
    "    return df_model"
   ]
  },
  {
   "cell_type": "code",
   "execution_count": 234,
   "metadata": {
    "ExecuteTime": {
     "end_time": "2020-05-25T19:08:54.372960Z",
     "start_time": "2020-05-25T19:08:54.368938Z"
    }
   },
   "outputs": [],
   "source": [
    "models = {'gnb': GaussianNB(),\n",
    "          'logit': LogisticRegression(),\n",
    "          'knn': KNeighborsClassifier(),\n",
    "          'decisiontree': DecisionTreeClassifier(),\n",
    "          'randomforest': RandomForestClassifier(),\n",
    "          'xgboost': GradientBoostingClassifier(),\n",
    "          'MLPC': MLPClassifier()\n",
    "         }"
   ]
  },
  {
   "cell_type": "code",
   "execution_count": 235,
   "metadata": {
    "ExecuteTime": {
     "end_time": "2020-05-25T19:17:31.366303Z",
     "start_time": "2020-05-25T19:08:55.553794Z"
    },
    "scrolled": false
   },
   "outputs": [
    {
     "data": {
      "text/html": [
       "<div>\n",
       "<style scoped>\n",
       "    .dataframe tbody tr th:only-of-type {\n",
       "        vertical-align: middle;\n",
       "    }\n",
       "\n",
       "    .dataframe tbody tr th {\n",
       "        vertical-align: top;\n",
       "    }\n",
       "\n",
       "    .dataframe thead th {\n",
       "        text-align: right;\n",
       "    }\n",
       "</style>\n",
       "<table border=\"1\" class=\"dataframe\">\n",
       "  <thead>\n",
       "    <tr style=\"text-align: right;\">\n",
       "      <th></th>\n",
       "      <th>model</th>\n",
       "      <th>accuracy</th>\n",
       "      <th>precision</th>\n",
       "      <th>recall</th>\n",
       "      <th>f1score</th>\n",
       "      <th>rocauc_ovr</th>\n",
       "      <th>rocauc_ovo</th>\n",
       "      <th>specificity</th>\n",
       "    </tr>\n",
       "  </thead>\n",
       "  <tbody>\n",
       "    <tr>\n",
       "      <th>0</th>\n",
       "      <td>gnb</td>\n",
       "      <td>0.394889</td>\n",
       "      <td>0.474383</td>\n",
       "      <td>0.420869</td>\n",
       "      <td>0.414898</td>\n",
       "      <td>0.794022</td>\n",
       "      <td>0.805177</td>\n",
       "      <td>0.961004</td>\n",
       "    </tr>\n",
       "    <tr>\n",
       "      <th>0</th>\n",
       "      <td>logit</td>\n",
       "      <td>0.166444</td>\n",
       "      <td>0.187662</td>\n",
       "      <td>0.158465</td>\n",
       "      <td>0.106800</td>\n",
       "      <td>0.622457</td>\n",
       "      <td>0.619038</td>\n",
       "      <td>0.950622</td>\n",
       "    </tr>\n",
       "    <tr>\n",
       "      <th>0</th>\n",
       "      <td>knn</td>\n",
       "      <td>0.060081</td>\n",
       "      <td>0.056842</td>\n",
       "      <td>0.078162</td>\n",
       "      <td>0.040041</td>\n",
       "      <td>0.495538</td>\n",
       "      <td>0.501879</td>\n",
       "      <td>0.938124</td>\n",
       "    </tr>\n",
       "    <tr>\n",
       "      <th>0</th>\n",
       "      <td>decisiontree</td>\n",
       "      <td>0.242465</td>\n",
       "      <td>0.254147</td>\n",
       "      <td>0.248485</td>\n",
       "      <td>0.223025</td>\n",
       "      <td>0.579716</td>\n",
       "      <td>0.592617</td>\n",
       "      <td>0.956176</td>\n",
       "    </tr>\n",
       "    <tr>\n",
       "      <th>0</th>\n",
       "      <td>randomforest</td>\n",
       "      <td>0.456949</td>\n",
       "      <td>0.498677</td>\n",
       "      <td>0.477071</td>\n",
       "      <td>0.473628</td>\n",
       "      <td>0.824057</td>\n",
       "      <td>0.819632</td>\n",
       "      <td>0.970218</td>\n",
       "    </tr>\n",
       "    <tr>\n",
       "      <th>0</th>\n",
       "      <td>xgboost</td>\n",
       "      <td>0.356707</td>\n",
       "      <td>0.373399</td>\n",
       "      <td>0.362667</td>\n",
       "      <td>0.357443</td>\n",
       "      <td>0.790459</td>\n",
       "      <td>0.779409</td>\n",
       "      <td>0.961701</td>\n",
       "    </tr>\n",
       "    <tr>\n",
       "      <th>0</th>\n",
       "      <td>NN</td>\n",
       "      <td>0.086081</td>\n",
       "      <td>0.076485</td>\n",
       "      <td>0.094162</td>\n",
       "      <td>0.074812</td>\n",
       "      <td>0.587777</td>\n",
       "      <td>0.571033</td>\n",
       "      <td>0.940200</td>\n",
       "    </tr>\n",
       "  </tbody>\n",
       "</table>\n",
       "</div>"
      ],
      "text/plain": [
       "          model  accuracy  precision    recall   f1score  rocauc_ovr  \\\n",
       "0           gnb  0.394889   0.474383  0.420869  0.414898    0.794022   \n",
       "0         logit  0.166444   0.187662  0.158465  0.106800    0.622457   \n",
       "0           knn  0.060081   0.056842  0.078162  0.040041    0.495538   \n",
       "0  decisiontree  0.242465   0.254147  0.248485  0.223025    0.579716   \n",
       "0  randomforest  0.456949   0.498677  0.477071  0.473628    0.824057   \n",
       "0       xgboost  0.356707   0.373399  0.362667  0.357443    0.790459   \n",
       "0            NN  0.086081   0.076485  0.094162  0.074812    0.587777   \n",
       "\n",
       "   rocauc_ovo  specificity  \n",
       "0    0.805177     0.961004  \n",
       "0    0.619038     0.950622  \n",
       "0    0.501879     0.938124  \n",
       "0    0.592617     0.956176  \n",
       "0    0.819632     0.970218  \n",
       "0    0.779409     0.961701  \n",
       "0    0.571033     0.940200  "
      ]
     },
     "execution_count": 235,
     "metadata": {},
     "output_type": "execute_result"
    }
   ],
   "source": [
    "# Evaluation of models\n",
    "models_df = pd.concat([baseline_report(model, X_train, X_test, y_train, y_test, name) for (name, model) in models.items()])\n",
    "models_df.to_csv(\"data/output_csv/models_svd_resampled.csv\")\n",
    "models_df"
   ]
  },
  {
   "cell_type": "markdown",
   "metadata": {
    "colab_type": "text",
    "id": "u4taraiHeec2"
   },
   "source": [
    "### UMAP"
   ]
  },
  {
   "cell_type": "markdown",
   "metadata": {},
   "source": [
    "#### original sample"
   ]
  },
  {
   "cell_type": "code",
   "execution_count": 244,
   "metadata": {
    "ExecuteTime": {
     "end_time": "2020-05-25T20:24:54.702924Z",
     "start_time": "2020-05-25T20:24:54.675998Z"
    }
   },
   "outputs": [],
   "source": [
    "result_umap_types  = pd.read_csv(\"data/output_csv/result_umap_types.csv\")\n",
    "result_umap_types.drop([\"Unnamed: 0\"], axis=1, inplace=True)"
   ]
  },
  {
   "cell_type": "code",
   "execution_count": 245,
   "metadata": {
    "ExecuteTime": {
     "end_time": "2020-05-25T20:24:55.522318Z",
     "start_time": "2020-05-25T20:24:55.503342Z"
    }
   },
   "outputs": [
    {
     "data": {
      "text/html": [
       "<div>\n",
       "<style scoped>\n",
       "    .dataframe tbody tr th:only-of-type {\n",
       "        vertical-align: middle;\n",
       "    }\n",
       "\n",
       "    .dataframe tbody tr th {\n",
       "        vertical-align: top;\n",
       "    }\n",
       "\n",
       "    .dataframe thead th {\n",
       "        text-align: right;\n",
       "    }\n",
       "</style>\n",
       "<table border=\"1\" class=\"dataframe\">\n",
       "  <thead>\n",
       "    <tr style=\"text-align: right;\">\n",
       "      <th></th>\n",
       "      <th>type</th>\n",
       "      <th>words_per_comment</th>\n",
       "      <th>variance_of_word_counts</th>\n",
       "      <th>enfj</th>\n",
       "      <th>enfp</th>\n",
       "      <th>entj</th>\n",
       "      <th>entp</th>\n",
       "      <th>esfj</th>\n",
       "      <th>esfp</th>\n",
       "      <th>estj</th>\n",
       "      <th>...</th>\n",
       "      <th>infj</th>\n",
       "      <th>infp</th>\n",
       "      <th>intj</th>\n",
       "      <th>intp</th>\n",
       "      <th>isfj</th>\n",
       "      <th>isfp</th>\n",
       "      <th>istj</th>\n",
       "      <th>istp</th>\n",
       "      <th>0</th>\n",
       "      <th>1</th>\n",
       "    </tr>\n",
       "  </thead>\n",
       "  <tbody>\n",
       "    <tr>\n",
       "      <th>0</th>\n",
       "      <td>infj</td>\n",
       "      <td>11.12</td>\n",
       "      <td>135.2900</td>\n",
       "      <td>0</td>\n",
       "      <td>0</td>\n",
       "      <td>0</td>\n",
       "      <td>0</td>\n",
       "      <td>0</td>\n",
       "      <td>0</td>\n",
       "      <td>0</td>\n",
       "      <td>...</td>\n",
       "      <td>1</td>\n",
       "      <td>0</td>\n",
       "      <td>0</td>\n",
       "      <td>0</td>\n",
       "      <td>0</td>\n",
       "      <td>0</td>\n",
       "      <td>0</td>\n",
       "      <td>0</td>\n",
       "      <td>3.910143</td>\n",
       "      <td>7.477874</td>\n",
       "    </tr>\n",
       "    <tr>\n",
       "      <th>1</th>\n",
       "      <td>entp</td>\n",
       "      <td>23.40</td>\n",
       "      <td>187.4756</td>\n",
       "      <td>0</td>\n",
       "      <td>0</td>\n",
       "      <td>0</td>\n",
       "      <td>1</td>\n",
       "      <td>0</td>\n",
       "      <td>0</td>\n",
       "      <td>0</td>\n",
       "      <td>...</td>\n",
       "      <td>0</td>\n",
       "      <td>0</td>\n",
       "      <td>0</td>\n",
       "      <td>0</td>\n",
       "      <td>0</td>\n",
       "      <td>0</td>\n",
       "      <td>0</td>\n",
       "      <td>0</td>\n",
       "      <td>3.938040</td>\n",
       "      <td>5.939636</td>\n",
       "    </tr>\n",
       "    <tr>\n",
       "      <th>2</th>\n",
       "      <td>intp</td>\n",
       "      <td>16.72</td>\n",
       "      <td>180.6900</td>\n",
       "      <td>0</td>\n",
       "      <td>0</td>\n",
       "      <td>0</td>\n",
       "      <td>0</td>\n",
       "      <td>0</td>\n",
       "      <td>0</td>\n",
       "      <td>0</td>\n",
       "      <td>...</td>\n",
       "      <td>0</td>\n",
       "      <td>0</td>\n",
       "      <td>0</td>\n",
       "      <td>1</td>\n",
       "      <td>0</td>\n",
       "      <td>0</td>\n",
       "      <td>0</td>\n",
       "      <td>0</td>\n",
       "      <td>3.740153</td>\n",
       "      <td>5.486389</td>\n",
       "    </tr>\n",
       "    <tr>\n",
       "      <th>3</th>\n",
       "      <td>intj</td>\n",
       "      <td>21.28</td>\n",
       "      <td>181.8324</td>\n",
       "      <td>0</td>\n",
       "      <td>0</td>\n",
       "      <td>0</td>\n",
       "      <td>0</td>\n",
       "      <td>0</td>\n",
       "      <td>0</td>\n",
       "      <td>0</td>\n",
       "      <td>...</td>\n",
       "      <td>0</td>\n",
       "      <td>0</td>\n",
       "      <td>1</td>\n",
       "      <td>0</td>\n",
       "      <td>0</td>\n",
       "      <td>0</td>\n",
       "      <td>0</td>\n",
       "      <td>0</td>\n",
       "      <td>5.415134</td>\n",
       "      <td>7.452929</td>\n",
       "    </tr>\n",
       "    <tr>\n",
       "      <th>4</th>\n",
       "      <td>entj</td>\n",
       "      <td>19.34</td>\n",
       "      <td>196.4576</td>\n",
       "      <td>0</td>\n",
       "      <td>0</td>\n",
       "      <td>1</td>\n",
       "      <td>0</td>\n",
       "      <td>0</td>\n",
       "      <td>0</td>\n",
       "      <td>0</td>\n",
       "      <td>...</td>\n",
       "      <td>0</td>\n",
       "      <td>0</td>\n",
       "      <td>0</td>\n",
       "      <td>0</td>\n",
       "      <td>0</td>\n",
       "      <td>0</td>\n",
       "      <td>0</td>\n",
       "      <td>0</td>\n",
       "      <td>2.083198</td>\n",
       "      <td>7.512875</td>\n",
       "    </tr>\n",
       "  </tbody>\n",
       "</table>\n",
       "<p>5 rows × 21 columns</p>\n",
       "</div>"
      ],
      "text/plain": [
       "   type  words_per_comment  variance_of_word_counts  enfj  enfp  entj  entp  \\\n",
       "0  infj              11.12                 135.2900     0     0     0     0   \n",
       "1  entp              23.40                 187.4756     0     0     0     1   \n",
       "2  intp              16.72                 180.6900     0     0     0     0   \n",
       "3  intj              21.28                 181.8324     0     0     0     0   \n",
       "4  entj              19.34                 196.4576     0     0     1     0   \n",
       "\n",
       "   esfj  esfp  estj  ...  infj  infp  intj  intp  isfj  isfp  istj  istp  \\\n",
       "0     0     0     0  ...     1     0     0     0     0     0     0     0   \n",
       "1     0     0     0  ...     0     0     0     0     0     0     0     0   \n",
       "2     0     0     0  ...     0     0     0     1     0     0     0     0   \n",
       "3     0     0     0  ...     0     0     1     0     0     0     0     0   \n",
       "4     0     0     0  ...     0     0     0     0     0     0     0     0   \n",
       "\n",
       "          0         1  \n",
       "0  3.910143  7.477874  \n",
       "1  3.938040  5.939636  \n",
       "2  3.740153  5.486389  \n",
       "3  5.415134  7.452929  \n",
       "4  2.083198  7.512875  \n",
       "\n",
       "[5 rows x 21 columns]"
      ]
     },
     "execution_count": 245,
     "metadata": {},
     "output_type": "execute_result"
    }
   ],
   "source": [
    "result_umap_types.head()"
   ]
  },
  {
   "cell_type": "code",
   "execution_count": 246,
   "metadata": {
    "ExecuteTime": {
     "end_time": "2020-05-25T20:24:56.303333Z",
     "start_time": "2020-05-25T20:24:56.271445Z"
    }
   },
   "outputs": [
    {
     "data": {
      "text/plain": [
       "(8675, 21)"
      ]
     },
     "execution_count": 246,
     "metadata": {},
     "output_type": "execute_result"
    }
   ],
   "source": [
    "result_umap_types.shape"
   ]
  },
  {
   "cell_type": "code",
   "execution_count": 247,
   "metadata": {
    "ExecuteTime": {
     "end_time": "2020-05-25T20:24:57.063402Z",
     "start_time": "2020-05-25T20:24:57.056447Z"
    }
   },
   "outputs": [],
   "source": [
    "X = result_umap_types.drop([\"type\",\"enfj\", \"enfp\", \"entj\", \"entp\", \"esfj\", \"esfp\", \"estj\", \"estp\",\"infj\", \"infp\", \"intj\",\n",
    "                               \"intp\", \"isfj\", \"isfp\", \"istj\", \"istp\"], axis=1).values\n",
    "y = result_umap_types[\"type\"].values"
   ]
  },
  {
   "cell_type": "code",
   "execution_count": 248,
   "metadata": {
    "ExecuteTime": {
     "end_time": "2020-05-25T20:24:58.130465Z",
     "start_time": "2020-05-25T20:24:58.123479Z"
    },
    "scrolled": true
   },
   "outputs": [
    {
     "name": "stdout",
     "output_type": "stream",
     "text": [
      "(6940, 4) (6940,) (1735, 4) (1735,)\n"
     ]
    }
   ],
   "source": [
    "X_train, X_test, y_train, y_test = train_test_split(X, y, random_state=42, test_size=0.2)\n",
    "print ((X_train.shape),(y_train.shape),(X_test.shape),(y_test.shape))"
   ]
  },
  {
   "cell_type": "code",
   "execution_count": 249,
   "metadata": {
    "ExecuteTime": {
     "end_time": "2020-05-25T20:24:59.721880Z",
     "start_time": "2020-05-25T20:24:59.711931Z"
    }
   },
   "outputs": [],
   "source": [
    "def baseline_report(model, X_train, X_test, y_train, y_test, name):\n",
    "    strat_k_fold = StratifiedKFold(n_splits=5, shuffle=True)\n",
    "    model.fit(X_train, y_train)\n",
    "    accuracy     = np.mean(cross_val_score(model, X_train, y_train, cv=strat_k_fold, scoring='accuracy'))\n",
    "    precision    = np.mean(cross_val_score(model, X_train, y_train, cv=strat_k_fold, scoring='precision_weighted'))\n",
    "    recall       = np.mean(cross_val_score(model, X_train, y_train, cv=strat_k_fold, scoring='recall_weighted'))\n",
    "    f1score      = np.mean(cross_val_score(model, X_train, y_train, cv=strat_k_fold, scoring='f1_weighted'))\n",
    "    rocauc_ovr   = np.mean(cross_val_score(model, X_train, y_train, cv=strat_k_fold, scoring='roc_auc_ovr_weighted'))\n",
    "    rocauc_ovo   = np.mean(cross_val_score(model, X_train, y_train, cv=strat_k_fold, scoring='roc_auc_ovo_weighted'))\n",
    "    y_pred = model.predict(X_test)\n",
    "    mcm = multilabel_confusion_matrix(y_test, y_pred)\n",
    "    tn = mcm[:, 0, 0]\n",
    "    tp = mcm[:, 1, 1]\n",
    "    fn = mcm[:, 1, 0]\n",
    "    fp = mcm[:, 0, 1]\n",
    "    specificities = tn / (tn+fp)\n",
    "    specificity = (specificities.sum())/ 16\n",
    "\n",
    "    df_model = pd.DataFrame({'model'        : [name],\n",
    "                             'accuracy'     : [accuracy],\n",
    "                             'precision'    : [precision],\n",
    "                             'recall'       : [recall],\n",
    "                             'f1score'      : [f1score],\n",
    "                             'rocauc_ovr'   : [rocauc_ovr],\n",
    "                             'rocauc_ovo'   : [rocauc_ovo],\n",
    "                             'specificity': [specificity]\n",
    "                            })   \n",
    "    return df_model"
   ]
  },
  {
   "cell_type": "code",
   "execution_count": 250,
   "metadata": {
    "ExecuteTime": {
     "end_time": "2020-05-25T20:25:00.885408Z",
     "start_time": "2020-05-25T20:25:00.879424Z"
    }
   },
   "outputs": [],
   "source": [
    "models = {'gnb': GaussianNB(),\n",
    "          'logit': LogisticRegression(),\n",
    "          'knn': KNeighborsClassifier(),\n",
    "          'decisiontree': DecisionTreeClassifier(),\n",
    "          'randomforest': RandomForestClassifier(),\n",
    "          'xgboost': GradientBoostingClassifier(),\n",
    "          'MLPC': MLPClassifier()\n",
    "         }"
   ]
  },
  {
   "cell_type": "code",
   "execution_count": 251,
   "metadata": {
    "ExecuteTime": {
     "end_time": "2020-05-25T20:34:10.966508Z",
     "start_time": "2020-05-25T20:25:01.711163Z"
    },
    "scrolled": false
   },
   "outputs": [
    {
     "data": {
      "text/html": [
       "<div>\n",
       "<style scoped>\n",
       "    .dataframe tbody tr th:only-of-type {\n",
       "        vertical-align: middle;\n",
       "    }\n",
       "\n",
       "    .dataframe tbody tr th {\n",
       "        vertical-align: top;\n",
       "    }\n",
       "\n",
       "    .dataframe thead th {\n",
       "        text-align: right;\n",
       "    }\n",
       "</style>\n",
       "<table border=\"1\" class=\"dataframe\">\n",
       "  <thead>\n",
       "    <tr style=\"text-align: right;\">\n",
       "      <th></th>\n",
       "      <th>model</th>\n",
       "      <th>accuracy</th>\n",
       "      <th>precision</th>\n",
       "      <th>recall</th>\n",
       "      <th>f1score</th>\n",
       "      <th>rocauc_ovr</th>\n",
       "      <th>rocauc_ovo</th>\n",
       "      <th>specificity</th>\n",
       "    </tr>\n",
       "  </thead>\n",
       "  <tbody>\n",
       "    <tr>\n",
       "      <th>0</th>\n",
       "      <td>gnb</td>\n",
       "      <td>0.244669</td>\n",
       "      <td>0.147495</td>\n",
       "      <td>0.246542</td>\n",
       "      <td>0.170315</td>\n",
       "      <td>0.623117</td>\n",
       "      <td>0.617077</td>\n",
       "      <td>0.942453</td>\n",
       "    </tr>\n",
       "    <tr>\n",
       "      <th>0</th>\n",
       "      <td>logit</td>\n",
       "      <td>0.240058</td>\n",
       "      <td>0.136410</td>\n",
       "      <td>0.243660</td>\n",
       "      <td>0.162189</td>\n",
       "      <td>0.608578</td>\n",
       "      <td>0.585442</td>\n",
       "      <td>0.941679</td>\n",
       "    </tr>\n",
       "    <tr>\n",
       "      <th>0</th>\n",
       "      <td>knn</td>\n",
       "      <td>0.167579</td>\n",
       "      <td>0.161514</td>\n",
       "      <td>0.166138</td>\n",
       "      <td>0.154306</td>\n",
       "      <td>0.534462</td>\n",
       "      <td>0.524895</td>\n",
       "      <td>0.939635</td>\n",
       "    </tr>\n",
       "    <tr>\n",
       "      <th>0</th>\n",
       "      <td>decisiontree</td>\n",
       "      <td>0.162392</td>\n",
       "      <td>0.161085</td>\n",
       "      <td>0.160086</td>\n",
       "      <td>0.157405</td>\n",
       "      <td>0.523344</td>\n",
       "      <td>0.516075</td>\n",
       "      <td>0.940613</td>\n",
       "    </tr>\n",
       "    <tr>\n",
       "      <th>0</th>\n",
       "      <td>randomforest</td>\n",
       "      <td>0.207205</td>\n",
       "      <td>0.184490</td>\n",
       "      <td>0.216859</td>\n",
       "      <td>0.190350</td>\n",
       "      <td>0.595132</td>\n",
       "      <td>0.586595</td>\n",
       "      <td>0.942602</td>\n",
       "    </tr>\n",
       "    <tr>\n",
       "      <th>0</th>\n",
       "      <td>xgboost</td>\n",
       "      <td>0.228818</td>\n",
       "      <td>0.197117</td>\n",
       "      <td>0.228674</td>\n",
       "      <td>0.200210</td>\n",
       "      <td>0.624200</td>\n",
       "      <td>0.616643</td>\n",
       "      <td>0.942652</td>\n",
       "    </tr>\n",
       "    <tr>\n",
       "      <th>0</th>\n",
       "      <td>NN</td>\n",
       "      <td>0.222478</td>\n",
       "      <td>0.160691</td>\n",
       "      <td>0.230403</td>\n",
       "      <td>0.151829</td>\n",
       "      <td>0.618633</td>\n",
       "      <td>0.605634</td>\n",
       "      <td>0.941472</td>\n",
       "    </tr>\n",
       "  </tbody>\n",
       "</table>\n",
       "</div>"
      ],
      "text/plain": [
       "          model  accuracy  precision    recall   f1score  rocauc_ovr  \\\n",
       "0           gnb  0.244669   0.147495  0.246542  0.170315    0.623117   \n",
       "0         logit  0.240058   0.136410  0.243660  0.162189    0.608578   \n",
       "0           knn  0.167579   0.161514  0.166138  0.154306    0.534462   \n",
       "0  decisiontree  0.162392   0.161085  0.160086  0.157405    0.523344   \n",
       "0  randomforest  0.207205   0.184490  0.216859  0.190350    0.595132   \n",
       "0       xgboost  0.228818   0.197117  0.228674  0.200210    0.624200   \n",
       "0            NN  0.222478   0.160691  0.230403  0.151829    0.618633   \n",
       "\n",
       "   rocauc_ovo  specificity  \n",
       "0    0.617077     0.942453  \n",
       "0    0.585442     0.941679  \n",
       "0    0.524895     0.939635  \n",
       "0    0.516075     0.940613  \n",
       "0    0.586595     0.942602  \n",
       "0    0.616643     0.942652  \n",
       "0    0.605634     0.941472  "
      ]
     },
     "execution_count": 251,
     "metadata": {},
     "output_type": "execute_result"
    }
   ],
   "source": [
    "# Evaluation of models\n",
    "models_df = pd.concat([baseline_report(model, X_train, X_test, y_train, y_test, name) for (name, model) in models.items()])\n",
    "models_df.to_csv(\"data/output_csv/models_umap.csv\")\n",
    "models_df"
   ]
  },
  {
   "cell_type": "markdown",
   "metadata": {},
   "source": [
    "#### resampled"
   ]
  },
  {
   "cell_type": "code",
   "execution_count": 252,
   "metadata": {
    "ExecuteTime": {
     "end_time": "2020-05-25T20:39:39.739379Z",
     "start_time": "2020-05-25T20:39:39.710429Z"
    }
   },
   "outputs": [],
   "source": [
    "result_umap_types  = pd.read_csv(\"data/output_csv/result_umap_types.csv\")\n",
    "result_umap_types.drop([\"Unnamed: 0\"], axis=1, inplace=True)"
   ]
  },
  {
   "cell_type": "code",
   "execution_count": 253,
   "metadata": {
    "ExecuteTime": {
     "end_time": "2020-05-25T20:39:41.571282Z",
     "start_time": "2020-05-25T20:39:41.552334Z"
    }
   },
   "outputs": [
    {
     "data": {
      "text/html": [
       "<div>\n",
       "<style scoped>\n",
       "    .dataframe tbody tr th:only-of-type {\n",
       "        vertical-align: middle;\n",
       "    }\n",
       "\n",
       "    .dataframe tbody tr th {\n",
       "        vertical-align: top;\n",
       "    }\n",
       "\n",
       "    .dataframe thead th {\n",
       "        text-align: right;\n",
       "    }\n",
       "</style>\n",
       "<table border=\"1\" class=\"dataframe\">\n",
       "  <thead>\n",
       "    <tr style=\"text-align: right;\">\n",
       "      <th></th>\n",
       "      <th>type</th>\n",
       "      <th>words_per_comment</th>\n",
       "      <th>variance_of_word_counts</th>\n",
       "      <th>enfj</th>\n",
       "      <th>enfp</th>\n",
       "      <th>entj</th>\n",
       "      <th>entp</th>\n",
       "      <th>esfj</th>\n",
       "      <th>esfp</th>\n",
       "      <th>estj</th>\n",
       "      <th>...</th>\n",
       "      <th>infj</th>\n",
       "      <th>infp</th>\n",
       "      <th>intj</th>\n",
       "      <th>intp</th>\n",
       "      <th>isfj</th>\n",
       "      <th>isfp</th>\n",
       "      <th>istj</th>\n",
       "      <th>istp</th>\n",
       "      <th>0</th>\n",
       "      <th>1</th>\n",
       "    </tr>\n",
       "  </thead>\n",
       "  <tbody>\n",
       "    <tr>\n",
       "      <th>0</th>\n",
       "      <td>infj</td>\n",
       "      <td>11.12</td>\n",
       "      <td>135.2900</td>\n",
       "      <td>0</td>\n",
       "      <td>0</td>\n",
       "      <td>0</td>\n",
       "      <td>0</td>\n",
       "      <td>0</td>\n",
       "      <td>0</td>\n",
       "      <td>0</td>\n",
       "      <td>...</td>\n",
       "      <td>1</td>\n",
       "      <td>0</td>\n",
       "      <td>0</td>\n",
       "      <td>0</td>\n",
       "      <td>0</td>\n",
       "      <td>0</td>\n",
       "      <td>0</td>\n",
       "      <td>0</td>\n",
       "      <td>3.910143</td>\n",
       "      <td>7.477874</td>\n",
       "    </tr>\n",
       "    <tr>\n",
       "      <th>1</th>\n",
       "      <td>entp</td>\n",
       "      <td>23.40</td>\n",
       "      <td>187.4756</td>\n",
       "      <td>0</td>\n",
       "      <td>0</td>\n",
       "      <td>0</td>\n",
       "      <td>1</td>\n",
       "      <td>0</td>\n",
       "      <td>0</td>\n",
       "      <td>0</td>\n",
       "      <td>...</td>\n",
       "      <td>0</td>\n",
       "      <td>0</td>\n",
       "      <td>0</td>\n",
       "      <td>0</td>\n",
       "      <td>0</td>\n",
       "      <td>0</td>\n",
       "      <td>0</td>\n",
       "      <td>0</td>\n",
       "      <td>3.938040</td>\n",
       "      <td>5.939636</td>\n",
       "    </tr>\n",
       "    <tr>\n",
       "      <th>2</th>\n",
       "      <td>intp</td>\n",
       "      <td>16.72</td>\n",
       "      <td>180.6900</td>\n",
       "      <td>0</td>\n",
       "      <td>0</td>\n",
       "      <td>0</td>\n",
       "      <td>0</td>\n",
       "      <td>0</td>\n",
       "      <td>0</td>\n",
       "      <td>0</td>\n",
       "      <td>...</td>\n",
       "      <td>0</td>\n",
       "      <td>0</td>\n",
       "      <td>0</td>\n",
       "      <td>1</td>\n",
       "      <td>0</td>\n",
       "      <td>0</td>\n",
       "      <td>0</td>\n",
       "      <td>0</td>\n",
       "      <td>3.740153</td>\n",
       "      <td>5.486389</td>\n",
       "    </tr>\n",
       "    <tr>\n",
       "      <th>3</th>\n",
       "      <td>intj</td>\n",
       "      <td>21.28</td>\n",
       "      <td>181.8324</td>\n",
       "      <td>0</td>\n",
       "      <td>0</td>\n",
       "      <td>0</td>\n",
       "      <td>0</td>\n",
       "      <td>0</td>\n",
       "      <td>0</td>\n",
       "      <td>0</td>\n",
       "      <td>...</td>\n",
       "      <td>0</td>\n",
       "      <td>0</td>\n",
       "      <td>1</td>\n",
       "      <td>0</td>\n",
       "      <td>0</td>\n",
       "      <td>0</td>\n",
       "      <td>0</td>\n",
       "      <td>0</td>\n",
       "      <td>5.415134</td>\n",
       "      <td>7.452929</td>\n",
       "    </tr>\n",
       "    <tr>\n",
       "      <th>4</th>\n",
       "      <td>entj</td>\n",
       "      <td>19.34</td>\n",
       "      <td>196.4576</td>\n",
       "      <td>0</td>\n",
       "      <td>0</td>\n",
       "      <td>1</td>\n",
       "      <td>0</td>\n",
       "      <td>0</td>\n",
       "      <td>0</td>\n",
       "      <td>0</td>\n",
       "      <td>...</td>\n",
       "      <td>0</td>\n",
       "      <td>0</td>\n",
       "      <td>0</td>\n",
       "      <td>0</td>\n",
       "      <td>0</td>\n",
       "      <td>0</td>\n",
       "      <td>0</td>\n",
       "      <td>0</td>\n",
       "      <td>2.083198</td>\n",
       "      <td>7.512875</td>\n",
       "    </tr>\n",
       "  </tbody>\n",
       "</table>\n",
       "<p>5 rows × 21 columns</p>\n",
       "</div>"
      ],
      "text/plain": [
       "   type  words_per_comment  variance_of_word_counts  enfj  enfp  entj  entp  \\\n",
       "0  infj              11.12                 135.2900     0     0     0     0   \n",
       "1  entp              23.40                 187.4756     0     0     0     1   \n",
       "2  intp              16.72                 180.6900     0     0     0     0   \n",
       "3  intj              21.28                 181.8324     0     0     0     0   \n",
       "4  entj              19.34                 196.4576     0     0     1     0   \n",
       "\n",
       "   esfj  esfp  estj  ...  infj  infp  intj  intp  isfj  isfp  istj  istp  \\\n",
       "0     0     0     0  ...     1     0     0     0     0     0     0     0   \n",
       "1     0     0     0  ...     0     0     0     0     0     0     0     0   \n",
       "2     0     0     0  ...     0     0     0     1     0     0     0     0   \n",
       "3     0     0     0  ...     0     0     1     0     0     0     0     0   \n",
       "4     0     0     0  ...     0     0     0     0     0     0     0     0   \n",
       "\n",
       "          0         1  \n",
       "0  3.910143  7.477874  \n",
       "1  3.938040  5.939636  \n",
       "2  3.740153  5.486389  \n",
       "3  5.415134  7.452929  \n",
       "4  2.083198  7.512875  \n",
       "\n",
       "[5 rows x 21 columns]"
      ]
     },
     "execution_count": 253,
     "metadata": {},
     "output_type": "execute_result"
    }
   ],
   "source": [
    "result_umap_types.head()"
   ]
  },
  {
   "cell_type": "code",
   "execution_count": 254,
   "metadata": {
    "ExecuteTime": {
     "end_time": "2020-05-25T20:39:42.241958Z",
     "start_time": "2020-05-25T20:39:42.234940Z"
    }
   },
   "outputs": [
    {
     "data": {
      "text/plain": [
       "(8675, 21)"
      ]
     },
     "execution_count": 254,
     "metadata": {},
     "output_type": "execute_result"
    }
   ],
   "source": [
    "result_umap_types.shape"
   ]
  },
  {
   "cell_type": "code",
   "execution_count": 255,
   "metadata": {
    "ExecuteTime": {
     "end_time": "2020-05-25T20:39:42.853034Z",
     "start_time": "2020-05-25T20:39:42.822116Z"
    }
   },
   "outputs": [],
   "source": [
    "def sampling_k_elements(group, k=39):\n",
    "    if len(group) < k:\n",
    "        return group\n",
    "    return group.sample(k)\n",
    "\n",
    "balanced_umap = result_umap_types.groupby(\"type\").apply(sampling_k_elements).reset_index(drop=True)"
   ]
  },
  {
   "cell_type": "code",
   "execution_count": 256,
   "metadata": {
    "ExecuteTime": {
     "end_time": "2020-05-25T20:39:43.444530Z",
     "start_time": "2020-05-25T20:39:43.437522Z"
    }
   },
   "outputs": [],
   "source": [
    "X = balanced_umap.drop([\"type\",\"enfj\", \"enfp\", \"entj\", \"entp\", \"esfj\", \"esfp\", \"estj\", \"estp\",\"infj\", \"infp\", \"intj\",\n",
    "                               \"intp\", \"isfj\", \"isfp\", \"istj\", \"istp\"], axis=1).values\n",
    "y = balanced_umap[\"type\"].values"
   ]
  },
  {
   "cell_type": "code",
   "execution_count": 257,
   "metadata": {
    "ExecuteTime": {
     "end_time": "2020-05-25T20:39:44.042902Z",
     "start_time": "2020-05-25T20:39:44.033927Z"
    },
    "scrolled": true
   },
   "outputs": [
    {
     "name": "stdout",
     "output_type": "stream",
     "text": [
      "(499, 4) (499,) (125, 4) (125,)\n"
     ]
    }
   ],
   "source": [
    "X_train, X_test, y_train, y_test = train_test_split(X, y, random_state=42, test_size=0.2)\n",
    "print ((X_train.shape),(y_train.shape),(X_test.shape),(y_test.shape))"
   ]
  },
  {
   "cell_type": "code",
   "execution_count": 258,
   "metadata": {
    "ExecuteTime": {
     "end_time": "2020-05-25T20:39:44.672210Z",
     "start_time": "2020-05-25T20:39:44.662246Z"
    }
   },
   "outputs": [],
   "source": [
    "def baseline_report(model, X_train, X_test, y_train, y_test, name):\n",
    "    strat_k_fold = StratifiedKFold(n_splits=5, shuffle=True)\n",
    "    model.fit(X_train, y_train)\n",
    "    accuracy     = np.mean(cross_val_score(model, X_train, y_train, cv=strat_k_fold, scoring='accuracy'))\n",
    "    precision    = np.mean(cross_val_score(model, X_train, y_train, cv=strat_k_fold, scoring='precision_weighted'))\n",
    "    recall       = np.mean(cross_val_score(model, X_train, y_train, cv=strat_k_fold, scoring='recall_weighted'))\n",
    "    f1score      = np.mean(cross_val_score(model, X_train, y_train, cv=strat_k_fold, scoring='f1_weighted'))\n",
    "    rocauc_ovr   = np.mean(cross_val_score(model, X_train, y_train, cv=strat_k_fold, scoring='roc_auc_ovr_weighted'))\n",
    "    rocauc_ovo   = np.mean(cross_val_score(model, X_train, y_train, cv=strat_k_fold, scoring='roc_auc_ovo_weighted'))\n",
    "    y_pred = model.predict(X_test)\n",
    "    mcm = multilabel_confusion_matrix(y_test, y_pred)\n",
    "    tn = mcm[:, 0, 0]\n",
    "    tp = mcm[:, 1, 1]\n",
    "    fn = mcm[:, 1, 0]\n",
    "    fp = mcm[:, 0, 1]\n",
    "    specificities = tn / (tn+fp)\n",
    "    specificity = (specificities.sum())/ 16\n",
    "\n",
    "    df_model = pd.DataFrame({'model'        : [name],\n",
    "                             'accuracy'     : [accuracy],\n",
    "                             'precision'    : [precision],\n",
    "                             'recall'       : [recall],\n",
    "                             'f1score'      : [f1score],\n",
    "                             'rocauc_ovr'   : [rocauc_ovr],\n",
    "                             'rocauc_ovo'   : [rocauc_ovo],\n",
    "                             'specificity': [specificity]\n",
    "                            })   \n",
    "    return df_model"
   ]
  },
  {
   "cell_type": "code",
   "execution_count": 259,
   "metadata": {
    "ExecuteTime": {
     "end_time": "2020-05-25T20:39:45.577397Z",
     "start_time": "2020-05-25T20:39:45.562436Z"
    }
   },
   "outputs": [],
   "source": [
    "models = {'gnb': GaussianNB(),\n",
    "          'logit': LogisticRegression(),\n",
    "          'knn': KNeighborsClassifier(),\n",
    "          'decisiontree': DecisionTreeClassifier(),\n",
    "          'randomforest': RandomForestClassifier(),\n",
    "          'xgboost': GradientBoostingClassifier(),\n",
    "          'MLPC': MLPClassifier()\n",
    "         }"
   ]
  },
  {
   "cell_type": "code",
   "execution_count": 260,
   "metadata": {
    "ExecuteTime": {
     "end_time": "2020-05-25T20:41:06.139365Z",
     "start_time": "2020-05-25T20:39:46.504529Z"
    },
    "scrolled": false
   },
   "outputs": [
    {
     "data": {
      "text/html": [
       "<div>\n",
       "<style scoped>\n",
       "    .dataframe tbody tr th:only-of-type {\n",
       "        vertical-align: middle;\n",
       "    }\n",
       "\n",
       "    .dataframe tbody tr th {\n",
       "        vertical-align: top;\n",
       "    }\n",
       "\n",
       "    .dataframe thead th {\n",
       "        text-align: right;\n",
       "    }\n",
       "</style>\n",
       "<table border=\"1\" class=\"dataframe\">\n",
       "  <thead>\n",
       "    <tr style=\"text-align: right;\">\n",
       "      <th></th>\n",
       "      <th>model</th>\n",
       "      <th>accuracy</th>\n",
       "      <th>precision</th>\n",
       "      <th>recall</th>\n",
       "      <th>f1score</th>\n",
       "      <th>rocauc_ovr</th>\n",
       "      <th>rocauc_ovo</th>\n",
       "      <th>specificity</th>\n",
       "    </tr>\n",
       "  </thead>\n",
       "  <tbody>\n",
       "    <tr>\n",
       "      <th>0</th>\n",
       "      <td>gnb</td>\n",
       "      <td>0.118182</td>\n",
       "      <td>0.091955</td>\n",
       "      <td>0.116323</td>\n",
       "      <td>0.100632</td>\n",
       "      <td>0.570687</td>\n",
       "      <td>0.580601</td>\n",
       "      <td>0.939640</td>\n",
       "    </tr>\n",
       "    <tr>\n",
       "      <th>0</th>\n",
       "      <td>logit</td>\n",
       "      <td>0.136263</td>\n",
       "      <td>0.060058</td>\n",
       "      <td>0.120242</td>\n",
       "      <td>0.084161</td>\n",
       "      <td>0.557188</td>\n",
       "      <td>0.558777</td>\n",
       "      <td>0.939960</td>\n",
       "    </tr>\n",
       "    <tr>\n",
       "      <th>0</th>\n",
       "      <td>knn</td>\n",
       "      <td>0.058101</td>\n",
       "      <td>0.063381</td>\n",
       "      <td>0.064061</td>\n",
       "      <td>0.057647</td>\n",
       "      <td>0.493351</td>\n",
       "      <td>0.500408</td>\n",
       "      <td>0.938729</td>\n",
       "    </tr>\n",
       "    <tr>\n",
       "      <th>0</th>\n",
       "      <td>decisiontree</td>\n",
       "      <td>0.094121</td>\n",
       "      <td>0.101026</td>\n",
       "      <td>0.104202</td>\n",
       "      <td>0.085648</td>\n",
       "      <td>0.518840</td>\n",
       "      <td>0.516969</td>\n",
       "      <td>0.938369</td>\n",
       "    </tr>\n",
       "    <tr>\n",
       "      <th>0</th>\n",
       "      <td>randomforest</td>\n",
       "      <td>0.102263</td>\n",
       "      <td>0.109782</td>\n",
       "      <td>0.108162</td>\n",
       "      <td>0.105846</td>\n",
       "      <td>0.567952</td>\n",
       "      <td>0.564668</td>\n",
       "      <td>0.939001</td>\n",
       "    </tr>\n",
       "    <tr>\n",
       "      <th>0</th>\n",
       "      <td>xgboost</td>\n",
       "      <td>0.094121</td>\n",
       "      <td>0.097848</td>\n",
       "      <td>0.108182</td>\n",
       "      <td>0.094431</td>\n",
       "      <td>0.551444</td>\n",
       "      <td>0.534935</td>\n",
       "      <td>0.937814</td>\n",
       "    </tr>\n",
       "    <tr>\n",
       "      <th>0</th>\n",
       "      <td>NN</td>\n",
       "      <td>0.100202</td>\n",
       "      <td>0.076031</td>\n",
       "      <td>0.104182</td>\n",
       "      <td>0.058876</td>\n",
       "      <td>0.535706</td>\n",
       "      <td>0.535530</td>\n",
       "      <td>0.939457</td>\n",
       "    </tr>\n",
       "  </tbody>\n",
       "</table>\n",
       "</div>"
      ],
      "text/plain": [
       "          model  accuracy  precision    recall   f1score  rocauc_ovr  \\\n",
       "0           gnb  0.118182   0.091955  0.116323  0.100632    0.570687   \n",
       "0         logit  0.136263   0.060058  0.120242  0.084161    0.557188   \n",
       "0           knn  0.058101   0.063381  0.064061  0.057647    0.493351   \n",
       "0  decisiontree  0.094121   0.101026  0.104202  0.085648    0.518840   \n",
       "0  randomforest  0.102263   0.109782  0.108162  0.105846    0.567952   \n",
       "0       xgboost  0.094121   0.097848  0.108182  0.094431    0.551444   \n",
       "0            NN  0.100202   0.076031  0.104182  0.058876    0.535706   \n",
       "\n",
       "   rocauc_ovo  specificity  \n",
       "0    0.580601     0.939640  \n",
       "0    0.558777     0.939960  \n",
       "0    0.500408     0.938729  \n",
       "0    0.516969     0.938369  \n",
       "0    0.564668     0.939001  \n",
       "0    0.534935     0.937814  \n",
       "0    0.535530     0.939457  "
      ]
     },
     "execution_count": 260,
     "metadata": {},
     "output_type": "execute_result"
    }
   ],
   "source": [
    "# Evaluation of models\n",
    "models_df = pd.concat([baseline_report(model, X_train, X_test, y_train, y_test, name) for (name, model) in models.items()])\n",
    "models_df.to_csv(\"data/output_csv/models_umap_resampled.csv\")\n",
    "models_df"
   ]
  },
  {
   "cell_type": "markdown",
   "metadata": {
    "colab_type": "text",
    "id": "u4taraiHeec2"
   },
   "source": [
    "### UMAP on TSVD"
   ]
  },
  {
   "cell_type": "markdown",
   "metadata": {},
   "source": [
    "#### original sample"
   ]
  },
  {
   "cell_type": "code",
   "execution_count": 261,
   "metadata": {
    "ExecuteTime": {
     "end_time": "2020-05-25T20:24:54.702924Z",
     "start_time": "2020-05-25T20:24:54.675998Z"
    }
   },
   "outputs": [],
   "source": [
    "result_umap_svd_types  = pd.read_csv(\"data/output_csv/result_umap_svd_types.csv\")\n",
    "result_umap_svd_types.drop([\"Unnamed: 0\"], axis=1, inplace=True)"
   ]
  },
  {
   "cell_type": "code",
   "execution_count": 262,
   "metadata": {
    "ExecuteTime": {
     "end_time": "2020-05-25T20:24:55.522318Z",
     "start_time": "2020-05-25T20:24:55.503342Z"
    }
   },
   "outputs": [
    {
     "data": {
      "text/html": [
       "<div>\n",
       "<style scoped>\n",
       "    .dataframe tbody tr th:only-of-type {\n",
       "        vertical-align: middle;\n",
       "    }\n",
       "\n",
       "    .dataframe tbody tr th {\n",
       "        vertical-align: top;\n",
       "    }\n",
       "\n",
       "    .dataframe thead th {\n",
       "        text-align: right;\n",
       "    }\n",
       "</style>\n",
       "<table border=\"1\" class=\"dataframe\">\n",
       "  <thead>\n",
       "    <tr style=\"text-align: right;\">\n",
       "      <th></th>\n",
       "      <th>type</th>\n",
       "      <th>words_per_comment</th>\n",
       "      <th>variance_of_word_counts</th>\n",
       "      <th>enfj</th>\n",
       "      <th>enfp</th>\n",
       "      <th>entj</th>\n",
       "      <th>entp</th>\n",
       "      <th>esfj</th>\n",
       "      <th>esfp</th>\n",
       "      <th>estj</th>\n",
       "      <th>...</th>\n",
       "      <th>infj</th>\n",
       "      <th>infp</th>\n",
       "      <th>intj</th>\n",
       "      <th>intp</th>\n",
       "      <th>isfj</th>\n",
       "      <th>isfp</th>\n",
       "      <th>istj</th>\n",
       "      <th>istp</th>\n",
       "      <th>0</th>\n",
       "      <th>1</th>\n",
       "    </tr>\n",
       "  </thead>\n",
       "  <tbody>\n",
       "    <tr>\n",
       "      <th>0</th>\n",
       "      <td>infj</td>\n",
       "      <td>11.12</td>\n",
       "      <td>135.2900</td>\n",
       "      <td>0</td>\n",
       "      <td>0</td>\n",
       "      <td>0</td>\n",
       "      <td>0</td>\n",
       "      <td>0</td>\n",
       "      <td>0</td>\n",
       "      <td>0</td>\n",
       "      <td>...</td>\n",
       "      <td>1</td>\n",
       "      <td>0</td>\n",
       "      <td>0</td>\n",
       "      <td>0</td>\n",
       "      <td>0</td>\n",
       "      <td>0</td>\n",
       "      <td>0</td>\n",
       "      <td>0</td>\n",
       "      <td>12.761392</td>\n",
       "      <td>3.539108</td>\n",
       "    </tr>\n",
       "    <tr>\n",
       "      <th>1</th>\n",
       "      <td>entp</td>\n",
       "      <td>23.40</td>\n",
       "      <td>187.4756</td>\n",
       "      <td>0</td>\n",
       "      <td>0</td>\n",
       "      <td>0</td>\n",
       "      <td>1</td>\n",
       "      <td>0</td>\n",
       "      <td>0</td>\n",
       "      <td>0</td>\n",
       "      <td>...</td>\n",
       "      <td>0</td>\n",
       "      <td>0</td>\n",
       "      <td>0</td>\n",
       "      <td>0</td>\n",
       "      <td>0</td>\n",
       "      <td>0</td>\n",
       "      <td>0</td>\n",
       "      <td>0</td>\n",
       "      <td>9.733282</td>\n",
       "      <td>0.578183</td>\n",
       "    </tr>\n",
       "    <tr>\n",
       "      <th>2</th>\n",
       "      <td>intp</td>\n",
       "      <td>16.72</td>\n",
       "      <td>180.6900</td>\n",
       "      <td>0</td>\n",
       "      <td>0</td>\n",
       "      <td>0</td>\n",
       "      <td>0</td>\n",
       "      <td>0</td>\n",
       "      <td>0</td>\n",
       "      <td>0</td>\n",
       "      <td>...</td>\n",
       "      <td>0</td>\n",
       "      <td>0</td>\n",
       "      <td>0</td>\n",
       "      <td>1</td>\n",
       "      <td>0</td>\n",
       "      <td>0</td>\n",
       "      <td>0</td>\n",
       "      <td>0</td>\n",
       "      <td>12.002575</td>\n",
       "      <td>4.193234</td>\n",
       "    </tr>\n",
       "    <tr>\n",
       "      <th>3</th>\n",
       "      <td>intj</td>\n",
       "      <td>21.28</td>\n",
       "      <td>181.8324</td>\n",
       "      <td>0</td>\n",
       "      <td>0</td>\n",
       "      <td>0</td>\n",
       "      <td>0</td>\n",
       "      <td>0</td>\n",
       "      <td>0</td>\n",
       "      <td>0</td>\n",
       "      <td>...</td>\n",
       "      <td>0</td>\n",
       "      <td>0</td>\n",
       "      <td>1</td>\n",
       "      <td>0</td>\n",
       "      <td>0</td>\n",
       "      <td>0</td>\n",
       "      <td>0</td>\n",
       "      <td>0</td>\n",
       "      <td>9.521256</td>\n",
       "      <td>1.823716</td>\n",
       "    </tr>\n",
       "    <tr>\n",
       "      <th>4</th>\n",
       "      <td>entj</td>\n",
       "      <td>19.34</td>\n",
       "      <td>196.4576</td>\n",
       "      <td>0</td>\n",
       "      <td>0</td>\n",
       "      <td>1</td>\n",
       "      <td>0</td>\n",
       "      <td>0</td>\n",
       "      <td>0</td>\n",
       "      <td>0</td>\n",
       "      <td>...</td>\n",
       "      <td>0</td>\n",
       "      <td>0</td>\n",
       "      <td>0</td>\n",
       "      <td>0</td>\n",
       "      <td>0</td>\n",
       "      <td>0</td>\n",
       "      <td>0</td>\n",
       "      <td>0</td>\n",
       "      <td>11.170195</td>\n",
       "      <td>0.726455</td>\n",
       "    </tr>\n",
       "  </tbody>\n",
       "</table>\n",
       "<p>5 rows × 21 columns</p>\n",
       "</div>"
      ],
      "text/plain": [
       "   type  words_per_comment  variance_of_word_counts  enfj  enfp  entj  entp  \\\n",
       "0  infj              11.12                 135.2900     0     0     0     0   \n",
       "1  entp              23.40                 187.4756     0     0     0     1   \n",
       "2  intp              16.72                 180.6900     0     0     0     0   \n",
       "3  intj              21.28                 181.8324     0     0     0     0   \n",
       "4  entj              19.34                 196.4576     0     0     1     0   \n",
       "\n",
       "   esfj  esfp  estj  ...  infj  infp  intj  intp  isfj  isfp  istj  istp  \\\n",
       "0     0     0     0  ...     1     0     0     0     0     0     0     0   \n",
       "1     0     0     0  ...     0     0     0     0     0     0     0     0   \n",
       "2     0     0     0  ...     0     0     0     1     0     0     0     0   \n",
       "3     0     0     0  ...     0     0     1     0     0     0     0     0   \n",
       "4     0     0     0  ...     0     0     0     0     0     0     0     0   \n",
       "\n",
       "           0         1  \n",
       "0  12.761392  3.539108  \n",
       "1   9.733282  0.578183  \n",
       "2  12.002575  4.193234  \n",
       "3   9.521256  1.823716  \n",
       "4  11.170195  0.726455  \n",
       "\n",
       "[5 rows x 21 columns]"
      ]
     },
     "execution_count": 262,
     "metadata": {},
     "output_type": "execute_result"
    }
   ],
   "source": [
    "result_umap_svd_types.head()"
   ]
  },
  {
   "cell_type": "code",
   "execution_count": 263,
   "metadata": {
    "ExecuteTime": {
     "end_time": "2020-05-25T20:24:56.303333Z",
     "start_time": "2020-05-25T20:24:56.271445Z"
    }
   },
   "outputs": [
    {
     "data": {
      "text/plain": [
       "(8675, 21)"
      ]
     },
     "execution_count": 263,
     "metadata": {},
     "output_type": "execute_result"
    }
   ],
   "source": [
    "result_umap_svd_types.shape"
   ]
  },
  {
   "cell_type": "code",
   "execution_count": 264,
   "metadata": {
    "ExecuteTime": {
     "end_time": "2020-05-25T20:24:57.063402Z",
     "start_time": "2020-05-25T20:24:57.056447Z"
    }
   },
   "outputs": [],
   "source": [
    "X = result_umap_svd_types.drop([\"type\",\"enfj\", \"enfp\", \"entj\", \"entp\", \"esfj\", \"esfp\", \"estj\", \"estp\",\"infj\", \"infp\", \"intj\",\n",
    "                               \"intp\", \"isfj\", \"isfp\", \"istj\", \"istp\"], axis=1).values\n",
    "y = result_umap_svd_types[\"type\"].values"
   ]
  },
  {
   "cell_type": "code",
   "execution_count": 265,
   "metadata": {
    "ExecuteTime": {
     "end_time": "2020-05-25T20:24:58.130465Z",
     "start_time": "2020-05-25T20:24:58.123479Z"
    },
    "scrolled": true
   },
   "outputs": [
    {
     "name": "stdout",
     "output_type": "stream",
     "text": [
      "(6940, 4) (6940,) (1735, 4) (1735,)\n"
     ]
    }
   ],
   "source": [
    "X_train, X_test, y_train, y_test = train_test_split(X, y, random_state=42, test_size=0.2)\n",
    "print ((X_train.shape),(y_train.shape),(X_test.shape),(y_test.shape))"
   ]
  },
  {
   "cell_type": "code",
   "execution_count": 266,
   "metadata": {
    "ExecuteTime": {
     "end_time": "2020-05-25T20:24:59.721880Z",
     "start_time": "2020-05-25T20:24:59.711931Z"
    }
   },
   "outputs": [],
   "source": [
    "def baseline_report(model, X_train, X_test, y_train, y_test, name):\n",
    "    strat_k_fold = StratifiedKFold(n_splits=5, shuffle=True)\n",
    "    model.fit(X_train, y_train)\n",
    "    accuracy     = np.mean(cross_val_score(model, X_train, y_train, cv=strat_k_fold, scoring='accuracy'))\n",
    "    precision    = np.mean(cross_val_score(model, X_train, y_train, cv=strat_k_fold, scoring='precision_weighted'))\n",
    "    recall       = np.mean(cross_val_score(model, X_train, y_train, cv=strat_k_fold, scoring='recall_weighted'))\n",
    "    f1score      = np.mean(cross_val_score(model, X_train, y_train, cv=strat_k_fold, scoring='f1_weighted'))\n",
    "    rocauc_ovr   = np.mean(cross_val_score(model, X_train, y_train, cv=strat_k_fold, scoring='roc_auc_ovr_weighted'))\n",
    "    rocauc_ovo   = np.mean(cross_val_score(model, X_train, y_train, cv=strat_k_fold, scoring='roc_auc_ovo_weighted'))\n",
    "    y_pred = model.predict(X_test)\n",
    "    mcm = multilabel_confusion_matrix(y_test, y_pred)\n",
    "    tn = mcm[:, 0, 0]\n",
    "    tp = mcm[:, 1, 1]\n",
    "    fn = mcm[:, 1, 0]\n",
    "    fp = mcm[:, 0, 1]\n",
    "    specificities = tn / (tn+fp)\n",
    "    specificity = (specificities.sum())/ 16\n",
    "\n",
    "    df_model = pd.DataFrame({'model'        : [name],\n",
    "                             'accuracy'     : [accuracy],\n",
    "                             'precision'    : [precision],\n",
    "                             'recall'       : [recall],\n",
    "                             'f1score'      : [f1score],\n",
    "                             'rocauc_ovr'   : [rocauc_ovr],\n",
    "                             'rocauc_ovo'   : [rocauc_ovo],\n",
    "                             'specificity': [specificity]\n",
    "                            })   \n",
    "    return df_model"
   ]
  },
  {
   "cell_type": "code",
   "execution_count": 267,
   "metadata": {
    "ExecuteTime": {
     "end_time": "2020-05-25T20:25:00.885408Z",
     "start_time": "2020-05-25T20:25:00.879424Z"
    }
   },
   "outputs": [],
   "source": [
    "models = {'gnb': GaussianNB(),\n",
    "          'logit': LogisticRegression(),\n",
    "          'knn': KNeighborsClassifier(),\n",
    "          'decisiontree': DecisionTreeClassifier(),\n",
    "          'randomforest': RandomForestClassifier(),\n",
    "          'xgboost': GradientBoostingClassifier(),\n",
    "          'MLPC': MLPClassifier()\n",
    "         }"
   ]
  },
  {
   "cell_type": "code",
   "execution_count": 268,
   "metadata": {
    "ExecuteTime": {
     "end_time": "2020-05-25T20:34:10.966508Z",
     "start_time": "2020-05-25T20:25:01.711163Z"
    },
    "scrolled": false
   },
   "outputs": [
    {
     "data": {
      "text/html": [
       "<div>\n",
       "<style scoped>\n",
       "    .dataframe tbody tr th:only-of-type {\n",
       "        vertical-align: middle;\n",
       "    }\n",
       "\n",
       "    .dataframe tbody tr th {\n",
       "        vertical-align: top;\n",
       "    }\n",
       "\n",
       "    .dataframe thead th {\n",
       "        text-align: right;\n",
       "    }\n",
       "</style>\n",
       "<table border=\"1\" class=\"dataframe\">\n",
       "  <thead>\n",
       "    <tr style=\"text-align: right;\">\n",
       "      <th></th>\n",
       "      <th>model</th>\n",
       "      <th>accuracy</th>\n",
       "      <th>precision</th>\n",
       "      <th>recall</th>\n",
       "      <th>f1score</th>\n",
       "      <th>rocauc_ovr</th>\n",
       "      <th>rocauc_ovo</th>\n",
       "      <th>specificity</th>\n",
       "    </tr>\n",
       "  </thead>\n",
       "  <tbody>\n",
       "    <tr>\n",
       "      <th>0</th>\n",
       "      <td>gnb</td>\n",
       "      <td>0.341787</td>\n",
       "      <td>0.267891</td>\n",
       "      <td>0.339625</td>\n",
       "      <td>0.286579</td>\n",
       "      <td>0.700431</td>\n",
       "      <td>0.689555</td>\n",
       "      <td>0.950001</td>\n",
       "    </tr>\n",
       "    <tr>\n",
       "      <th>0</th>\n",
       "      <td>logit</td>\n",
       "      <td>0.296542</td>\n",
       "      <td>0.213108</td>\n",
       "      <td>0.296398</td>\n",
       "      <td>0.228060</td>\n",
       "      <td>0.655654</td>\n",
       "      <td>0.639411</td>\n",
       "      <td>0.946228</td>\n",
       "    </tr>\n",
       "    <tr>\n",
       "      <th>0</th>\n",
       "      <td>knn</td>\n",
       "      <td>0.235159</td>\n",
       "      <td>0.233746</td>\n",
       "      <td>0.241643</td>\n",
       "      <td>0.227960</td>\n",
       "      <td>0.604789</td>\n",
       "      <td>0.589243</td>\n",
       "      <td>0.945984</td>\n",
       "    </tr>\n",
       "    <tr>\n",
       "      <th>0</th>\n",
       "      <td>decisiontree</td>\n",
       "      <td>0.321902</td>\n",
       "      <td>0.318530</td>\n",
       "      <td>0.309078</td>\n",
       "      <td>0.315941</td>\n",
       "      <td>0.607882</td>\n",
       "      <td>0.596917</td>\n",
       "      <td>0.952735</td>\n",
       "    </tr>\n",
       "    <tr>\n",
       "      <th>0</th>\n",
       "      <td>randomforest</td>\n",
       "      <td>0.423775</td>\n",
       "      <td>0.422431</td>\n",
       "      <td>0.420893</td>\n",
       "      <td>0.412365</td>\n",
       "      <td>0.749102</td>\n",
       "      <td>0.725910</td>\n",
       "      <td>0.957512</td>\n",
       "    </tr>\n",
       "    <tr>\n",
       "      <th>0</th>\n",
       "      <td>xgboost</td>\n",
       "      <td>0.414265</td>\n",
       "      <td>0.424430</td>\n",
       "      <td>0.410519</td>\n",
       "      <td>0.404720</td>\n",
       "      <td>0.753866</td>\n",
       "      <td>0.732565</td>\n",
       "      <td>0.957784</td>\n",
       "    </tr>\n",
       "    <tr>\n",
       "      <th>0</th>\n",
       "      <td>NN</td>\n",
       "      <td>0.283573</td>\n",
       "      <td>0.230036</td>\n",
       "      <td>0.291066</td>\n",
       "      <td>0.235785</td>\n",
       "      <td>0.682388</td>\n",
       "      <td>0.676132</td>\n",
       "      <td>0.950176</td>\n",
       "    </tr>\n",
       "  </tbody>\n",
       "</table>\n",
       "</div>"
      ],
      "text/plain": [
       "          model  accuracy  precision    recall   f1score  rocauc_ovr  \\\n",
       "0           gnb  0.341787   0.267891  0.339625  0.286579    0.700431   \n",
       "0         logit  0.296542   0.213108  0.296398  0.228060    0.655654   \n",
       "0           knn  0.235159   0.233746  0.241643  0.227960    0.604789   \n",
       "0  decisiontree  0.321902   0.318530  0.309078  0.315941    0.607882   \n",
       "0  randomforest  0.423775   0.422431  0.420893  0.412365    0.749102   \n",
       "0       xgboost  0.414265   0.424430  0.410519  0.404720    0.753866   \n",
       "0            NN  0.283573   0.230036  0.291066  0.235785    0.682388   \n",
       "\n",
       "   rocauc_ovo  specificity  \n",
       "0    0.689555     0.950001  \n",
       "0    0.639411     0.946228  \n",
       "0    0.589243     0.945984  \n",
       "0    0.596917     0.952735  \n",
       "0    0.725910     0.957512  \n",
       "0    0.732565     0.957784  \n",
       "0    0.676132     0.950176  "
      ]
     },
     "execution_count": 268,
     "metadata": {},
     "output_type": "execute_result"
    }
   ],
   "source": [
    "# Evaluation of models\n",
    "models_df = pd.concat([baseline_report(model, X_train, X_test, y_train, y_test, name) for (name, model) in models.items()])\n",
    "models_df.to_csv(\"data/output_csv/models_umap_svd.csv\")\n",
    "models_df"
   ]
  },
  {
   "cell_type": "markdown",
   "metadata": {},
   "source": [
    "#### resampled"
   ]
  },
  {
   "cell_type": "code",
   "execution_count": 269,
   "metadata": {
    "ExecuteTime": {
     "end_time": "2020-05-25T20:39:39.739379Z",
     "start_time": "2020-05-25T20:39:39.710429Z"
    }
   },
   "outputs": [],
   "source": [
    "result_umap_svd_types  = pd.read_csv(\"data/output_csv/result_umap_svd_types.csv\")\n",
    "result_umap_svd_types.drop([\"Unnamed: 0\"], axis=1, inplace=True)"
   ]
  },
  {
   "cell_type": "code",
   "execution_count": 270,
   "metadata": {
    "ExecuteTime": {
     "end_time": "2020-05-25T20:39:41.571282Z",
     "start_time": "2020-05-25T20:39:41.552334Z"
    }
   },
   "outputs": [
    {
     "data": {
      "text/html": [
       "<div>\n",
       "<style scoped>\n",
       "    .dataframe tbody tr th:only-of-type {\n",
       "        vertical-align: middle;\n",
       "    }\n",
       "\n",
       "    .dataframe tbody tr th {\n",
       "        vertical-align: top;\n",
       "    }\n",
       "\n",
       "    .dataframe thead th {\n",
       "        text-align: right;\n",
       "    }\n",
       "</style>\n",
       "<table border=\"1\" class=\"dataframe\">\n",
       "  <thead>\n",
       "    <tr style=\"text-align: right;\">\n",
       "      <th></th>\n",
       "      <th>type</th>\n",
       "      <th>words_per_comment</th>\n",
       "      <th>variance_of_word_counts</th>\n",
       "      <th>enfj</th>\n",
       "      <th>enfp</th>\n",
       "      <th>entj</th>\n",
       "      <th>entp</th>\n",
       "      <th>esfj</th>\n",
       "      <th>esfp</th>\n",
       "      <th>estj</th>\n",
       "      <th>...</th>\n",
       "      <th>infj</th>\n",
       "      <th>infp</th>\n",
       "      <th>intj</th>\n",
       "      <th>intp</th>\n",
       "      <th>isfj</th>\n",
       "      <th>isfp</th>\n",
       "      <th>istj</th>\n",
       "      <th>istp</th>\n",
       "      <th>0</th>\n",
       "      <th>1</th>\n",
       "    </tr>\n",
       "  </thead>\n",
       "  <tbody>\n",
       "    <tr>\n",
       "      <th>0</th>\n",
       "      <td>infj</td>\n",
       "      <td>11.12</td>\n",
       "      <td>135.2900</td>\n",
       "      <td>0</td>\n",
       "      <td>0</td>\n",
       "      <td>0</td>\n",
       "      <td>0</td>\n",
       "      <td>0</td>\n",
       "      <td>0</td>\n",
       "      <td>0</td>\n",
       "      <td>...</td>\n",
       "      <td>1</td>\n",
       "      <td>0</td>\n",
       "      <td>0</td>\n",
       "      <td>0</td>\n",
       "      <td>0</td>\n",
       "      <td>0</td>\n",
       "      <td>0</td>\n",
       "      <td>0</td>\n",
       "      <td>12.761392</td>\n",
       "      <td>3.539108</td>\n",
       "    </tr>\n",
       "    <tr>\n",
       "      <th>1</th>\n",
       "      <td>entp</td>\n",
       "      <td>23.40</td>\n",
       "      <td>187.4756</td>\n",
       "      <td>0</td>\n",
       "      <td>0</td>\n",
       "      <td>0</td>\n",
       "      <td>1</td>\n",
       "      <td>0</td>\n",
       "      <td>0</td>\n",
       "      <td>0</td>\n",
       "      <td>...</td>\n",
       "      <td>0</td>\n",
       "      <td>0</td>\n",
       "      <td>0</td>\n",
       "      <td>0</td>\n",
       "      <td>0</td>\n",
       "      <td>0</td>\n",
       "      <td>0</td>\n",
       "      <td>0</td>\n",
       "      <td>9.733282</td>\n",
       "      <td>0.578183</td>\n",
       "    </tr>\n",
       "    <tr>\n",
       "      <th>2</th>\n",
       "      <td>intp</td>\n",
       "      <td>16.72</td>\n",
       "      <td>180.6900</td>\n",
       "      <td>0</td>\n",
       "      <td>0</td>\n",
       "      <td>0</td>\n",
       "      <td>0</td>\n",
       "      <td>0</td>\n",
       "      <td>0</td>\n",
       "      <td>0</td>\n",
       "      <td>...</td>\n",
       "      <td>0</td>\n",
       "      <td>0</td>\n",
       "      <td>0</td>\n",
       "      <td>1</td>\n",
       "      <td>0</td>\n",
       "      <td>0</td>\n",
       "      <td>0</td>\n",
       "      <td>0</td>\n",
       "      <td>12.002575</td>\n",
       "      <td>4.193234</td>\n",
       "    </tr>\n",
       "    <tr>\n",
       "      <th>3</th>\n",
       "      <td>intj</td>\n",
       "      <td>21.28</td>\n",
       "      <td>181.8324</td>\n",
       "      <td>0</td>\n",
       "      <td>0</td>\n",
       "      <td>0</td>\n",
       "      <td>0</td>\n",
       "      <td>0</td>\n",
       "      <td>0</td>\n",
       "      <td>0</td>\n",
       "      <td>...</td>\n",
       "      <td>0</td>\n",
       "      <td>0</td>\n",
       "      <td>1</td>\n",
       "      <td>0</td>\n",
       "      <td>0</td>\n",
       "      <td>0</td>\n",
       "      <td>0</td>\n",
       "      <td>0</td>\n",
       "      <td>9.521256</td>\n",
       "      <td>1.823716</td>\n",
       "    </tr>\n",
       "    <tr>\n",
       "      <th>4</th>\n",
       "      <td>entj</td>\n",
       "      <td>19.34</td>\n",
       "      <td>196.4576</td>\n",
       "      <td>0</td>\n",
       "      <td>0</td>\n",
       "      <td>1</td>\n",
       "      <td>0</td>\n",
       "      <td>0</td>\n",
       "      <td>0</td>\n",
       "      <td>0</td>\n",
       "      <td>...</td>\n",
       "      <td>0</td>\n",
       "      <td>0</td>\n",
       "      <td>0</td>\n",
       "      <td>0</td>\n",
       "      <td>0</td>\n",
       "      <td>0</td>\n",
       "      <td>0</td>\n",
       "      <td>0</td>\n",
       "      <td>11.170195</td>\n",
       "      <td>0.726455</td>\n",
       "    </tr>\n",
       "  </tbody>\n",
       "</table>\n",
       "<p>5 rows × 21 columns</p>\n",
       "</div>"
      ],
      "text/plain": [
       "   type  words_per_comment  variance_of_word_counts  enfj  enfp  entj  entp  \\\n",
       "0  infj              11.12                 135.2900     0     0     0     0   \n",
       "1  entp              23.40                 187.4756     0     0     0     1   \n",
       "2  intp              16.72                 180.6900     0     0     0     0   \n",
       "3  intj              21.28                 181.8324     0     0     0     0   \n",
       "4  entj              19.34                 196.4576     0     0     1     0   \n",
       "\n",
       "   esfj  esfp  estj  ...  infj  infp  intj  intp  isfj  isfp  istj  istp  \\\n",
       "0     0     0     0  ...     1     0     0     0     0     0     0     0   \n",
       "1     0     0     0  ...     0     0     0     0     0     0     0     0   \n",
       "2     0     0     0  ...     0     0     0     1     0     0     0     0   \n",
       "3     0     0     0  ...     0     0     1     0     0     0     0     0   \n",
       "4     0     0     0  ...     0     0     0     0     0     0     0     0   \n",
       "\n",
       "           0         1  \n",
       "0  12.761392  3.539108  \n",
       "1   9.733282  0.578183  \n",
       "2  12.002575  4.193234  \n",
       "3   9.521256  1.823716  \n",
       "4  11.170195  0.726455  \n",
       "\n",
       "[5 rows x 21 columns]"
      ]
     },
     "execution_count": 270,
     "metadata": {},
     "output_type": "execute_result"
    }
   ],
   "source": [
    "result_umap_svd_types.head()"
   ]
  },
  {
   "cell_type": "code",
   "execution_count": 271,
   "metadata": {
    "ExecuteTime": {
     "end_time": "2020-05-25T20:39:42.241958Z",
     "start_time": "2020-05-25T20:39:42.234940Z"
    }
   },
   "outputs": [
    {
     "data": {
      "text/plain": [
       "(8675, 21)"
      ]
     },
     "execution_count": 271,
     "metadata": {},
     "output_type": "execute_result"
    }
   ],
   "source": [
    "result_umap_svd_types.shape"
   ]
  },
  {
   "cell_type": "code",
   "execution_count": 272,
   "metadata": {
    "ExecuteTime": {
     "end_time": "2020-05-25T20:39:42.853034Z",
     "start_time": "2020-05-25T20:39:42.822116Z"
    }
   },
   "outputs": [],
   "source": [
    "def sampling_k_elements(group, k=39):\n",
    "    if len(group) < k:\n",
    "        return group\n",
    "    return group.sample(k)\n",
    "\n",
    "balanced_umap_svd = result_umap_svd_types.groupby(\"type\").apply(sampling_k_elements).reset_index(drop=True)"
   ]
  },
  {
   "cell_type": "code",
   "execution_count": 273,
   "metadata": {
    "ExecuteTime": {
     "end_time": "2020-05-25T20:39:43.444530Z",
     "start_time": "2020-05-25T20:39:43.437522Z"
    }
   },
   "outputs": [],
   "source": [
    "X = balanced_umap_svd.drop([\"type\",\"enfj\", \"enfp\", \"entj\", \"entp\", \"esfj\", \"esfp\", \"estj\", \"estp\",\"infj\", \"infp\", \"intj\",\n",
    "                               \"intp\", \"isfj\", \"isfp\", \"istj\", \"istp\"], axis=1).values\n",
    "y = balanced_umap_svd[\"type\"].values"
   ]
  },
  {
   "cell_type": "code",
   "execution_count": 274,
   "metadata": {
    "ExecuteTime": {
     "end_time": "2020-05-25T20:39:44.042902Z",
     "start_time": "2020-05-25T20:39:44.033927Z"
    },
    "scrolled": true
   },
   "outputs": [
    {
     "name": "stdout",
     "output_type": "stream",
     "text": [
      "(499, 4) (499,) (125, 4) (125,)\n"
     ]
    }
   ],
   "source": [
    "X_train, X_test, y_train, y_test = train_test_split(X, y, random_state=42, test_size=0.2)\n",
    "print ((X_train.shape),(y_train.shape),(X_test.shape),(y_test.shape))"
   ]
  },
  {
   "cell_type": "code",
   "execution_count": 275,
   "metadata": {
    "ExecuteTime": {
     "end_time": "2020-05-25T20:39:44.672210Z",
     "start_time": "2020-05-25T20:39:44.662246Z"
    }
   },
   "outputs": [],
   "source": [
    "def baseline_report(model, X_train, X_test, y_train, y_test, name):\n",
    "    strat_k_fold = StratifiedKFold(n_splits=5, shuffle=True)\n",
    "    model.fit(X_train, y_train)\n",
    "    accuracy     = np.mean(cross_val_score(model, X_train, y_train, cv=strat_k_fold, scoring='accuracy'))\n",
    "    precision    = np.mean(cross_val_score(model, X_train, y_train, cv=strat_k_fold, scoring='precision_weighted'))\n",
    "    recall       = np.mean(cross_val_score(model, X_train, y_train, cv=strat_k_fold, scoring='recall_weighted'))\n",
    "    f1score      = np.mean(cross_val_score(model, X_train, y_train, cv=strat_k_fold, scoring='f1_weighted'))\n",
    "    rocauc_ovr   = np.mean(cross_val_score(model, X_train, y_train, cv=strat_k_fold, scoring='roc_auc_ovr_weighted'))\n",
    "    rocauc_ovo   = np.mean(cross_val_score(model, X_train, y_train, cv=strat_k_fold, scoring='roc_auc_ovo_weighted'))\n",
    "    y_pred = model.predict(X_test)\n",
    "    mcm = multilabel_confusion_matrix(y_test, y_pred)\n",
    "    tn = mcm[:, 0, 0]\n",
    "    tp = mcm[:, 1, 1]\n",
    "    fn = mcm[:, 1, 0]\n",
    "    fp = mcm[:, 0, 1]\n",
    "    specificities = tn / (tn+fp)\n",
    "    specificity = (specificities.sum())/ 16\n",
    "\n",
    "    df_model = pd.DataFrame({'model'        : [name],\n",
    "                             'accuracy'     : [accuracy],\n",
    "                             'precision'    : [precision],\n",
    "                             'recall'       : [recall],\n",
    "                             'f1score'      : [f1score],\n",
    "                             'rocauc_ovr'   : [rocauc_ovr],\n",
    "                             'rocauc_ovo'   : [rocauc_ovo],\n",
    "                             'specificity': [specificity]\n",
    "                            })   \n",
    "    return df_model"
   ]
  },
  {
   "cell_type": "code",
   "execution_count": 276,
   "metadata": {
    "ExecuteTime": {
     "end_time": "2020-05-25T20:39:45.577397Z",
     "start_time": "2020-05-25T20:39:45.562436Z"
    }
   },
   "outputs": [],
   "source": [
    "models = {'gnb': GaussianNB(),\n",
    "          'logit': LogisticRegression(),\n",
    "          'knn': KNeighborsClassifier(),\n",
    "          'decisiontree': DecisionTreeClassifier(),\n",
    "          'randomforest': RandomForestClassifier(),\n",
    "          'xgboost': GradientBoostingClassifier(),\n",
    "          'MLPC': MLPClassifier()\n",
    "         }"
   ]
  },
  {
   "cell_type": "code",
   "execution_count": 277,
   "metadata": {
    "ExecuteTime": {
     "end_time": "2020-05-25T20:41:06.139365Z",
     "start_time": "2020-05-25T20:39:46.504529Z"
    },
    "scrolled": false
   },
   "outputs": [
    {
     "data": {
      "text/html": [
       "<div>\n",
       "<style scoped>\n",
       "    .dataframe tbody tr th:only-of-type {\n",
       "        vertical-align: middle;\n",
       "    }\n",
       "\n",
       "    .dataframe tbody tr th {\n",
       "        vertical-align: top;\n",
       "    }\n",
       "\n",
       "    .dataframe thead th {\n",
       "        text-align: right;\n",
       "    }\n",
       "</style>\n",
       "<table border=\"1\" class=\"dataframe\">\n",
       "  <thead>\n",
       "    <tr style=\"text-align: right;\">\n",
       "      <th></th>\n",
       "      <th>model</th>\n",
       "      <th>accuracy</th>\n",
       "      <th>precision</th>\n",
       "      <th>recall</th>\n",
       "      <th>f1score</th>\n",
       "      <th>rocauc_ovr</th>\n",
       "      <th>rocauc_ovo</th>\n",
       "      <th>specificity</th>\n",
       "    </tr>\n",
       "  </thead>\n",
       "  <tbody>\n",
       "    <tr>\n",
       "      <th>0</th>\n",
       "      <td>gnb</td>\n",
       "      <td>0.154404</td>\n",
       "      <td>0.118007</td>\n",
       "      <td>0.146303</td>\n",
       "      <td>0.133287</td>\n",
       "      <td>0.670548</td>\n",
       "      <td>0.668227</td>\n",
       "      <td>0.944934</td>\n",
       "    </tr>\n",
       "    <tr>\n",
       "      <th>0</th>\n",
       "      <td>logit</td>\n",
       "      <td>0.122323</td>\n",
       "      <td>0.102271</td>\n",
       "      <td>0.142242</td>\n",
       "      <td>0.095700</td>\n",
       "      <td>0.639281</td>\n",
       "      <td>0.640630</td>\n",
       "      <td>0.943013</td>\n",
       "    </tr>\n",
       "    <tr>\n",
       "      <th>0</th>\n",
       "      <td>knn</td>\n",
       "      <td>0.066162</td>\n",
       "      <td>0.062883</td>\n",
       "      <td>0.056020</td>\n",
       "      <td>0.053131</td>\n",
       "      <td>0.505077</td>\n",
       "      <td>0.493911</td>\n",
       "      <td>0.940776</td>\n",
       "    </tr>\n",
       "    <tr>\n",
       "      <th>0</th>\n",
       "      <td>decisiontree</td>\n",
       "      <td>0.232545</td>\n",
       "      <td>0.280748</td>\n",
       "      <td>0.266465</td>\n",
       "      <td>0.233748</td>\n",
       "      <td>0.593971</td>\n",
       "      <td>0.589949</td>\n",
       "      <td>0.949278</td>\n",
       "    </tr>\n",
       "    <tr>\n",
       "      <th>0</th>\n",
       "      <td>randomforest</td>\n",
       "      <td>0.300707</td>\n",
       "      <td>0.312663</td>\n",
       "      <td>0.282626</td>\n",
       "      <td>0.283425</td>\n",
       "      <td>0.704815</td>\n",
       "      <td>0.706090</td>\n",
       "      <td>0.951350</td>\n",
       "    </tr>\n",
       "    <tr>\n",
       "      <th>0</th>\n",
       "      <td>xgboost</td>\n",
       "      <td>0.244545</td>\n",
       "      <td>0.255359</td>\n",
       "      <td>0.250505</td>\n",
       "      <td>0.240886</td>\n",
       "      <td>0.664545</td>\n",
       "      <td>0.674436</td>\n",
       "      <td>0.953061</td>\n",
       "    </tr>\n",
       "    <tr>\n",
       "      <th>0</th>\n",
       "      <td>NN</td>\n",
       "      <td>0.102182</td>\n",
       "      <td>0.114488</td>\n",
       "      <td>0.110141</td>\n",
       "      <td>0.097363</td>\n",
       "      <td>0.602849</td>\n",
       "      <td>0.620728</td>\n",
       "      <td>0.942461</td>\n",
       "    </tr>\n",
       "  </tbody>\n",
       "</table>\n",
       "</div>"
      ],
      "text/plain": [
       "          model  accuracy  precision    recall   f1score  rocauc_ovr  \\\n",
       "0           gnb  0.154404   0.118007  0.146303  0.133287    0.670548   \n",
       "0         logit  0.122323   0.102271  0.142242  0.095700    0.639281   \n",
       "0           knn  0.066162   0.062883  0.056020  0.053131    0.505077   \n",
       "0  decisiontree  0.232545   0.280748  0.266465  0.233748    0.593971   \n",
       "0  randomforest  0.300707   0.312663  0.282626  0.283425    0.704815   \n",
       "0       xgboost  0.244545   0.255359  0.250505  0.240886    0.664545   \n",
       "0            NN  0.102182   0.114488  0.110141  0.097363    0.602849   \n",
       "\n",
       "   rocauc_ovo  specificity  \n",
       "0    0.668227     0.944934  \n",
       "0    0.640630     0.943013  \n",
       "0    0.493911     0.940776  \n",
       "0    0.589949     0.949278  \n",
       "0    0.706090     0.951350  \n",
       "0    0.674436     0.953061  \n",
       "0    0.620728     0.942461  "
      ]
     },
     "execution_count": 277,
     "metadata": {},
     "output_type": "execute_result"
    }
   ],
   "source": [
    "# Evaluation of models\n",
    "models_df = pd.concat([baseline_report(model, X_train, X_test, y_train, y_test, name) for (name, model) in models.items()])\n",
    "models_df.to_csv(\"data/output_csv/models_umap_svd_resampled.csv\")\n",
    "models_df"
   ]
  }
 ],
 "metadata": {
  "colab": {
   "collapsed_sections": [],
   "name": "3_MBTI Model building and evaluation.ipynb",
   "provenance": [],
   "toc_visible": true
  },
  "kernelspec": {
   "display_name": "Python 3",
   "language": "python",
   "name": "python3"
  },
  "varInspector": {
   "cols": {
    "lenName": 16,
    "lenType": 16,
    "lenVar": 40
   },
   "kernels_config": {
    "python": {
     "delete_cmd_postfix": "",
     "delete_cmd_prefix": "del ",
     "library": "var_list.py",
     "varRefreshCmd": "print(var_dic_list())"
    },
    "r": {
     "delete_cmd_postfix": ") ",
     "delete_cmd_prefix": "rm(",
     "library": "var_list.r",
     "varRefreshCmd": "cat(var_dic_list()) "
    }
   },
   "types_to_exclude": [
    "module",
    "function",
    "builtin_function_or_method",
    "instance",
    "_Feature"
   ],
   "window_display": false
  }
 },
 "nbformat": 4,
 "nbformat_minor": 1
}
